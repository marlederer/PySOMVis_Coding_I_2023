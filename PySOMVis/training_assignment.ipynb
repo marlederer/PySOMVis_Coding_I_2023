{
 "cells": [
  {
   "cell_type": "code",
   "execution_count": 4,
   "id": "28820aea",
   "metadata": {},
   "outputs": [],
   "source": [
    "# Read data from Java SOMToolbox\n",
    "from SOMToolBox_Parse import SOMToolBox_Parse\n",
    "idata   = SOMToolBox_Parse(\"datasets\\\\iris\\\\iris.vec\").read_weight_file()\n",
    "weights = SOMToolBox_Parse(\"datasets\\\\iris\\\\iris.wgt.gz\").read_weight_file()\n",
    "classes = SOMToolBox_Parse(\"datasets\\\\iris\\\\iris.cls\").read_weight_file()"
   ]
  },
  {
   "cell_type": "code",
   "execution_count": 5,
   "id": "99c6677b",
   "metadata": {},
   "outputs": [
    {
     "data": {
      "application/vnd.jupyter.widget-view+json": {
       "model_id": "7e178ec48c9043eab8d04e76840c1802",
       "version_major": 2,
       "version_minor": 0
      },
      "text/plain": [
       "BokehModel(combine_events=True, render_bundle={'docs_json': {'1f37f602-ba91-4d31-bbd7-b823bf2a9175': {'version…"
      ]
     },
     "execution_count": 5,
     "metadata": {},
     "output_type": "execute_result"
    }
   ],
   "source": [
    "# Visualization by PySOMVis\n",
    "from pysomvis import PySOMVis\n",
    "\n",
    "vis = PySOMVis(weights=weights['arr'], m=weights['ydim'],n=weights['xdim'],\n",
    "                dimension=weights['vec_dim'], input_data=idata['arr'],\n",
    "                classes=classes['arr'][:,1], component_names=classes['classes_names'])\n",
    "vis._mainview"
   ]
  },
  {
   "cell_type": "code",
   "execution_count": 3,
   "id": "5c6d9d9e",
   "metadata": {},
   "outputs": [
    {
     "data": {
      "application/vnd.jupyter.widget-view+json": {
       "model_id": "2e7195725664494387c60a1b2aedcb8e",
       "version_major": 2,
       "version_minor": 0
      },
      "text/plain": [
       "BokehModel(combine_events=True, render_bundle={'docs_json': {'6b3aa48e-43cc-43ae-ab56-d15c1d1632e3': {'version…"
      ]
     },
     "execution_count": 3,
     "metadata": {},
     "output_type": "execute_result"
    }
   ],
   "source": [
    "# Use any library for training SOM map (e.x. MiniSOM, SOMOClu, SOMpy, PopSOM etc.)\n",
    "from pysomvis import PySOMVis\n",
    "from minisom import MiniSom    \n",
    "\n",
    "som = MiniSom(10, 10, 3)\n",
    "som.train(idata['arr'], 10000)\n",
    "\n",
    "vis = PySOMVis(weights=som._weights, input_data=idata['arr'])\n",
    "vis._mainview"
   ]
  }
 ],
 "metadata": {
  "kernelspec": {
   "display_name": "Python 3 (ipykernel)",
   "language": "python",
   "name": "python3"
  },
  "language_info": {
   "codemirror_mode": {
    "name": "ipython",
    "version": 3
   },
   "file_extension": ".py",
   "mimetype": "text/x-python",
   "name": "python",
   "nbconvert_exporter": "python",
   "pygments_lexer": "ipython3",
   "version": "3.11.7"
  }
 },
 "nbformat": 4,
 "nbformat_minor": 5
}
