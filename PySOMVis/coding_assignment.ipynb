{
 "cells": [
  {
   "cell_type": "markdown",
   "id": "eafc00ce",
   "metadata": {},
   "source": [
    "# Coding Assignment Group I 1"
   ]
  },
  {
   "cell_type": "code",
   "execution_count": null,
   "id": "c7cf75c3",
   "metadata": {},
   "outputs": [],
   "source": [
    "import numpy as np\n",
    "import os\n",
    "from SOMToolBox_Parse import SOMToolBox_Parse\n",
    "from minisom import MiniSom"
   ]
  },
  {
   "cell_type": "markdown",
   "id": "17e2b979",
   "metadata": {},
   "source": [
    "## Datasets"
   ]
  },
  {
   "cell_type": "code",
   "execution_count": null,
   "id": "48f7e6a9",
   "metadata": {},
   "outputs": [],
   "source": [
    "dataset_str = \"chainlink\"\n",
    "\n",
    "## Specify the vector and weight data to use for the following visualizations\n",
    "idata_path_train = os.path.join(\"datasets\", dataset_str, dataset_str + \".vec\")\n",
    "weights_path_train = os.path.join(\"datasets\", dataset_str, dataset_str + \".wgt.gz\")\n",
    "classes_path_train = os.path.join(\"datasets\", dataset_str, dataset_str + \".cls\")\n",
    "\n",
    "# Parse provided dataset files using the SOMToolbox Parser\n",
    "idata_chainlink = SOMToolBox_Parse(idata_path_train).read_weight_file()\n",
    "weights_chainlink = SOMToolBox_Parse(weights_path_train).read_weight_file()\n",
    "classes_chainlink = SOMToolBox_Parse(classes_path_train).read_weight_file()\n",
    "\n",
    "dim_chainlink = weights_chainlink['vec_dim']\n",
    "\n",
    "dataset_str = \"10clusters\"\n",
    "\n",
    "## Specify the vector and weight data to use for the following visualizations\n",
    "idata_path_train = os.path.join(\"datasets\", dataset_str, dataset_str + \".vec\")\n",
    "weights_path_train = os.path.join(\"datasets\", dataset_str, dataset_str + \".wgt.gz\")\n",
    "classes_path_train = os.path.join(\"datasets\", dataset_str, dataset_str + \".cls\")\n",
    "\n",
    "idata_10cluster = SOMToolBox_Parse(idata_path_train).read_weight_file()\n",
    "weights_10cluster = SOMToolBox_Parse(weights_path_train).read_weight_file()\n",
    "classes_10cluster = SOMToolBox_Parse(classes_path_train).read_weight_file()\n",
    "\n",
    "dim_10cluster = weights_10cluster['vec_dim']"
   ]
  },
  {
   "cell_type": "code",
   "execution_count": null,
   "id": "a7c286f6",
   "metadata": {},
   "outputs": [],
   "source": [
    "# Default Dataset\n",
    "\n",
    "data_path = \"datasets\\\\iris\\\\iris.vec\"\n",
    "weight_path = \"datasets\\\\iris\\\\iris.wgt.gz\"\n",
    "\n",
    "data_path_ch = \"datasets\\\\chainlink\\\\chainlink.vec\"\n",
    "weight_path_ch = \"datasets\\\\chainlink\\\\chainlink.wgt.gz\"\n",
    "\n",
    "idata = SOMToolBox_Parse(data_path).read_weight_file()\n",
    "weights = SOMToolBox_Parse(weight_path).read_weight_file()\n",
    "classes = SOMToolBox_Parse(\"datasets\\\\iris\\\\iris.cls\").read_weight_file()\n",
    "\n",
    "idata_ch = SOMToolBox_Parse(data_path_ch).read_weight_file()\n",
    "weights_ch = SOMToolBox_Parse(weight_path_ch).read_weight_file()\n",
    "classes_ch = SOMToolBox_Parse(\"datasets\\\\chainlink\\\\chainlink.cls\").read_weight_file()"
   ]
  },
  {
   "cell_type": "markdown",
   "id": "3c97082c",
   "metadata": {},
   "source": [
    "## Matrices for saturation"
   ]
  },
  {
   "cell_type": "code",
   "execution_count": null,
   "id": "259a4e48",
   "metadata": {},
   "outputs": [],
   "source": [
    "#HitHistogram\n",
    "def HitHist(_m, _n, _weights,_idata):\n",
    "    hist = np.zeros(_m * _n)\n",
    "    for vector in _idata: \n",
    "        position =np.argmin(np.sqrt(np.sum(np.power(_weights - vector, 2), axis=1)))\n",
    "        hist[position] += 1\n",
    "\n",
    "    return hist.reshape(_m, _n)\n",
    "\n",
    "#U-Matrix - implementation\n",
    "def UMatrix(_m, _n, _weights, _dim):\n",
    "    U = _weights.reshape(_m, _n, _dim)\n",
    "    U = np.insert(U, np.arange(1, _n), values=0, axis=1)\n",
    "    U = np.insert(U, np.arange(1, _m), values=0, axis=0)\n",
    "    #calculate interpolation\n",
    "    for i in range(U.shape[0]): \n",
    "        if i%2==0:\n",
    "            for j in range(1,U.shape[1],2):\n",
    "                U[i,j][0] = np.linalg.norm(U[i,j-1] - U[i,j+1], axis=-1)\n",
    "        else:\n",
    "            for j in range(U.shape[1]):\n",
    "                if j%2==0: \n",
    "                    U[i,j][0] = np.linalg.norm(U[i-1,j] - U[i+1,j], axis=-1)\n",
    "                else:      \n",
    "                    U[i,j][0] = (np.linalg.norm(U[i-1,j-1] - U[i+1,j+1], axis=-1) + np.linalg.norm(U[i+1,j-1] - U[i-1,j+1], axis=-1))/(2*np.sqrt(2))\n",
    "\n",
    "    U = np.sum(U, axis=2) #move from Vector to Scalar\n",
    "\n",
    "    for i in range(0, U.shape[0], 2): #count new values\n",
    "        for j in range(0, U.shape[1], 2):\n",
    "            region = []\n",
    "            if j>0: region.append(U[i][j-1]) #check left border\n",
    "            if i>0: region.append(U[i-1][j]) #check bottom\n",
    "            if j<U.shape[1]-1: region.append(U[i][j+1]) #check right border\n",
    "            if i<U.shape[0]-1: region.append(U[i+1][j]) #check upper border\n",
    "\n",
    "            U[i,j] = np.median(region)\n",
    "\n",
    "    return U\n",
    "\n",
    "#SDH - implementation\n",
    "def SDH(_m, _n, _weights,_idata, factor, approach):\n",
    "    import heapq\n",
    "\n",
    "    sdh_m = np.zeros( _m * _n)\n",
    "\n",
    "    cs=0\n",
    "    for i in range(factor): cs += factor-i\n",
    "\n",
    "    for vector in _idata:\n",
    "        dist = np.sqrt(np.sum(np.power(_weights - vector, 2), axis=1))\n",
    "        c = heapq.nsmallest(factor, range(len(dist)), key=dist.__getitem__)\n",
    "        if (approach==0): # normalized\n",
    "            for j in range(factor):  sdh_m[c[j]] += (factor-j)/cs \n",
    "        if (approach==1):# based on distance\n",
    "            for j in range(factor): sdh_m[c[j]] += 1.0/dist[c[j]] \n",
    "        if (approach==2): \n",
    "            dmin, dmax = min(dist[c]), max(dist[c])\n",
    "            for j in range(factor): sdh_m[c[j]] += 1.0 - (dist[c[j]]-dmin)/(dmax-dmin)\n",
    "\n",
    "    return sdh_m.reshape(_m, _n)\n",
    "\n",
    "def PMatrix(_m, _n, _weights, _idata, _radius):\n",
    "    distance = lambda v: np.sum(np.linalg.norm(_idata[:, None, :] - v, axis=-1) < _radius)\n",
    "    plot = np.array([distance(v) for v in _weights])\n",
    "    pm = plot.reshape(_m, _n)  # Reshape according to your matrix dimensions\n",
    "    return pm\n",
    "\n",
    "def UStarMatrix(_m, _n, _weights,_idata, _dim, _radius):\n",
    "    um = UMatrix(_m, _n, _weights, _dim)\n",
    "    pm = PMatrix(_m, _n, _weights,_idata, _radius)\n",
    "    um = um[0::2,0::2].reshape(1,-1)[0] # u-matrix\n",
    "    pm = pm.reshape(1,-1)[0]   # p-matrix\n",
    "    ustarm = []\n",
    "    \n",
    "    meanP = np.mean(pm)\n",
    "    maxP  = np.max(pm)\n",
    "    diff = meanP - maxP\n",
    "    \n",
    "    n = pm.size\n",
    "    for i in range(n):\n",
    "        scaleFactor = (pm[i] - meanP) / diff + 1\n",
    "        ustarm.append(um[i] * scaleFactor)\n",
    "    plot = np.array(ustarm)\n",
    "    ustart = plot.reshape(_m, _n)\n",
    "    return ustart"
   ]
  },
  {
   "cell_type": "markdown",
   "id": "2e8cd5ee",
   "metadata": {},
   "source": [
    "### Visualistazion for saturation matrices"
   ]
  },
  {
   "cell_type": "code",
   "execution_count": null,
   "id": "72c32c12",
   "metadata": {},
   "outputs": [],
   "source": [
    "import holoviews as hv\n",
    "hv.extension('bokeh')\n",
    "um = hv.Image(UMatrix(weights['ydim'], weights['ydim'], weights['arr'], 4)).opts(xaxis=None, yaxis=None) \n",
    "sdh = hv.Image(SDH(weights['ydim'], weights['ydim'], weights['arr'], idata['arr'], 25, 0)).opts(xaxis=None, yaxis=None)\n",
    "pm = hv.Image(PMatrix(weights['ydim'], weights['ydim'], weights['arr'], idata['arr'], 1.2)).opts(xaxis=None, yaxis=None)\n",
    "usm = hv.Image(UStarMatrix(weights['ydim'], weights['ydim'], weights['arr'], idata['arr'], 4, 1.2)).opts(xaxis=None, yaxis=None)\n",
    "\n",
    "hv.Layout([um.relabel('U-Matrix').opts(cmap='jet'), sdh.relabel('SDH').opts(cmap='viridis'),pm.relabel('P-Matrix').opts(cmap='jet'),usm.relabel('UStar-Matrix').opts(cmap='jet')])"
   ]
  },
  {
   "cell_type": "markdown",
   "id": "cdedaa55",
   "metadata": {},
   "source": [
    "## Own Implementations (Chessboard with saturation)"
   ]
  },
  {
   "cell_type": "code",
   "execution_count": null,
   "id": "130c4a3b",
   "metadata": {},
   "outputs": [],
   "source": [
    "from scipy.spatial import Voronoi\n",
    "from skimage.draw import polygon\n",
    "from skimage.color import rgb2hsv, hsv2rgb\n",
    "from holoviews.streams import Pipe\n",
    "import matplotlib.pyplot as plt\n",
    "import math\n",
    "\n",
    "_pipe = Pipe(data=[])\n",
    "_pipe_points = Pipe(data=[])\n",
    "_pipe_paths = Pipe(data=[])\n",
    "\n",
    "def dist_point_to_segment(pixels, s0, s1=None):\n",
    "\t\"\"\"\n",
    "\tGet the distance of a point to a segment or point.\n",
    "\t\t*p*, *s0*, *s1* are *xy* sequences\n",
    "\tThis algorithm is from http://geomalgorithms.com/a02-_lines.html\n",
    "\t\"\"\"\n",
    "\tdistances = []\n",
    "\tif s1 is None: #distance between points and point\n",
    "\t\tdistances = np.linalg.norm(pixels[:, None, :] - s0, axis=-1)\n",
    "\telse:          #distance between point and line segment\n",
    "\t\tdist = lambda x,y: round(np.linalg.norm(x-y),1)\n",
    "\t\tfor p in pixels:        \n",
    "\t\t\tv,   w = s1 - s0, p - s0\n",
    "\t\t\tc1, c2 = np.dot(w, v), np.dot(v, v)\n",
    "\t\t\tb = c1 / c2\n",
    "\t\t\tpb = s0 + b * v\n",
    "\t\t\tif c1 <= 0:    distances.append(dist(p,s0))\n",
    "\t\t\telif c2 <= c1: distances.append(dist(p,s1))\n",
    "\t\t\telse:          distances.append(dist(p,pb))\n",
    "\tdistances = np.column_stack((pixels,distances))\n",
    "\tdistances = distances[distances[:, -1].argsort()] #sort distances\n",
    "\treturn distances[:,0:2].astype(int)\n",
    "\n",
    "def check_polygon_intersection(polygons, get_vertices):\n",
    "\t\"\"\"\n",
    "\tReturn shared vertex between polygons\n",
    "\t\"\"\"\n",
    "\tfor i in range(len(polygons)):\n",
    "\t\tfor j in range(i+1,len(polygons)): \n",
    "\t\t\tpoly1 = get_vertices(polygons[i])\n",
    "\t\t\tpoly2 = get_vertices(polygons[j])\n",
    "\t\t\tshared_vertex = np.intersect1d(poly1, poly2)\n",
    "\t\t\tif shared_vertex.size==1: return (shared_vertex, poly1, poly2)\n",
    "\treturn None\n",
    "\n",
    "def _interpolation(interpolation):\n",
    "        if interpolation:\n",
    "            _pipe.send(resize(_pipe.data, (1000, 1000)))\n",
    "\n",
    "def convert_to_xy(_m, _n, neuron=None, point2D=None):\n",
    "        scale = lambda a,b,x,minx,maxx: (b-a)*((x-minx)/(maxx-minx))+a  # adjust to -0.5 to 0.5 because of holoviews Image\n",
    "        y, x = 0, 0\n",
    "        if neuron is not None:   y, x = np.unravel_index(neuron, (_m, _n))\n",
    "        if point2D is not None:  y, x = point2D[1], point2D[0]\n",
    "        y = scale(-0.5, 0.5, y, -0.5, _m-0.5)\n",
    "        x = scale(-0.5, 0.5, x, -0.5, _n-0.5)\n",
    "        return x, -1*y\n",
    "\n",
    "def display(_m, _n, plot=None, paths=None, points=None, interpolation=False):\n",
    "        if plot is not None: \n",
    "            if _m==1:  plot = np.vstack([plot, plot])  # hv.Image doesn't work with one line input\n",
    "            if _n==1:  plot = np.c_[plot, plot]        # hv.Image doesn't work with one line input\n",
    "            if interpolation: plot = resize(plot, (1000, 1000))\n",
    "            _pipe.send(plot)\n",
    "        if paths is not None:\n",
    "            _pipe_paths.send(paths)\n",
    "        if points is not None:\n",
    "            _pipe_points.send(points)\n",
    "\n",
    "def Chessboard(_m, _n, _weights, _idata, _classes, _dim, _dpi, _voronoi_lines, _chessboard, interpolation, saturationIntensity, matrix):\n",
    "\tclasses = [0] * (_m * _n)\n",
    "\tgrid = _m * _n\n",
    "\tn_classes = np.unique(_classes).tolist()\n",
    "\tmapped_data = np.zeros(grid * len(n_classes), dtype=int).reshape(grid,-1)\n",
    "\n",
    "\tbmu = np.apply_along_axis(lambda x: np.argmin( np.linalg.norm(\n",
    "\t\t_weights - x.reshape((1, _dim)), axis=1)), 1,_idata)\n",
    "\n",
    "\tfor i in range(len(_classes)):\n",
    "\t\tc = n_classes.index(_classes[i])\n",
    "\t\tu = bmu[i]\n",
    "\t\tmapped_data[u][c] += 1\n",
    "\n",
    "\tvpoints = []\n",
    "\tdummy=[]\n",
    "\t# position becomes a vpoint if it has a non-empty class array\n",
    "\tfor position, v in enumerate(mapped_data):\n",
    "\t\tif sum(v) > 0:\n",
    "\t\t\tx,y = position % _n, position // _n\n",
    "\t\t\tvpoints.append([x, y])\n",
    "\n",
    "\t\t    #dummy vetices for finit polygons\n",
    "\t\t\tif x == 0:                        \t  dummy.append([-1, y])\n",
    "\t\t\tif x == _n-1:              dummy.append([_n, y])\n",
    "\t\t\tif y == 0:                            dummy.append([x, -1])\n",
    "\t\t\tif y == _m-1:              dummy.append([x, _m])\n",
    "\t\t\tif x == 0 and y == 0:                 dummy.append([-1, -1])\n",
    "\t\t\tif x == _n-1 and y == _m-1: \n",
    "\t\t\t\tdummy.append([_n, _m])    \n",
    "\t\t\tif x == _n-1 and y == 0:   dummy.append([_n, -1])\n",
    "\t\t\tif x == 0 and y == _m-1:   dummy.append([-1, _m])\n",
    "\t\t            \n",
    "\tmapped_data = mapped_data[~np.all(mapped_data == 0, axis=1)]\n",
    "\tvpoints = dummy + vpoints\n",
    "\n",
    "\t# compute Voronoi tesselation\n",
    "\tvdiagram = Voronoi(vpoints)\n",
    "\tvdiagram.close() #release memory\n",
    "\n",
    "\tdpi = 100 if _dpi else 10\n",
    "\n",
    "\tget_vertices = lambda x: vdiagram.regions[vdiagram.point_region[x]]\n",
    "\tget_coordinates = lambda x: (vdiagram.vertices[x]+0.5)*dpi\n",
    "\tplot = np.zeros((_n*dpi, _m*dpi), dtype=int)\n",
    "\n",
    "\tfor position in range(len(dummy), len(vpoints)):\n",
    "\t\tpolygon_cur = get_vertices(position)\n",
    "\t\tpoly = get_coordinates(polygon_cur)\n",
    "\t\trr, cc = polygon(poly[:,0], poly[:,1])\n",
    "\t\t    \n",
    "\t\t#sometimes it is needed :) \n",
    "\t\trr = rr[cc<plot.shape[1]]\n",
    "\t\tcc = cc[cc<plot.shape[1]]\n",
    "\t\tcc = cc[rr<plot.shape[0]]\n",
    "\t\trr = rr[rr<plot.shape[0]]\n",
    "\t\t#end\n",
    "\n",
    "\t\tcolors = mapped_data[position-len(dummy)]\n",
    "\t\tperc = np.round(colors/np.linalg.norm(colors,1.0), 3) # percentages (ratios) array\n",
    "\t\tdominant_color = np.argmax(colors)\n",
    "\t\tcolors_ind = np.nonzero(mapped_data[position-len(dummy)])[0]\n",
    "\t\tplot[rr,cc] = dominant_color\n",
    "\t\tcolors_ind = colors_ind[colors_ind!=dominant_color] #we don't need dominant color any more\n",
    "\t\tif len(colors_ind) > 0:\n",
    "\t\t\tpixels = np.column_stack((rr,cc))\n",
    "\t\t\ttotal_pixels = len(pixels)\n",
    "\t\t\tcentroid = pixels.mean(0) #get center of the current region\n",
    "\n",
    "\t\t\tif _chessboard:\n",
    "\t\t\t\tnp.random.shuffle(pixels)\n",
    "\t\t\t\tchunks = np.split(pixels, (len(pixels)*perc[:-1].cumsum()).astype(int)) #split pixels accordingly percentages\n",
    "\t\t\t\tfor c, pixels  in enumerate(chunks):\n",
    "\t\t\t\t\tplot[pixels[:,0],pixels[:,1]] = c \n",
    "\t\t\telse:\n",
    "\t\t        #find neighbours of current polygon\n",
    "\t\t\t\tneighbours = vdiagram.ridge_points[(vdiagram.ridge_points==position).any(axis=1) \n",
    "\t\t\t\t\t                                & (vdiagram.ridge_points>=len(dummy)).all(axis=1)]\n",
    "\t\t\t\tneighbours = neighbours[neighbours!=position].flatten() #remove the current region form neighb\t\t\t\t\t\n",
    "\t\t\t\t#get colors of all neighbors\n",
    "\t\t\t\tneighbours_colors = np.insert(mapped_data[neighbours-len(dummy)], mapped_data.shape[1], neighbours, axis=1)\n",
    "\t\t            \n",
    "\t\t\t\tfor c in colors_ind: #go over all colors of polygon\n",
    "\t\t\t\t\tpixels = pixels[plot[pixels[:,0],pixels[:,1]] == dominant_color] #we can change only pixels colored in dominant color\n",
    "\t\t\t\t\tpoint1, point2 = None, None\n",
    "\n",
    "\t\t\t\t\tnc = neighbours_colors[neighbours_colors[:,c]>0] #check how many neighbours have the same colour\n",
    "\t\t\t\t\tif   len(nc)==0: point1, point2 = centroid, None # color is isolated, no neighbours with the same color\n",
    "\t\t\t\t\telif len(nc)==1: # there is only one neighbour with the same color\n",
    "\t\t\t\t\t\tneighbour = get_vertices(nc[:,-1][0])\n",
    "\t\t\t\t\t\tadjacent_border = get_coordinates(np.intersect1d(polygon_cur, neighbour))\n",
    "\n",
    "\t\t\t\t\t\t#check if neighbor has only dominant color\n",
    "\t\t\t\t\t\tif (nc[nc>0].size-1==1): point1, point2 = adjacent_border[1], adjacent_border[0] #if this color is dominant color for neighbor - consider adjacent border\n",
    "\t\t\t\t\t\telse:                    point1, point2 = centroid, adjacent_border.mean(0)      #else consider line segment from center to border\n",
    "\t\t                        \n",
    "\t\t\t\t\telif len(nc)>1: #if we have a set of neighbours with the same color\n",
    "\t\t                   \n",
    "\t\t\t\t\t\tdominant = []\n",
    "\t\t\t\t\t\tnot_dominant = []\n",
    "\t\t\t\t\t\tfor n in nc: #divide set on dominant and not\n",
    "\t\t\t\t\t\t\tif n[n>0].size-1==1: dominant.append(n[-1])\n",
    "\t\t\t\t\t\t\telse:                not_dominant.append(n[-1])\n",
    "\t\t                    \n",
    "\t\t\t\t\t\tif len(dominant)>0: #consider dominant color of neighbors - first\n",
    "\t\t\t\t\t\t\tintersection = check_polygon_intersection(dominant, get_vertices)\n",
    "\t\t\t\t\t\t\tif intersection is not None: #check iintersection of neighbors with the same color\n",
    "\t\t\t\t\t\t\t\tpoint1, point2 = get_coordinates(intersection[0]), None\n",
    "\t\t\t\t\t\t\telse:\n",
    "\t\t\t\t\t\t\t\tneighbour = get_vertices(dominant[0]) # no intersection - take first neighbour\n",
    "\t\t\t\t\t\t\t\tadjacent_border = get_coordinates(np.intersect1d(polygon_cur, neighbour))\n",
    "\t\t\t\t\t\t\t\tpoint1, point2 = adjacent_border[0], adjacent_border[1]                      \n",
    "\t\t\t\t\t\telse: #same for neighbours which have the same color but not dominant\n",
    "\t\t\t\t\t\t\tintersection = check_polygon_intersection(not_dominant, get_vertices)\n",
    "\t\t\t\t\t\t\tif intersection is not None:\n",
    "\t\t\t\t\t\t\t\tpoint1 = get_coordinates(np.intersect1d(intersection[1],polygon_cur)).mean(0)\n",
    "\t\t\t\t\t\t\t\tpoint2 = get_coordinates(np.intersect1d(intersection[2],polygon_cur)).mean(0)\n",
    "\t\t\t\t\t\t\telse:\n",
    "\t\t\t\t\t\t\t\tneighbour1 = get_vertices(not_dominant[0])\n",
    "\t\t\t\t\t\t\t\tneighbour2 = get_vertices(not_dominant[-1])\n",
    "\t\t\t\t\t\t\t\tpoint1 = get_coordinates(np.intersect1d(neighbour1,polygon_cur)).mean(0)\n",
    "\t\t\t\t\t\t\t\tpoint2 = get_coordinates(np.intersect1d(neighbour2,polygon_cur)).mean(0)\n",
    "\t\t                    \n",
    "\t\t\t\t\tsorted_pixels = dist_point_to_segment(pixels, point1, point2)\n",
    "\t\t                                \n",
    "\t\t\t\t\tN = round(total_pixels*perc[c]) #get number of pixels accordying to the percentge\n",
    "\t\t\t\t\tplot[sorted_pixels[0:N,0],sorted_pixels[0:N,1]] = c #cahnge pixel color\n",
    "\t\t\n",
    "\tpaths = []\n",
    "\tif _voronoi_lines:\n",
    "\t\tfor v in vdiagram.ridge_vertices:\n",
    "\t\t\tif -1 not in v:\n",
    "\t\t\t\tp1 = list(convert_to_xy(point2D=vdiagram.vertices[v[0]]))\n",
    "\t\t\t\tp2 = list(convert_to_xy(point2D=vdiagram.vertices[v[1]]))\n",
    "\t\t\t\tpaths.append(tuple(p1)+tuple(p2))\n",
    "\n",
    "\tplot = np.flipud(np.rot90(plot, k=-1, axes=(1,0)))\n",
    "\tdisplay(_m, _n, plot=plot, paths=paths, interpolation=interpolation)\n",
    "\n",
    "\n",
    "\t#TODO: explain what we did\n",
    "\tcmap = plt.cm.get_cmap('jet', np.max(plot) + 1)  # You can choose a different colormap\n",
    "\n",
    "\t# Map the integer values to RGB colors\n",
    "\trgb_image = cmap(plot)\n",
    "\trgb_image = rgb_image[:, :, :3]\n",
    "\thsv_im = rgb2hsv(rgb_image)\n",
    "\n",
    "\tif matrix == \"UMatrix\":\n",
    "\t\tweights_u = UMatrix(weights['ydim'], weights['ydim'], weights['arr'], 4)\n",
    "\telif matrix == \"SDH\":\n",
    "\t\tweights_u = SDH(weights['ydim'], weights['ydim'], weights['arr'], idata['arr'], 25, 0)\n",
    "\telif matrix == \"PMatrix\":\n",
    "\t\tweights_u = PMatrix(weights['ydim'], weights['ydim'], weights['arr'], idata['arr'], 1.014889156509222)\n",
    "\telif matrix == \"UStarMatrix\":\n",
    "\t\tweights_u = UStarMatrix(weights['ydim'], weights['ydim'], weights['arr'], idata['arr'], 4, 1.014889156509222)\n",
    "\telse:\n",
    "\t\tweights_u = UMatrix(weights['ydim'], weights['ydim'], weights['arr'], 4)\n",
    "\t\tsaturationIntensity = 0\n",
    "\t\n",
    "\tweights_u = (weights_u - weights_u.min()) / (weights_u.max() - weights_u.min())\n",
    "\t\t\n",
    "\tdimensions_big_x = hsv_im.shape[0]\n",
    "\tdimensions_small_x = weights_u.shape[0]\n",
    "\n",
    "\tdimensions_big_y = hsv_im.shape[1]\n",
    "\tdimensions_small_y = weights_u.shape[1]\n",
    "\n",
    "\tdimensions_small_x = math.ceil(dimensions_big_x / dimensions_small_x)\n",
    "\tdimensions_small_y = math.ceil(dimensions_big_y / dimensions_small_y)\n",
    "\n",
    "\n",
    "\tfor i in range(0, dimensions_big_x):\n",
    "\t\tfor j in range(0, dimensions_big_y):\n",
    "\t\t\tif i == 0 and j == 0:\n",
    "\t\t\t\thsv_im[0, 0, 1] = hsv_im[0, 0, 1] + (hsv_im[0, 0, 1] * (weights_u[0, 0] - 1) * saturationIntensity)\n",
    "\t\t\telif i == 0:\n",
    "\t\t\t\thsv_im[0, j, 1] = hsv_im[0, j, 1] + (hsv_im[0, j, 1] * (weights_u[0, j // dimensions_small_y] - 1) * saturationIntensity)\n",
    "\t\t\telif j == 0:\n",
    "\t\t\t\thsv_im[i, 0, 1] = hsv_im[i, 0, 1] + (hsv_im[i, 0, 1] * (weights_u[i // dimensions_small_x, 0] - 1) * saturationIntensity)\n",
    "\t\t\telse:\n",
    "\t\t\t\thsv_im[i, j, 1] = hsv_im[i, j, 1] + (hsv_im[i, j, 1] * (weights_u[i // dimensions_small_x, j // dimensions_small_y] - 1) * saturationIntensity)\n",
    "\t\n",
    "\trgb_image_new = hsv2rgb(hsv_im)\t\n",
    "\t\n",
    "\t# HSV\n",
    "\tplt.imshow(rgb_image_new)\n",
    "\tplt.axis('off')\n",
    "\tplt.show()"
   ]
  },
  {
   "cell_type": "markdown",
   "id": "c28c50bc",
   "metadata": {},
   "source": [
    "### Testing function with Irisi"
   ]
  },
  {
   "cell_type": "code",
   "execution_count": null,
   "id": "7ef0fa70",
   "metadata": {},
   "outputs": [],
   "source": [
    "interpolation = False\n",
    "chessboard = True\n",
    "high_dpi = False\n",
    "voronoi = False\n",
    "saturationIntensity = 0.8\n",
    "matrix = [\"default\",\"UMatrix\",\"PMatrix\",\"SDH\",\"UStarMatrix\"]\n",
    "\n",
    "c = Chessboard(weights['ydim'], weights['ydim'], weights['arr'], idata['arr'], classes['arr'][:,1], 4, \n",
    "               high_dpi, voronoi, chessboard, interpolation, saturationIntensity, matrix[0])"
   ]
  },
  {
   "cell_type": "markdown",
   "id": "2af1f3e9",
   "metadata": {},
   "source": []
  },
  {
   "cell_type": "markdown",
   "id": "2d6f5acf",
   "metadata": {},
   "source": [
    "## Dataset 1: Chainlink"
   ]
  },
  {
   "cell_type": "markdown",
   "id": "d33bff76",
   "metadata": {},
   "source": [
    "### Trained SOM's"
   ]
  },
  {
   "cell_type": "code",
   "execution_count": null,
   "id": "aef054af",
   "metadata": {},
   "outputs": [],
   "source": [
    "som_small = MiniSom(10, 10, dim_chainlink)\n",
    "som_small.train(idata_chainlink['arr'], 100_000)\n",
    "\n",
    "#som_medium = MiniSom(18, 12, dim_train, sigma=1.5)\n",
    "#som_medium.train(idata_train['arr'], 10000)\n",
    "\n",
    "som_large = MiniSom(100, 60, dim_chainlink)\n",
    "som_large.train(idata_chainlink['arr'], 10_000)"
   ]
  },
  {
   "cell_type": "markdown",
   "id": "ce8d6a02",
   "metadata": {},
   "source": [
    "### Small (10x10)"
   ]
  },
  {
   "cell_type": "code",
   "execution_count": 48,
   "id": "1712f1af",
   "metadata": {},
   "outputs": [
    {
     "name": "stderr",
     "output_type": "stream",
     "text": [
      "C:\\Users\\marku\\AppData\\Local\\Temp\\ipykernel_27876\\1825303997.py:212: MatplotlibDeprecationWarning: The get_cmap function was deprecated in Matplotlib 3.7 and will be removed two minor releases later. Use ``matplotlib.colormaps[name]`` or ``matplotlib.colormaps.get_cmap(obj)`` instead.\n",
      "  cmap = plt.cm.get_cmap('jet', np.max(plot) + 1)  # You can choose a different colormap\n"
     ]
    },
    {
     "data": {
      "image/png": "[encoded data removed]",
      "text/plain": [
       "<Figure size 640x480 with 1 Axes>"
      ]
     },
     "metadata": {},
     "output_type": "display_data"
    }
   ],
   "source": [
    "c = Chessboard(10, 10, som_small._weights, idata_chainlink['arr'], classes_chainlink['arr'][:,1], \n",
    "               dim_chainlink, high_dpi, voronoi, chessboard, interpolation, saturationIntensity, matrix[2])\n",
    "\n",
    "#c = Chessboard(18, 12, som_medium._weights, idata_train['arr'], classes_train['arr'][:,1], \n",
    "                #dim_train, high_dpi, voronoi, chessboard, interpolation, saturationIntensity, matrix[2])\n",
    "\n",
    "\n",
    "#c = Chessboard(weights_train[\"ydim\"], weights_train[\"ydim\"], weights_train[\"arr\"], idata_train['arr'], \n",
    "#               classes_train['arr'][:,1], dim_train, high_dpi, voronoi, chessboard, interpolation, saturationIntensity, matrix[2])"
   ]
  },
  {
   "cell_type": "markdown",
   "id": "80651e5e",
   "metadata": {},
   "source": [
    "### Large (100x60)"
   ]
  },
  {
   "cell_type": "code",
   "execution_count": 49,
   "id": "733290af",
   "metadata": {},
   "outputs": [
    {
     "name": "stderr",
     "output_type": "stream",
     "text": [
      "C:\\Users\\marku\\AppData\\Local\\Temp\\ipykernel_27876\\1825303997.py:212: MatplotlibDeprecationWarning: The get_cmap function was deprecated in Matplotlib 3.7 and will be removed two minor releases later. Use ``matplotlib.colormaps[name]`` or ``matplotlib.colormaps.get_cmap(obj)`` instead.\n",
      "  cmap = plt.cm.get_cmap('jet', np.max(plot) + 1)  # You can choose a different colormap\n"
     ]
    },
    {
     "data": {
      "image/png": "[encoded data removed]",
      "text/plain": [
       "<Figure size 640x480 with 1 Axes>"
      ]
     },
     "metadata": {},
     "output_type": "display_data"
    }
   ],
   "source": [
    "c = Chessboard(100, 60, som_large._weights, idata_chainlink['arr'], classes_chainlink['arr'][:,1], \n",
    "               dim_chainlink, high_dpi, voronoi, chessboard, interpolation, saturationIntensity, matrix[2])"
   ]
  },
  {
   "cell_type": "code",
   "execution_count": null,
   "id": "ca6f2f42",
   "metadata": {},
   "outputs": [],
   "source": [
    "for i in np.arange(0.1,2,0.1):\n",
    "    for j in np.arange(0.5,7,0.5):\n",
    "        if i == 0.3:\n",
    "            continue\n",
    "        print(\"\\n learning rate \",i,\"sigma \",j)\n",
    "        som_small = MiniSom(10, 10, dim_train, learning_rate=i, sigma=j)\n",
    "        som_small.train(idata_train['arr'], 100000)\n",
    "        c = Chessboard(10, 10, som_small._weights, idata_train['arr'], classes_train['arr'][:,1], dim_train, high_dpi, voronoi, chessboard, interpolation, saturationIntensity)\n"
   ]
  },
  {
   "cell_type": "markdown",
   "id": "b078c2c3",
   "metadata": {},
   "source": [
    "## Dataset 2: 10clusters"
   ]
  },
  {
   "cell_type": "markdown",
   "id": "d812ffce",
   "metadata": {},
   "source": [
    "### Trained SOM's"
   ]
  },
  {
   "cell_type": "code",
   "execution_count": 50,
   "id": "67813381",
   "metadata": {},
   "outputs": [],
   "source": [
    "som_small = MiniSom(10, 10, dim_10cluster)\n",
    "som_small.train(idata_10cluster['arr'], 100_000)\n",
    "\n",
    "#som_medium = MiniSom(18, 12, dim_train, sigma=1.5)\n",
    "#som_medium.train(idata_train['arr'], 10000)\n",
    "\n",
    "som_large = MiniSom(100, 60, dim_10cluster)\n",
    "som_large.train(idata_10cluster['arr'], 10_000)"
   ]
  },
  {
   "cell_type": "markdown",
   "id": "f379a12b",
   "metadata": {},
   "source": [
    "### Small (10x10)"
   ]
  },
  {
   "cell_type": "code",
   "execution_count": 51,
   "id": "ac795318",
   "metadata": {},
   "outputs": [
    {
     "name": "stderr",
     "output_type": "stream",
     "text": [
      "C:\\Users\\marku\\AppData\\Local\\Temp\\ipykernel_27876\\1825303997.py:212: MatplotlibDeprecationWarning: The get_cmap function was deprecated in Matplotlib 3.7 and will be removed two minor releases later. Use ``matplotlib.colormaps[name]`` or ``matplotlib.colormaps.get_cmap(obj)`` instead.\n",
      "  cmap = plt.cm.get_cmap('jet', np.max(plot) + 1)  # You can choose a different colormap\n"
     ]
    },
    {
     "data": {
      "image/png": "[encoded data removed]",
      "text/plain": [
       "<Figure size 640x480 with 1 Axes>"
      ]
     },
     "metadata": {},
     "output_type": "display_data"
    }
   ],
   "source": [
    "c = Chessboard(10, 10, som_small._weights, idata_10cluster['arr'], classes_10cluster['arr'][:,1], \n",
    "               dim_10cluster, high_dpi, voronoi, chessboard, interpolation, saturationIntensity, matrix[2])"
   ]
  },
  {
   "cell_type": "markdown",
   "id": "d623bc8b",
   "metadata": {},
   "source": [
    "### Large (100x60)"
   ]
  },
  {
   "cell_type": "code",
   "execution_count": 53,
   "id": "05de3628",
   "metadata": {},
   "outputs": [
    {
     "name": "stderr",
     "output_type": "stream",
     "text": [
      "C:\\Users\\marku\\AppData\\Local\\Temp\\ipykernel_27876\\1825303997.py:212: MatplotlibDeprecationWarning: The get_cmap function was deprecated in Matplotlib 3.7 and will be removed two minor releases later. Use ``matplotlib.colormaps[name]`` or ``matplotlib.colormaps.get_cmap(obj)`` instead.\n",
      "  cmap = plt.cm.get_cmap('jet', np.max(plot) + 1)  # You can choose a different colormap\n"
     ]
    },
    {
     "data": {
      "image/png": "[encoded data removed]",
      "text/plain": [
       "<Figure size 640x480 with 1 Axes>"
      ]
     },
     "metadata": {},
     "output_type": "display_data"
    }
   ],
   "source": [
    "c = Chessboard(100, 60, som_large._weights, idata_10cluster['arr'], classes_10cluster['arr'][:,1], \n",
    "               dim_10cluster, high_dpi, voronoi, chessboard, interpolation, saturationIntensity, matrix[2])"
   ]
  }
 ],
 "metadata": {
  "kernelspec": {
   "display_name": "Python 3 (ipykernel)",
   "language": "python",
   "name": "python3"
  },
  "language_info": {
   "codemirror_mode": {
    "name": "ipython",
    "version": 3
   },
   "file_extension": ".py",
   "mimetype": "text/x-python",
   "name": "python",
   "nbconvert_exporter": "python",
   "pygments_lexer": "ipython3",
   "version": "3.11.7"
  }
 },
 "nbformat": 4,
 "nbformat_minor": 5
}
