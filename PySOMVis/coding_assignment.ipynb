{
 "cells": [
  {
   "cell_type": "markdown",
   "id": "eafc00ce",
   "metadata": {},
   "source": [
    "# Coding Assignment Group i.) 1"
   ]
  },
  {
   "cell_type": "markdown",
   "id": "6556fb7b",
   "metadata": {},
   "source": [
    "\n",
    "This coding assignment tries to implement a approach to enhance class coloring visualizations through the application of weighted color intensity based on user-selectable metrics, including SDH, inverted U-Matrix, P-Matrix, and U*-Matrix. By transforming the class coloring into an HSV colorspace and adjusting the saturation channel according to the chosen weighting, the method offers a customizable parameter to modify the intensity of saturation decrease with decreasing weight.\n"
   ]
  },
  {
   "cell_type": "code",
   "execution_count": 1,
   "id": "c7cf75c3",
   "metadata": {},
   "outputs": [],
   "source": [
    "import numpy as np\n",
    "import os\n",
    "from SOMToolBox_Parse import SOMToolBox_Parse\n",
    "from minisom import MiniSom"
   ]
  },
  {
   "cell_type": "markdown",
   "id": "17e2b979",
   "metadata": {},
   "source": [
    "## Datasets"
   ]
  },
  {
   "cell_type": "markdown",
   "id": "39a5a06e",
   "metadata": {},
   "source": [
    "In order to fulfill the given tasks stated in the assignment description we had to use two datasets. Once the chainlink dataset which represent artificial data of two rings in a 2D space which are being interwined in a 3D space. Second the 10 clusters dataset which simply includes datapoints of 10 different clusters which were generated from a gaussian distribution.\n",
    "\n",
    "Therefore for each dataset we extracted the actual data (idata), the weights of the classes (weights) and the classes itself (classes). This was done using the SOMToolBoxParser in order to get the data in the right format and if necessary extract it.\n",
    "\n",
    "As a 4th variable we chose a dimensions variable which includes the number of dimensions e.g. the amount of classes in a dataset.\n"
   ]
  },
  {
   "cell_type": "code",
   "execution_count": 2,
   "id": "48f7e6a9",
   "metadata": {},
   "outputs": [],
   "source": [
    "dataset_str = \"chainlink\"\n",
    "\n",
    "## Specify the vector and weight data to use for the following visualizations\n",
    "idata_path_train = os.path.join(\"datasets\", dataset_str, dataset_str + \".vec\")\n",
    "weights_path_train = os.path.join(\"datasets\", dataset_str, dataset_str + \".wgt.gz\")\n",
    "classes_path_train = os.path.join(\"datasets\", dataset_str, dataset_str + \".cls\")\n",
    "\n",
    "# Parse provided dataset files using the SOMToolbox Parser\n",
    "idata_chainlink = SOMToolBox_Parse(idata_path_train).read_weight_file()\n",
    "weights_chainlink = SOMToolBox_Parse(weights_path_train).read_weight_file()\n",
    "classes_chainlink = SOMToolBox_Parse(classes_path_train).read_weight_file()\n",
    "\n",
    "dim_chainlink = weights_chainlink['vec_dim']\n",
    "\n",
    "dataset_str = \"10clusters\"\n",
    "\n",
    "## Specify the vector and weight data to use for the following visualizations\n",
    "idata_path_train = os.path.join(\"datasets\", dataset_str, dataset_str + \".vec\")\n",
    "weights_path_train = os.path.join(\"datasets\", dataset_str, dataset_str + \".wgt.gz\")\n",
    "classes_path_train = os.path.join(\"datasets\", dataset_str, dataset_str + \".cls\")\n",
    "\n",
    "idata_10cluster = SOMToolBox_Parse(idata_path_train).read_weight_file()\n",
    "weights_10cluster = SOMToolBox_Parse(weights_path_train).read_weight_file()\n",
    "classes_10cluster = SOMToolBox_Parse(classes_path_train).read_weight_file()\n",
    "\n",
    "dim_10cluster = weights_10cluster['vec_dim']"
   ]
  },
  {
   "cell_type": "markdown",
   "id": "8883804d",
   "metadata": {},
   "source": [
    "As for comparison reasons we also included the Iris-Datset in order to test our implemented code."
   ]
  },
  {
   "cell_type": "code",
   "execution_count": 3,
   "id": "a7c286f6",
   "metadata": {},
   "outputs": [],
   "source": [
    "# Default Dataset\n",
    "\n",
    "data_path = \"datasets\\\\iris\\\\iris.vec\"\n",
    "weight_path = \"datasets\\\\iris\\\\iris.wgt.gz\"\n",
    "\n",
    "data_path_ch = \"datasets\\\\chainlink\\\\chainlink.vec\"\n",
    "weight_path_ch = \"datasets\\\\chainlink\\\\chainlink.wgt.gz\"\n",
    "\n",
    "idata = SOMToolBox_Parse(data_path).read_weight_file()\n",
    "weights = SOMToolBox_Parse(weight_path).read_weight_file()\n",
    "classes = SOMToolBox_Parse(\"datasets\\\\iris\\\\iris.cls\").read_weight_file()\n",
    "\n",
    "idata_ch = SOMToolBox_Parse(data_path_ch).read_weight_file()\n",
    "weights_ch = SOMToolBox_Parse(weight_path_ch).read_weight_file()\n",
    "classes_ch = SOMToolBox_Parse(\"datasets\\\\chainlink\\\\chainlink.cls\").read_weight_file()"
   ]
  },
  {
   "cell_type": "markdown",
   "id": "3c97082c",
   "metadata": {},
   "source": [
    "## Matrices for saturation"
   ]
  },
  {
   "cell_type": "markdown",
   "id": "1b262235",
   "metadata": {},
   "source": [
    "For generating weights we had to use four different approaches. The U-Matrix, The P-Matrix, The Smoothed Data Histogram and the U-Star-Matrix. The functions below are showing the implementations of those. "
   ]
  },
  {
   "cell_type": "code",
   "execution_count": 55,
   "id": "259a4e48",
   "metadata": {},
   "outputs": [],
   "source": [
    "#HitHistogram\n",
    "def HitHist(_m, _n, _weights,_idata):\n",
    "    hist = np.zeros(_m * _n)\n",
    "    for vector in _idata: \n",
    "        position =np.argmin(np.sqrt(np.sum(np.power(_weights - vector, 2), axis=1)))\n",
    "        hist[position] += 1\n",
    "\n",
    "    return hist.reshape(_m, _n)\n",
    "\n",
    "#U-Matrix - implementation\n",
    "def UMatrix(_m, _n, _weights, _dim):\n",
    "    U = _weights.reshape(_m, _n, _dim)\n",
    "    U = np.insert(U, np.arange(1, _n), values=0, axis=1)\n",
    "    U = np.insert(U, np.arange(1, _m), values=0, axis=0)\n",
    "    #calculate interpolation\n",
    "    for i in range(U.shape[0]): \n",
    "        if i%2==0:\n",
    "            for j in range(1,U.shape[1],2):\n",
    "                U[i,j][0] = np.linalg.norm(U[i,j-1] - U[i,j+1], axis=-1)\n",
    "        else:\n",
    "            for j in range(U.shape[1]):\n",
    "                if j%2==0: \n",
    "                    U[i,j][0] = np.linalg.norm(U[i-1,j] - U[i+1,j], axis=-1)\n",
    "                else:      \n",
    "                    U[i,j][0] = (np.linalg.norm(U[i-1,j-1] - U[i+1,j+1], axis=-1) + np.linalg.norm(U[i+1,j-1] - U[i-1,j+1], axis=-1))/(2*np.sqrt(2))\n",
    "\n",
    "    U = np.sum(U, axis=2) #move from Vector to Scalar\n",
    "\n",
    "    for i in range(0, U.shape[0], 2): #count new values\n",
    "        for j in range(0, U.shape[1], 2):\n",
    "            region = []\n",
    "            if j>0: region.append(U[i][j-1]) #check left border\n",
    "            if i>0: region.append(U[i-1][j]) #check bottom\n",
    "            if j<U.shape[1]-1: region.append(U[i][j+1]) #check right border\n",
    "            if i<U.shape[0]-1: region.append(U[i+1][j]) #check upper border\n",
    "\n",
    "            U[i,j] = np.median(region)\n",
    "\n",
    "    return U\n",
    "\n",
    "#SDH - implementation\n",
    "def SDH(_m, _n, _weights,_idata, factor, approach):\n",
    "    import heapq\n",
    "\n",
    "    sdh_m = np.zeros( _m * _n)\n",
    "\n",
    "    cs=0\n",
    "    for i in range(factor): cs += factor-i\n",
    "\n",
    "    for vector in _idata:\n",
    "        dist = np.sqrt(np.sum(np.power(_weights - vector, 2), axis=1))\n",
    "        c = heapq.nsmallest(factor, range(len(dist)), key=dist.__getitem__)\n",
    "        if (approach==0): # normalized\n",
    "            for j in range(factor):  sdh_m[c[j]] += (factor-j)/cs \n",
    "        if (approach==1):# based on distance\n",
    "            for j in range(factor): sdh_m[c[j]] += 1.0/dist[c[j]] \n",
    "        if (approach==2): \n",
    "            dmin, dmax = min(dist[c]), max(dist[c])\n",
    "            for j in range(factor): sdh_m[c[j]] += 1.0 - (dist[c[j]]-dmin)/(dmax-dmin)\n",
    "\n",
    "    return sdh_m.reshape(_m, _n)\n",
    "\n",
    "def PMatrix(_m, _n, _weights, _idata, _radius):\n",
    "    distance = lambda v: np.sum(np.linalg.norm(_idata[:, None, :] - v, axis=-1) < _radius)\n",
    "    plot = np.array([distance(v) for v in _weights])\n",
    "    pm = plot.reshape(_m, _n)  # Reshape according to your matrix dimensions\n",
    "    return pm\n",
    "\n",
    "def UStarMatrix(_m, _n, _weights,_idata, _dim, _radius):\n",
    "    um = UMatrix(_m, _n, _weights, _dim)\n",
    "    pm = PMatrix(_m, _n, _weights,_idata, _radius)\n",
    "    um = um[0::2,0::2].reshape(1,-1)[0] # u-matrix\n",
    "    pm = pm.reshape(1,-1)[0]   # p-matrix\n",
    "    ustarm = []\n",
    "    \n",
    "    meanP = np.mean(pm)\n",
    "    maxP  = np.max(pm)\n",
    "    diff = meanP - maxP\n",
    "    \n",
    "    n = pm.size\n",
    "    for i in range(n):\n",
    "        scaleFactor = (pm[i] - meanP) / diff + 1\n",
    "        ustarm.append(um[i] * scaleFactor)\n",
    "    plot = np.array(ustarm)\n",
    "    ustart = plot.reshape(_m, _n)\n",
    "    return ustart"
   ]
  },
  {
   "cell_type": "markdown",
   "id": "2e8cd5ee",
   "metadata": {},
   "source": [
    "### Visualization for saturation matrices"
   ]
  },
  {
   "cell_type": "markdown",
   "id": "24ac9018",
   "metadata": {},
   "source": [
    "The following plots are visualizations of the above created functions. Those were necessary in order to determine if our functions are working properly. The functions were tested via the Iris-Dataset and compared to the images of the \"PySOMVis-Repository\" on GitHub. "
   ]
  },
  {
   "cell_type": "code",
   "execution_count": 34,
   "id": "72c32c12",
   "metadata": {},
   "outputs": [
    {
     "data": {
      "application/javascript": "(function(root) {\n  function now() {\n    return new Date();\n  }\n\n  var force = true;\n  var py_version = '3.3.4'.replace('rc', '-rc.').replace('.dev', '-dev.');\n  var reloading = false;\n  var Bokeh = root.Bokeh;\n\n  if (typeof (root._bokeh_timeout) === \"undefined\" || force) {\n    root._bokeh_timeout = Date.now() + 5000;\n    root._bokeh_failed_load = false;\n  }\n\n  function run_callbacks() {\n    try {\n      root._bokeh_onload_callbacks.forEach(function(callback) {\n        if (callback != null)\n          callback();\n      });\n    } finally {\n      delete root._bokeh_onload_callbacks;\n    }\n    console.debug(\"Bokeh: all callbacks have finished\");\n  }\n\n  function load_libs(css_urls, js_urls, js_modules, js_exports, callback) {\n    if (css_urls == null) css_urls = [];\n    if (js_urls == null) js_urls = [];\n    if (js_modules == null) js_modules = [];\n    if (js_exports == null) js_exports = {};\n\n    root._bokeh_onload_callbacks.push(callback);\n\n    if (root._bokeh_is_loading > 0) {\n      console.debug(\"Bokeh: BokehJS is being loaded, scheduling callback at\", now());\n      return null;\n    }\n    if (js_urls.length === 0 && js_modules.length === 0 && Object.keys(js_exports).length === 0) {\n      run_callbacks();\n      return null;\n    }\n    if (!reloading) {\n      console.debug(\"Bokeh: BokehJS not loaded, scheduling load and callback at\", now());\n    }\n\n    function on_load() {\n      root._bokeh_is_loading--;\n      if (root._bokeh_is_loading === 0) {\n        console.debug(\"Bokeh: all BokehJS libraries/stylesheets loaded\");\n        run_callbacks()\n      }\n    }\n    window._bokeh_on_load = on_load\n\n    function on_error() {\n      console.error(\"failed to load \" + url);\n    }\n\n    var skip = [];\n    if (window.requirejs) {\n      window.requirejs.config({'packages': {}, 'paths': {'jspanel': 'https://cdn.jsdelivr.net/npm/jspanel4@4.12.0/dist/jspanel', 'jspanel-modal': 'https://cdn.jsdelivr.net/npm/jspanel4@4.12.0/dist/extensions/modal/jspanel.modal', 'jspanel-tooltip': 'https://cdn.jsdelivr.net/npm/jspanel4@4.12.0/dist/extensions/tooltip/jspanel.tooltip', 'jspanel-hint': 'https://cdn.jsdelivr.net/npm/jspanel4@4.12.0/dist/extensions/hint/jspanel.hint', 'jspanel-layout': 'https://cdn.jsdelivr.net/npm/jspanel4@4.12.0/dist/extensions/layout/jspanel.layout', 'jspanel-contextmenu': 'https://cdn.jsdelivr.net/npm/jspanel4@4.12.0/dist/extensions/contextmenu/jspanel.contextmenu', 'jspanel-dock': 'https://cdn.jsdelivr.net/npm/jspanel4@4.12.0/dist/extensions/dock/jspanel.dock', 'gridstack': 'https://cdn.jsdelivr.net/npm/gridstack@7.2.3/dist/gridstack-all', 'notyf': 'https://cdn.jsdelivr.net/npm/notyf@3/notyf.min'}, 'shim': {'jspanel': {'exports': 'jsPanel'}, 'gridstack': {'exports': 'GridStack'}}});\n      require([\"jspanel\"], function(jsPanel) {\n\twindow.jsPanel = jsPanel\n\ton_load()\n      })\n      require([\"jspanel-modal\"], function() {\n\ton_load()\n      })\n      require([\"jspanel-tooltip\"], function() {\n\ton_load()\n      })\n      require([\"jspanel-hint\"], function() {\n\ton_load()\n      })\n      require([\"jspanel-layout\"], function() {\n\ton_load()\n      })\n      require([\"jspanel-contextmenu\"], function() {\n\ton_load()\n      })\n      require([\"jspanel-dock\"], function() {\n\ton_load()\n      })\n      require([\"gridstack\"], function(GridStack) {\n\twindow.GridStack = GridStack\n\ton_load()\n      })\n      require([\"notyf\"], function() {\n\ton_load()\n      })\n      root._bokeh_is_loading = css_urls.length + 9;\n    } else {\n      root._bokeh_is_loading = css_urls.length + js_urls.length + js_modules.length + Object.keys(js_exports).length;\n    }\n\n    var existing_stylesheets = []\n    var links = document.getElementsByTagName('link')\n    for (var i = 0; i < links.length; i++) {\n      var link = links[i]\n      if (link.href != null) {\n\texisting_stylesheets.push(link.href)\n      }\n    }\n    for (var i = 0; i < css_urls.length; i++) {\n      var url = css_urls[i];\n      if (existing_stylesheets.indexOf(url) !== -1) {\n\ton_load()\n\tcontinue;\n      }\n      const element = document.createElement(\"link\");\n      element.onload = on_load;\n      element.onerror = on_error;\n      element.rel = \"stylesheet\";\n      element.type = \"text/css\";\n      element.href = url;\n      console.debug(\"Bokeh: injecting link tag for BokehJS stylesheet: \", url);\n      document.body.appendChild(element);\n    }    if (((window['jsPanel'] !== undefined) && (!(window['jsPanel'] instanceof HTMLElement))) || window.requirejs) {\n      var urls = ['https://cdn.holoviz.org/panel/1.3.8/dist/bundled/floatpanel/jspanel4@4.12.0/dist/jspanel.js', 'https://cdn.holoviz.org/panel/1.3.8/dist/bundled/floatpanel/jspanel4@4.12.0/dist/extensions/modal/jspanel.modal.js', 'https://cdn.holoviz.org/panel/1.3.8/dist/bundled/floatpanel/jspanel4@4.12.0/dist/extensions/tooltip/jspanel.tooltip.js', 'https://cdn.holoviz.org/panel/1.3.8/dist/bundled/floatpanel/jspanel4@4.12.0/dist/extensions/hint/jspanel.hint.js', 'https://cdn.holoviz.org/panel/1.3.8/dist/bundled/floatpanel/jspanel4@4.12.0/dist/extensions/layout/jspanel.layout.js', 'https://cdn.holoviz.org/panel/1.3.8/dist/bundled/floatpanel/jspanel4@4.12.0/dist/extensions/contextmenu/jspanel.contextmenu.js', 'https://cdn.holoviz.org/panel/1.3.8/dist/bundled/floatpanel/jspanel4@4.12.0/dist/extensions/dock/jspanel.dock.js'];\n      for (var i = 0; i < urls.length; i++) {\n        skip.push(urls[i])\n      }\n    }    if (((window['GridStack'] !== undefined) && (!(window['GridStack'] instanceof HTMLElement))) || window.requirejs) {\n      var urls = ['https://cdn.holoviz.org/panel/1.3.8/dist/bundled/gridstack/gridstack@7.2.3/dist/gridstack-all.js'];\n      for (var i = 0; i < urls.length; i++) {\n        skip.push(urls[i])\n      }\n    }    if (((window['Notyf'] !== undefined) && (!(window['Notyf'] instanceof HTMLElement))) || window.requirejs) {\n      var urls = ['https://cdn.holoviz.org/panel/1.3.8/dist/bundled/notificationarea/notyf@3/notyf.min.js'];\n      for (var i = 0; i < urls.length; i++) {\n        skip.push(urls[i])\n      }\n    }    var existing_scripts = []\n    var scripts = document.getElementsByTagName('script')\n    for (var i = 0; i < scripts.length; i++) {\n      var script = scripts[i]\n      if (script.src != null) {\n\texisting_scripts.push(script.src)\n      }\n    }\n    for (var i = 0; i < js_urls.length; i++) {\n      var url = js_urls[i];\n      if (skip.indexOf(url) !== -1 || existing_scripts.indexOf(url) !== -1) {\n\tif (!window.requirejs) {\n\t  on_load();\n\t}\n\tcontinue;\n      }\n      var element = document.createElement('script');\n      element.onload = on_load;\n      element.onerror = on_error;\n      element.async = false;\n      element.src = url;\n      console.debug(\"Bokeh: injecting script tag for BokehJS library: \", url);\n      document.head.appendChild(element);\n    }\n    for (var i = 0; i < js_modules.length; i++) {\n      var url = js_modules[i];\n      if (skip.indexOf(url) !== -1 || existing_scripts.indexOf(url) !== -1) {\n\tif (!window.requirejs) {\n\t  on_load();\n\t}\n\tcontinue;\n      }\n      var element = document.createElement('script');\n      element.onload = on_load;\n      element.onerror = on_error;\n      element.async = false;\n      element.src = url;\n      element.type = \"module\";\n      console.debug(\"Bokeh: injecting script tag for BokehJS library: \", url);\n      document.head.appendChild(element);\n    }\n    for (const name in js_exports) {\n      var url = js_exports[name];\n      if (skip.indexOf(url) >= 0 || root[name] != null) {\n\tif (!window.requirejs) {\n\t  on_load();\n\t}\n\tcontinue;\n      }\n      var element = document.createElement('script');\n      element.onerror = on_error;\n      element.async = false;\n      element.type = \"module\";\n      console.debug(\"Bokeh: injecting script tag for BokehJS library: \", url);\n      element.textContent = `\n      import ${name} from \"${url}\"\n      window.${name} = ${name}\n      window._bokeh_on_load()\n      `\n      document.head.appendChild(element);\n    }\n    if (!js_urls.length && !js_modules.length) {\n      on_load()\n    }\n  };\n\n  function inject_raw_css(css) {\n    const element = document.createElement(\"style\");\n    element.appendChild(document.createTextNode(css));\n    document.body.appendChild(element);\n  }\n\n  var js_urls = [\"https://cdn.bokeh.org/bokeh/release/bokeh-3.3.4.min.js\", \"https://cdn.bokeh.org/bokeh/release/bokeh-gl-3.3.4.min.js\", \"https://cdn.bokeh.org/bokeh/release/bokeh-widgets-3.3.4.min.js\", \"https://cdn.bokeh.org/bokeh/release/bokeh-tables-3.3.4.min.js\", \"https://cdn.holoviz.org/panel/1.3.8/dist/panel.min.js\"];\n  var js_modules = [];\n  var js_exports = {};\n  var css_urls = [];\n  var inline_js = [    function(Bokeh) {\n      Bokeh.set_log_level(\"info\");\n    },\nfunction(Bokeh) {} // ensure no trailing comma for IE\n  ];\n\n  function run_inline_js() {\n    if ((root.Bokeh !== undefined) || (force === true)) {\n      for (var i = 0; i < inline_js.length; i++) {\n\ttry {\n          inline_js[i].call(root, root.Bokeh);\n\t} catch(e) {\n\t  if (!reloading) {\n\t    throw e;\n\t  }\n\t}\n      }\n      // Cache old bokeh versions\n      if (Bokeh != undefined && !reloading) {\n\tvar NewBokeh = root.Bokeh;\n\tif (Bokeh.versions === undefined) {\n\t  Bokeh.versions = new Map();\n\t}\n\tif (NewBokeh.version !== Bokeh.version) {\n\t  Bokeh.versions.set(NewBokeh.version, NewBokeh)\n\t}\n\troot.Bokeh = Bokeh;\n      }} else if (Date.now() < root._bokeh_timeout) {\n      setTimeout(run_inline_js, 100);\n    } else if (!root._bokeh_failed_load) {\n      console.log(\"Bokeh: BokehJS failed to load within specified timeout.\");\n      root._bokeh_failed_load = true;\n    }\n    root._bokeh_is_initializing = false\n  }\n\n  function load_or_wait() {\n    // Implement a backoff loop that tries to ensure we do not load multiple\n    // versions of Bokeh and its dependencies at the same time.\n    // In recent versions we use the root._bokeh_is_initializing flag\n    // to determine whether there is an ongoing attempt to initialize\n    // bokeh, however for backward compatibility we also try to ensure\n    // that we do not start loading a newer (Panel>=1.0 and Bokeh>3) version\n    // before older versions are fully initialized.\n    if (root._bokeh_is_initializing && Date.now() > root._bokeh_timeout) {\n      root._bokeh_is_initializing = false;\n      root._bokeh_onload_callbacks = undefined;\n      console.log(\"Bokeh: BokehJS was loaded multiple times but one version failed to initialize.\");\n      load_or_wait();\n    } else if (root._bokeh_is_initializing || (typeof root._bokeh_is_initializing === \"undefined\" && root._bokeh_onload_callbacks !== undefined)) {\n      setTimeout(load_or_wait, 100);\n    } else {\n      root._bokeh_is_initializing = true\n      root._bokeh_onload_callbacks = []\n      var bokeh_loaded = Bokeh != null && (Bokeh.version === py_version || (Bokeh.versions !== undefined && Bokeh.versions.has(py_version)));\n      if (!reloading && !bokeh_loaded) {\n\troot.Bokeh = undefined;\n      }\n      load_libs(css_urls, js_urls, js_modules, js_exports, function() {\n\tconsole.debug(\"Bokeh: BokehJS plotting callback run at\", now());\n\trun_inline_js();\n      });\n    }\n  }\n  // Give older versions of the autoload script a head-start to ensure\n  // they initialize before we start loading newer version.\n  setTimeout(load_or_wait, 100)\n}(window));",
      "application/vnd.holoviews_load.v0+json": ""
     },
     "metadata": {},
     "output_type": "display_data"
    },
    {
     "data": {
      "application/javascript": "\nif ((window.PyViz === undefined) || (window.PyViz instanceof HTMLElement)) {\n  window.PyViz = {comms: {}, comm_status:{}, kernels:{}, receivers: {}, plot_index: []}\n}\n\n\n    function JupyterCommManager() {\n    }\n\n    JupyterCommManager.prototype.register_target = function(plot_id, comm_id, msg_handler) {\n      if (window.comm_manager || ((window.Jupyter !== undefined) && (Jupyter.notebook.kernel != null))) {\n        var comm_manager = window.comm_manager || Jupyter.notebook.kernel.comm_manager;\n        comm_manager.register_target(comm_id, function(comm) {\n          comm.on_msg(msg_handler);\n        });\n      } else if ((plot_id in window.PyViz.kernels) && (window.PyViz.kernels[plot_id])) {\n        window.PyViz.kernels[plot_id].registerCommTarget(comm_id, function(comm) {\n          comm.onMsg = msg_handler;\n        });\n      } else if (typeof google != 'undefined' && google.colab.kernel != null) {\n        google.colab.kernel.comms.registerTarget(comm_id, (comm) => {\n          var messages = comm.messages[Symbol.asyncIterator]();\n          function processIteratorResult(result) {\n            var message = result.value;\n            console.log(message)\n            var content = {data: message.data, comm_id};\n            var buffers = []\n            for (var buffer of message.buffers || []) {\n              buffers.push(new DataView(buffer))\n            }\n            var metadata = message.metadata || {};\n            var msg = {content, buffers, metadata}\n            msg_handler(msg);\n            return messages.next().then(processIteratorResult);\n          }\n          return messages.next().then(processIteratorResult);\n        })\n      }\n    }\n\n    JupyterCommManager.prototype.get_client_comm = function(plot_id, comm_id, msg_handler) {\n      if (comm_id in window.PyViz.comms) {\n        return window.PyViz.comms[comm_id];\n      } else if (window.comm_manager || ((window.Jupyter !== undefined) && (Jupyter.notebook.kernel != null))) {\n        var comm_manager = window.comm_manager || Jupyter.notebook.kernel.comm_manager;\n        var comm = comm_manager.new_comm(comm_id, {}, {}, {}, comm_id);\n        if (msg_handler) {\n          comm.on_msg(msg_handler);\n        }\n      } else if ((plot_id in window.PyViz.kernels) && (window.PyViz.kernels[plot_id])) {\n        var comm = window.PyViz.kernels[plot_id].connectToComm(comm_id);\n        comm.open();\n        if (msg_handler) {\n          comm.onMsg = msg_handler;\n        }\n      } else if (typeof google != 'undefined' && google.colab.kernel != null) {\n        var comm_promise = google.colab.kernel.comms.open(comm_id)\n        comm_promise.then((comm) => {\n          window.PyViz.comms[comm_id] = comm;\n          if (msg_handler) {\n            var messages = comm.messages[Symbol.asyncIterator]();\n            function processIteratorResult(result) {\n              var message = result.value;\n              var content = {data: message.data};\n              var metadata = message.metadata || {comm_id};\n              var msg = {content, metadata}\n              msg_handler(msg);\n              return messages.next().then(processIteratorResult);\n            }\n            return messages.next().then(processIteratorResult);\n          }\n        }) \n        var sendClosure = (data, metadata, buffers, disposeOnDone) => {\n          return comm_promise.then((comm) => {\n            comm.send(data, metadata, buffers, disposeOnDone);\n          });\n        };\n        var comm = {\n          send: sendClosure\n        };\n      }\n      window.PyViz.comms[comm_id] = comm;\n      return comm;\n    }\n    window.PyViz.comm_manager = new JupyterCommManager();\n    \n\n\nvar JS_MIME_TYPE = 'application/javascript';\nvar HTML_MIME_TYPE = 'text/html';\nvar EXEC_MIME_TYPE = 'application/vnd.holoviews_exec.v0+json';\nvar CLASS_NAME = 'output';\n\n/**\n * Render data to the DOM node\n */\nfunction render(props, node) {\n  var div = document.createElement(\"div\");\n  var script = document.createElement(\"script\");\n  node.appendChild(div);\n  node.appendChild(script);\n}\n\n/**\n * Handle when a new output is added\n */\nfunction handle_add_output(event, handle) {\n  var output_area = handle.output_area;\n  var output = handle.output;\n  if ((output.data == undefined) || (!output.data.hasOwnProperty(EXEC_MIME_TYPE))) {\n    return\n  }\n  var id = output.metadata[EXEC_MIME_TYPE][\"id\"];\n  var toinsert = output_area.element.find(\".\" + CLASS_NAME.split(' ')[0]);\n  if (id !== undefined) {\n    var nchildren = toinsert.length;\n    var html_node = toinsert[nchildren-1].children[0];\n    html_node.innerHTML = output.data[HTML_MIME_TYPE];\n    var scripts = [];\n    var nodelist = html_node.querySelectorAll(\"script\");\n    for (var i in nodelist) {\n      if (nodelist.hasOwnProperty(i)) {\n        scripts.push(nodelist[i])\n      }\n    }\n\n    scripts.forEach( function (oldScript) {\n      var newScript = document.createElement(\"script\");\n      var attrs = [];\n      var nodemap = oldScript.attributes;\n      for (var j in nodemap) {\n        if (nodemap.hasOwnProperty(j)) {\n          attrs.push(nodemap[j])\n        }\n      }\n      attrs.forEach(function(attr) { newScript.setAttribute(attr.name, attr.value) });\n      newScript.appendChild(document.createTextNode(oldScript.innerHTML));\n      oldScript.parentNode.replaceChild(newScript, oldScript);\n    });\n    if (JS_MIME_TYPE in output.data) {\n      toinsert[nchildren-1].children[1].textContent = output.data[JS_MIME_TYPE];\n    }\n    output_area._hv_plot_id = id;\n    if ((window.Bokeh !== undefined) && (id in Bokeh.index)) {\n      window.PyViz.plot_index[id] = Bokeh.index[id];\n    } else {\n      window.PyViz.plot_index[id] = null;\n    }\n  } else if (output.metadata[EXEC_MIME_TYPE][\"server_id\"] !== undefined) {\n    var bk_div = document.createElement(\"div\");\n    bk_div.innerHTML = output.data[HTML_MIME_TYPE];\n    var script_attrs = bk_div.children[0].attributes;\n    for (var i = 0; i < script_attrs.length; i++) {\n      toinsert[toinsert.length - 1].childNodes[1].setAttribute(script_attrs[i].name, script_attrs[i].value);\n    }\n    // store reference to server id on output_area\n    output_area._bokeh_server_id = output.metadata[EXEC_MIME_TYPE][\"server_id\"];\n  }\n}\n\n/**\n * Handle when an output is cleared or removed\n */\nfunction handle_clear_output(event, handle) {\n  var id = handle.cell.output_area._hv_plot_id;\n  var server_id = handle.cell.output_area._bokeh_server_id;\n  if (((id === undefined) || !(id in PyViz.plot_index)) && (server_id !== undefined)) { return; }\n  var comm = window.PyViz.comm_manager.get_client_comm(\"hv-extension-comm\", \"hv-extension-comm\", function () {});\n  if (server_id !== null) {\n    comm.send({event_type: 'server_delete', 'id': server_id});\n    return;\n  } else if (comm !== null) {\n    comm.send({event_type: 'delete', 'id': id});\n  }\n  delete PyViz.plot_index[id];\n  if ((window.Bokeh !== undefined) & (id in window.Bokeh.index)) {\n    var doc = window.Bokeh.index[id].model.document\n    doc.clear();\n    const i = window.Bokeh.documents.indexOf(doc);\n    if (i > -1) {\n      window.Bokeh.documents.splice(i, 1);\n    }\n  }\n}\n\n/**\n * Handle kernel restart event\n */\nfunction handle_kernel_cleanup(event, handle) {\n  delete PyViz.comms[\"hv-extension-comm\"];\n  window.PyViz.plot_index = {}\n}\n\n/**\n * Handle update_display_data messages\n */\nfunction handle_update_output(event, handle) {\n  handle_clear_output(event, {cell: {output_area: handle.output_area}})\n  handle_add_output(event, handle)\n}\n\nfunction register_renderer(events, OutputArea) {\n  function append_mime(data, metadata, element) {\n    // create a DOM node to render to\n    var toinsert = this.create_output_subarea(\n    metadata,\n    CLASS_NAME,\n    EXEC_MIME_TYPE\n    );\n    this.keyboard_manager.register_events(toinsert);\n    // Render to node\n    var props = {data: data, metadata: metadata[EXEC_MIME_TYPE]};\n    render(props, toinsert[0]);\n    element.append(toinsert);\n    return toinsert\n  }\n\n  events.on('output_added.OutputArea', handle_add_output);\n  events.on('output_updated.OutputArea', handle_update_output);\n  events.on('clear_output.CodeCell', handle_clear_output);\n  events.on('delete.Cell', handle_clear_output);\n  events.on('kernel_ready.Kernel', handle_kernel_cleanup);\n\n  OutputArea.prototype.register_mime_type(EXEC_MIME_TYPE, append_mime, {\n    safe: true,\n    index: 0\n  });\n}\n\nif (window.Jupyter !== undefined) {\n  try {\n    var events = require('base/js/events');\n    var OutputArea = require('notebook/js/outputarea').OutputArea;\n    if (OutputArea.prototype.mime_types().indexOf(EXEC_MIME_TYPE) == -1) {\n      register_renderer(events, OutputArea);\n    }\n  } catch(err) {\n  }\n}\n",
      "application/vnd.holoviews_load.v0+json": ""
     },
     "metadata": {},
     "output_type": "display_data"
    },
    {
     "data": {
      "text/html": [
       "<style>*[data-root-id],\n",
       "*[data-root-id] > * {\n",
       "  box-sizing: border-box;\n",
       "  font-family: var(--jp-ui-font-family);\n",
       "  font-size: var(--jp-ui-font-size1);\n",
       "  color: var(--vscode-editor-foreground, var(--jp-ui-font-color1));\n",
       "}\n",
       "\n",
       "/* Override VSCode background color */\n",
       ".cell-output-ipywidget-background:has(\n",
       "    > .cell-output-ipywidget-background > .lm-Widget > *[data-root-id]\n",
       "  ),\n",
       ".cell-output-ipywidget-background:has(> .lm-Widget > *[data-root-id]) {\n",
       "  background-color: transparent !important;\n",
       "}\n",
       "</style>"
      ]
     },
     "metadata": {},
     "output_type": "display_data"
    },
    {
     "data": {
      "application/vnd.holoviews_exec.v0+json": "",
      "text/html": [
       "<div id='p1723'>\n",
       "  <div id=\"c64f44a3-406b-4fb2-be43-400aedb51b22\" data-root-id=\"p1723\" style=\"display: contents;\"></div>\n",
       "</div>\n",
       "<script type=\"application/javascript\">(function(root) {\n",
       "  var docs_json = {\"5a35d40d-3795-43fb-8381-91c0384dbbb5\":{\"version\":\"3.3.4\",\"title\":\"Bokeh Application\",\"roots\":[{\"type\":\"object\",\"name\":\"panel.models.browser.BrowserInfo\",\"id\":\"p1723\"},{\"type\":\"object\",\"name\":\"panel.models.comm_manager.CommManager\",\"id\":\"p1724\",\"attributes\":{\"plot_id\":\"p1723\",\"comm_id\":\"318b8b2feaa14dc0a5c1fbda674a8616\",\"client_comm_id\":\"5164b15e09c444889506f0d02741d3f4\"}}],\"defs\":[{\"type\":\"model\",\"name\":\"ReactiveHTML1\"},{\"type\":\"model\",\"name\":\"FlexBox1\",\"properties\":[{\"name\":\"align_content\",\"kind\":\"Any\",\"default\":\"flex-start\"},{\"name\":\"align_items\",\"kind\":\"Any\",\"default\":\"flex-start\"},{\"name\":\"flex_direction\",\"kind\":\"Any\",\"default\":\"row\"},{\"name\":\"flex_wrap\",\"kind\":\"Any\",\"default\":\"wrap\"},{\"name\":\"justify_content\",\"kind\":\"Any\",\"default\":\"flex-start\"}]},{\"type\":\"model\",\"name\":\"FloatPanel1\",\"properties\":[{\"name\":\"config\",\"kind\":\"Any\",\"default\":{\"type\":\"map\"}},{\"name\":\"contained\",\"kind\":\"Any\",\"default\":true},{\"name\":\"position\",\"kind\":\"Any\",\"default\":\"right-top\"},{\"name\":\"offsetx\",\"kind\":\"Any\",\"default\":null},{\"name\":\"offsety\",\"kind\":\"Any\",\"default\":null},{\"name\":\"theme\",\"kind\":\"Any\",\"default\":\"primary\"},{\"name\":\"status\",\"kind\":\"Any\",\"default\":\"normalized\"}]},{\"type\":\"model\",\"name\":\"GridStack1\",\"properties\":[{\"name\":\"mode\",\"kind\":\"Any\",\"default\":\"warn\"},{\"name\":\"ncols\",\"kind\":\"Any\",\"default\":null},{\"name\":\"nrows\",\"kind\":\"Any\",\"default\":null},{\"name\":\"allow_resize\",\"kind\":\"Any\",\"default\":true},{\"name\":\"allow_drag\",\"kind\":\"Any\",\"default\":true},{\"name\":\"state\",\"kind\":\"Any\",\"default\":[]}]},{\"type\":\"model\",\"name\":\"drag1\",\"properties\":[{\"name\":\"slider_width\",\"kind\":\"Any\",\"default\":5},{\"name\":\"slider_color\",\"kind\":\"Any\",\"default\":\"black\"},{\"name\":\"value\",\"kind\":\"Any\",\"default\":50}]},{\"type\":\"model\",\"name\":\"click1\",\"properties\":[{\"name\":\"terminal_output\",\"kind\":\"Any\",\"default\":\"\"},{\"name\":\"debug_name\",\"kind\":\"Any\",\"default\":\"\"},{\"name\":\"clears\",\"kind\":\"Any\",\"default\":0}]},{\"type\":\"model\",\"name\":\"copy_to_clipboard1\",\"properties\":[{\"name\":\"fill\",\"kind\":\"Any\",\"default\":\"none\"},{\"name\":\"value\",\"kind\":\"Any\",\"default\":null}]},{\"type\":\"model\",\"name\":\"FastWrapper1\",\"properties\":[{\"name\":\"object\",\"kind\":\"Any\",\"default\":null},{\"name\":\"style\",\"kind\":\"Any\",\"default\":null}]},{\"type\":\"model\",\"name\":\"NotificationAreaBase1\",\"properties\":[{\"name\":\"js_events\",\"kind\":\"Any\",\"default\":{\"type\":\"map\"}},{\"name\":\"position\",\"kind\":\"Any\",\"default\":\"bottom-right\"},{\"name\":\"_clear\",\"kind\":\"Any\",\"default\":0}]},{\"type\":\"model\",\"name\":\"NotificationArea1\",\"properties\":[{\"name\":\"js_events\",\"kind\":\"Any\",\"default\":{\"type\":\"map\"}},{\"name\":\"notifications\",\"kind\":\"Any\",\"default\":[]},{\"name\":\"position\",\"kind\":\"Any\",\"default\":\"bottom-right\"},{\"name\":\"_clear\",\"kind\":\"Any\",\"default\":0},{\"name\":\"types\",\"kind\":\"Any\",\"default\":[{\"type\":\"map\",\"entries\":[[\"type\",\"warning\"],[\"background\",\"#ffc107\"],[\"icon\",{\"type\":\"map\",\"entries\":[[\"className\",\"fas fa-exclamation-triangle\"],[\"tagName\",\"i\"],[\"color\",\"white\"]]}]]},{\"type\":\"map\",\"entries\":[[\"type\",\"info\"],[\"background\",\"#007bff\"],[\"icon\",{\"type\":\"map\",\"entries\":[[\"className\",\"fas fa-info-circle\"],[\"tagName\",\"i\"],[\"color\",\"white\"]]}]]}]}]},{\"type\":\"model\",\"name\":\"Notification\",\"properties\":[{\"name\":\"background\",\"kind\":\"Any\",\"default\":null},{\"name\":\"duration\",\"kind\":\"Any\",\"default\":3000},{\"name\":\"icon\",\"kind\":\"Any\",\"default\":null},{\"name\":\"message\",\"kind\":\"Any\",\"default\":\"\"},{\"name\":\"notification_type\",\"kind\":\"Any\",\"default\":null},{\"name\":\"_destroyed\",\"kind\":\"Any\",\"default\":false}]},{\"type\":\"model\",\"name\":\"TemplateActions1\",\"properties\":[{\"name\":\"open_modal\",\"kind\":\"Any\",\"default\":0},{\"name\":\"close_modal\",\"kind\":\"Any\",\"default\":0}]},{\"type\":\"model\",\"name\":\"BootstrapTemplateActions1\",\"properties\":[{\"name\":\"open_modal\",\"kind\":\"Any\",\"default\":0},{\"name\":\"close_modal\",\"kind\":\"Any\",\"default\":0}]},{\"type\":\"model\",\"name\":\"MaterialTemplateActions1\",\"properties\":[{\"name\":\"open_modal\",\"kind\":\"Any\",\"default\":0},{\"name\":\"close_modal\",\"kind\":\"Any\",\"default\":0}]}]}};\n",
       "  var render_items = [{\"docid\":\"5a35d40d-3795-43fb-8381-91c0384dbbb5\",\"roots\":{\"p1723\":\"c64f44a3-406b-4fb2-be43-400aedb51b22\"},\"root_ids\":[\"p1723\"]}];\n",
       "  var docs = Object.values(docs_json)\n",
       "  if (!docs) {\n",
       "    return\n",
       "  }\n",
       "  const py_version = docs[0].version.replace('rc', '-rc.').replace('.dev', '-dev.')\n",
       "  function embed_document(root) {\n",
       "    var Bokeh = get_bokeh(root)\n",
       "    Bokeh.embed.embed_items_notebook(docs_json, render_items);\n",
       "    for (const render_item of render_items) {\n",
       "      for (const root_id of render_item.root_ids) {\n",
       "\tconst id_el = document.getElementById(root_id)\n",
       "\tif (id_el.children.length && (id_el.children[0].className === 'bk-root')) {\n",
       "\t  const root_el = id_el.children[0]\n",
       "\t  root_el.id = root_el.id + '-rendered'\n",
       "\t}\n",
       "      }\n",
       "    }\n",
       "  }\n",
       "  function get_bokeh(root) {\n",
       "    if (root.Bokeh === undefined) {\n",
       "      return null\n",
       "    } else if (root.Bokeh.version !== py_version) {\n",
       "      if (root.Bokeh.versions === undefined || !root.Bokeh.versions.has(py_version)) {\n",
       "\treturn null\n",
       "      }\n",
       "      return root.Bokeh.versions.get(py_version);\n",
       "    } else if (root.Bokeh.version === py_version) {\n",
       "      return root.Bokeh\n",
       "    }\n",
       "    return null\n",
       "  }\n",
       "  function is_loaded(root) {\n",
       "    var Bokeh = get_bokeh(root)\n",
       "    return (Bokeh != null && Bokeh.Panel !== undefined)\n",
       "  }\n",
       "  if (is_loaded(root)) {\n",
       "    embed_document(root);\n",
       "  } else {\n",
       "    var attempts = 0;\n",
       "    var timer = setInterval(function(root) {\n",
       "      if (is_loaded(root)) {\n",
       "        clearInterval(timer);\n",
       "        embed_document(root);\n",
       "      } else if (document.readyState == \"complete\") {\n",
       "        attempts++;\n",
       "        if (attempts > 200) {\n",
       "          clearInterval(timer);\n",
       "\t  var Bokeh = get_bokeh(root)\n",
       "\t  if (Bokeh == null || Bokeh.Panel == null) {\n",
       "            console.warn(\"Panel: ERROR: Unable to run Panel code because Bokeh or Panel library is missing\");\n",
       "\t  } else {\n",
       "\t    console.warn(\"Panel: WARNING: Attempting to render but not all required libraries could be resolved.\")\n",
       "\t    embed_document(root)\n",
       "\t  }\n",
       "        }\n",
       "      }\n",
       "    }, 25, root)\n",
       "  }\n",
       "})(window);</script>"
      ]
     },
     "metadata": {
      "application/vnd.holoviews_exec.v0+json": {
       "id": "p1723"
      }
     },
     "output_type": "display_data"
    },
    {
     "data": {
      "text/html": [
       "\n",
       "<div class=\"logo-block\">\n",
       "<img src='data:image/png;base64,iVBORw0KGgoAAAANSUhEUgAAAEAAAABACAYAAACqaXHeAAAABHNCSVQICAgIfAhkiAAAAAlwSFlz\n",
       "AAAB+wAAAfsBxc2miwAAABl0RVh0U29mdHdhcmUAd3d3Lmlua3NjYXBlLm9yZ5vuPBoAAA6zSURB\n",
       "VHic7ZtpeFRVmsf/5966taWqUlUJ2UioBBJiIBAwCZtog9IOgjqACsogKtqirT2ttt069nQ/zDzt\n",
       "tI4+CrJIREFaFgWhBXpUNhHZQoKBkIUASchWla1S+3ar7r1nPkDaCAnZKoQP/D7mnPOe9/xy76n3\n",
       "nFSAW9ziFoPFNED2LLK5wcyBDObkb8ZkxuaoSYlI6ZcOKq1eWFdedqNzGHQBk9RMEwFAASkk0Xw3\n",
       "ETacDNi2vtvc7L0ROdw0AjoSotQVkKSvHQz/wRO1lScGModBFbDMaNRN1A4tUBCS3lk7BWhQkgpD\n",
       "lG4852/+7DWr1R3uHAZVQDsbh6ZPN7CyxUrCzJMRouusj0ipRwD2uKm0Zn5d2dFwzX1TCGhnmdGo\n",
       "G62Nna+isiUqhkzuKrkQaJlPEv5mFl2fvGg2t/VnzkEV8F5ioioOEWkLG86fvbpthynjdhXYZziQ\n",
       "x1hC9J2NFyi8vCTt91Fh04KGip0AaG9zuCk2wQCVyoNU3Hjezee9bq92duzzTmxsRJoy+jEZZZYo\n",
       "GTKJ6SJngdJqAfRzpze0+jHreUtPc7gpBLQnIYK6BYp/uGhw9YK688eu7v95ysgshcg9qSLMo3JC\n",
       "4jqLKQFBgdKDPoQ+Pltb8dUyQLpeDjeVgI6EgLIQFT5tEl3rn2losHVsexbZ3EyT9wE1uGdkIPcy\n",
       "BGxn8QUq1QrA5nqW5i2tLqvrrM9NK6AdkVIvL9E9bZL/oyfMVd/jqvc8LylzRBKDJSzIExwhQzuL\n",
       "QYGQj4rHfFTc8mUdu3E7yoLtbTe9gI4EqVgVkug2i5+uXGo919ixbRog+3fTbQ8qJe4ZOYNfMoTI\n",
       "OoshUNosgO60AisX15aeI2PSIp5KiFLI9ubb1vV3Qb2ltwLakUCDAkWX7/nHKRmmGIl9VgYsUhJm\n",
       "2NXjKYADtM1ygne9QQDIXlk49FBstMKx66D1v4+XuQr7vqTe0VcBHQlRWiOCbmmSYe2SqtL6q5rJ\n",
       "zsTb7lKx3FKOYC4DoqyS/B5bvLPxvD9Qtf6saxYLQGJErmDOdOMr/zo96km1nElr8bmPOBwI9COv\n",
       "HnFPRIwmkSOv9kcAS4heRsidOkpeWBgZM+UBrTFAXNYL5Vf2ii9c1trNzpYdaoVil3WIc+wdk+gQ\n",
       "noie3ecCcxt9ITcLAPWt/laGEO/9U6PmzZkenTtsSMQ8uYywJVW+grCstAvCIaAdArAsIWkRDDs/\n",
       "KzLm2YcjY1Lv0UdW73HabE9n6V66cxSzfEmuJssTpKGVp+0vHq73FwL46eOjpMpbRAnNmJFrGJNu\n",
       "Ukf9Yrz+3rghiumCKNXXWPhLYcjxGsIpoCMsIRoFITkW8AuyM8jC1+/QLx4bozCEJIq38+1rtpR6\n",
       "V/yzb8eBlRb3fo5l783N0CWolAzJHaVNzkrTzlEp2bQ2q3TC5gn6wpnoQAmwSiGh2GitnTmVMc5O\n",
       "UyfKWUKCIsU7+fZDKwqdT6DDpvkzAX4/+AMFjk0tDp5GRXLpQ2MUmhgDp5gxQT8+Y7hyPsMi8uxF\n",
       "71H0oebujHALECjFKaW9Lm68n18wXp2kVzIcABytD5iXFzg+WVXkegpAsOOYziqo0OkK76GyquC3\n",
       "ltZAzMhhqlSNmmWTE5T6e3IN05ITFLM4GdN0vtZ3ob8Jh1NAKXFbm5PtLU/eqTSlGjkNAJjdgn/N\n",
       "aedXa0tdi7+t9G0FIF49rtMSEgAs1kDLkTPO7ebm4IUWeyh1bKomXqlgMG6kJmHcSM0clYLJ8XtR\n",
       "1GTnbV3F6I5wCGikAb402npp1h1s7LQUZZSMIfALFOuL3UUrfnS8+rez7v9qcold5tilgHbO1fjK\n",
       "9ubb17u9oshxzMiUBKXWqJNxd+fqb0tLVs4lILFnK71H0Ind7uiPgACVcFJlrb0tV6DzxqqTIhUM\n",
       "CwDf1/rrVhTa33/3pGPxJYdQ2l2cbgVcQSosdx8uqnDtbGjh9SlDVSMNWhlnilfqZk42Th2ZpLpf\n",
       "xrHec5e815zrr0dfBZSwzkZfqsv+1FS1KUknUwPARVvItfKUY+cn57yP7qv07UE3p8B2uhUwLk09\n",
       "e0SCOrK+hbdYHYLjRIl71wWzv9jpEoeOHhGRrJAzyEyNiJuUqX0g2sBN5kGK6y2Blp5M3lsB9Qh4\n",
       "y2Ja6x6+i0ucmKgwMATwhSjdUu49tKrQ/pvN5d53ml2CGwCmJipmKjgmyuaXzNeL2a0AkQ01Th5j\n",
       "2DktO3Jyk8f9vcOBQHV94OK+fPumJmvQHxJoWkaKWq9Vs+yUsbq0zGT1I4RgeH2b5wef7+c7bl8F\n",
       "eKgoHVVZa8ZPEORzR6sT1BzDUAD/d9F78e2Tzv99v8D+fLVTqAKAsbGamKey1Mt9Ann4eH3gTXTz\n",
       "idWtAJ8PQWOk7NzSeQn/OTHDuEikVF1R4z8BQCy+6D1aWRfY0tTGG2OM8rRoPaeIj5ZHzJxszElN\n",
       "VM8K8JS5WOfv8mzRnQAKoEhmt8gyPM4lU9SmBK1MCQBnW4KONT86v1hZ1PbwSXPw4JWussVjtH9Y\n",
       "NCoiL9UoH/6PSu8jFrfY2t36erQHXLIEakMi1SydmzB31h3GGXFDFNPaK8Rme9B79Ixrd0WN+1ij\n",
       "NRQ/doRmuFLBkHSTOm5GruG+pFjFdAmorG4IXH1Qua6ASniclfFtDYt+oUjKipPrCQB7QBQ2lrgP\n",
       "fFzm+9XWUtcqJ3/5vDLDpJ79XHZk3u8nGZ42qlj1+ydtbxysCezrydp6ugmipNJ7WBPB5tydY0jP\n",
       "HaVNzs3QzeE4ZpTbI+ZbnSFPbVOw9vsfnVvqWnirPyCNGD08IlqtYkh2hjZ5dErEQzoNm+6ykyOt\n",
       "Lt5/PQEuSRRKo22VkydK+vvS1XEKlhCJAnsqvcVvH7f/ZU2R67eXbMEGAMiIV5oWZWiWvz5Fv2xG\n",
       "sjqNJQRvn3Rs2lji/lNP19VjAQDgD7FHhujZB9OGqYxRkZxixgRDVlqS6uEOFaJUVu0rPFzctrnF\n",
       "JqijImVp8dEKVWyUXDk92zAuMZ6bFwpBU1HrOw6AdhQgUooChb0+ItMbWJitSo5Ws3IAOGEOtL53\n",
       "0vHZih9sC4vtofZ7Qu6523V/fmGcds1TY3V36pUsBwAbSlxnVh2xLfAD/IAIMDf7XYIkNmXfpp2l\n",
       "18rkAJAy9HKFaIr/qULkeQQKy9zf1JgDB2uaeFNGijo5QsUyacNUUTOnGO42xSnv4oOwpDi1zYkc\n",
       "efUc3I5Gk6PhyTuVKaOGyLUAYPGIoY9Pu/atL/L92+4q9wbflRJ2Trpm/jPjdBtfnqB/dIThcl8A\n",
       "KG7hbRuKnb8qsQsVvVlTrwQAQMUlf3kwJI24Z4JhPMtcfng5GcH49GsrxJpGvvHIaeem2ma+KSjQ\n",
       "lIwUdYyCY8j4dE1KzijNnIP2llF2wcXNnsoapw9XxsgYAl6k+KzUXbi2yP3KR2ecf6z3BFsBICdW\n",
       "nvnIaG3eHybqX7vbpEqUMT+9OL4Qpe8VON7dXuFd39v19FoAABRVePbGGuXTszO0P7tu6lghUonE\n",
       "llRdrhArLvmKdh9u29jcFiRRkfLUxBiFNiqSU9icoZQHo5mYBI1MBgBH6wMNb+U7Pnw337H4gi1Y\n",
       "ciWs+uks3Z9fztUvfzxTm9Ne8XXkvQLHNytOOZeiD4e0PgkAIAYCYknKUNUDSXEKzdWNpnil7r4p\n",
       "xqkjTarZMtk/K8TQ6Qve78qqvXurGwIJqcOUKfUWHsm8KGvxSP68YudXq4pcj39X49uOK2X142O0\n",
       "Tz5/u/7TVybqH0rSya6ZBwD21/gubbrgWdDgEOx9WUhfBaC2ibcEBYm7a7x+ukrBMNcEZggyR0TE\n",
       "T8zUPjikQ4VosQZbTpS4vqizBKvqmvjsqnpfzaZyx9JPiz1/bfGKdgD45XB1zoIMzYbfTdS/NClB\n",
       "Gct0USiY3YL/g0LHy/uq/Ef6uo5+n0R/vyhp17Klpge763f8rMu6YU/zrn2nml+2WtH+Z+5IAAFc\n",
       "2bUTdTDOSNa9+cQY7YLsOIXhevEkCvzph7a8laecz/Un/z4/Ae04XeL3UQb57IwU9ZDr9UuKVajv\n",
       "nxp1+1UVIo/LjztZkKH59fO3G/JemqCfmaCRqbqbd90ZZ8FfjtkfAyD0J/9+C2h1hDwsSxvGjNDc\n",
       "b4zk5NfrSwiQblLHzZhg+Jf4aPlUwpDqkQqa9nimbt1/TDH8OitGMaQnj+RJS6B1fbF7SY1TqO5v\n",
       "/v0WAADl1f7zokgS7s7VT2DZ7pegUjBM7mjtiDZbcN4j0YrHH0rXpCtY0qPX0cVL0rv5jv/ZXend\n",
       "0u/EESYBAFBU4T4Qa5TflZOhTe7pmKpaP8kCVUVw1+yhXfJWvn1P3hnXi33JsTN6PnP3hHZ8Z3/h\n",
       "aLHzmkNPuPj7Bc/F/Q38CwjTpSwQXgE4Vmwry9tpfq/ZFgqFMy4AVDtCvi8rvMvOmv0N4YwbVgEA\n",
       "sPM72/KVnzfspmH7HQGCRLG2yL1+z8XwvPcdCbsAANh+xPzstgMtxeGKt+6MK3/tacfvwhWvIwMi\n",
       "oKEBtm0H7W+UVfkc/Y1V0BhoPlDr/w1w/eu1vjIgAgDg22OtX6/eYfnEz/focrZTHAFR+PSs56/7\n",
       "q32nwpjazxgwAQCwcU/T62t3WL7r6/jVRa6/byp1rei+Z98ZUAEAhEPHPc8fKnTU9nbgtnOe8h0l\n",
       "9hcGIqmODLQAHCy2Xti6v/XNRivf43f4fFvIteu854+VHnR7q9tfBlwAAGz+pnndB9vM26UebAe8\n",
       "SLHujPOTPVW+rwY+sxskAAC2HrA8t2Vvc7ffP1r9o+vwR2dcr92InIAbKKC1FZ5tB1tf+/G8p8sv\n",
       "N/9Q5zd/XR34LYCwV5JdccMEAMDBk45DH243r/X4xGvqxFa/GNpS7n6rwOwNWwHVE26oAADYurf1\n",
       "zx/utOzt+DMKYM0p17YtZZ5VNzqfsB2HewG1WXE8PoZ7gOclbTIvynZf9JV+fqZtfgs/8F/Nu5rB\n",
       "EIBmJ+8QRMmpU7EzGRsf2FzuePqYRbzh/zE26EwdrT10f6r6o8HOYzCJB9Dpff8tbnGLG8L/A/WE\n",
       "roTBs2RqAAAAAElFTkSuQmCC'\n",
       "     style='height:25px; border-radius:12px; display: inline-block; float: left; vertical-align: middle'></img>\n",
       "\n",
       "\n",
       "  <img src='data:image/png;base64,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'\n",
       "       style='height:15px; border-radius:12px; display: inline-block; float: left'></img>\n",
       "  \n",
       "\n",
       "\n",
       "\n",
       "\n",
       "</div>\n"
      ]
     },
     "metadata": {},
     "output_type": "display_data"
    },
    {
     "name": "stdout",
     "output_type": "stream",
     "text": [
      "<function PMatrix.<locals>.<lambda> at 0x0000013B01E1C7C0>\n",
      "100\n",
      "<function PMatrix.<locals>.<lambda> at 0x0000013B01A05620>\n",
      "100\n"
     ]
    },
    {
     "data": {},
     "metadata": {},
     "output_type": "display_data"
    },
    {
     "data": {
      "application/vnd.holoviews_exec.v0+json": "",
      "text/html": [
       "<div id='p1725'>\n",
       "  <div id=\"ad9ca3a4-c57f-46ac-b810-e445c383e16b\" data-root-id=\"p1725\" style=\"display: contents;\"></div>\n",
       "</div>\n",
       "<script type=\"application/javascript\">(function(root) {\n",
       "  var docs_json = {\"24d985d0-8b8d-4cf9-b1ce-2eb9acbd062b\":{\"version\":\"3.3.4\",\"title\":\"Bokeh Application\",\"roots\":[{\"type\":\"object\",\"name\":\"Row\",\"id\":\"p1725\",\"attributes\":{\"name\":\"Row02323\",\"tags\":[\"embedded\"],\"stylesheets\":[\"\\n:host(.pn-loading.pn-arc):before, .pn-loading.pn-arc:before {\\n  background-image: url(\\\"data:image/svg+xml;base64,PHN2ZyB4bWxucz0iaHR0cDovL3d3dy53My5vcmcvMjAwMC9zdmciIHN0eWxlPSJtYXJnaW46IGF1dG87IGJhY2tncm91bmQ6IG5vbmU7IGRpc3BsYXk6IGJsb2NrOyBzaGFwZS1yZW5kZXJpbmc6IGF1dG87IiB2aWV3Qm94PSIwIDAgMTAwIDEwMCIgcHJlc2VydmVBc3BlY3RSYXRpbz0ieE1pZFlNaWQiPiAgPGNpcmNsZSBjeD0iNTAiIGN5PSI1MCIgZmlsbD0ibm9uZSIgc3Ryb2tlPSIjYzNjM2MzIiBzdHJva2Utd2lkdGg9IjEwIiByPSIzNSIgc3Ryb2tlLWRhc2hhcnJheT0iMTY0LjkzMzYxNDMxMzQ2NDE1IDU2Ljk3Nzg3MTQzNzgyMTM4Ij4gICAgPGFuaW1hdGVUcmFuc2Zvcm0gYXR0cmlidXRlTmFtZT0idHJhbnNmb3JtIiB0eXBlPSJyb3RhdGUiIHJlcGVhdENvdW50PSJpbmRlZmluaXRlIiBkdXI9IjFzIiB2YWx1ZXM9IjAgNTAgNTA7MzYwIDUwIDUwIiBrZXlUaW1lcz0iMDsxIj48L2FuaW1hdGVUcmFuc2Zvcm0+ICA8L2NpcmNsZT48L3N2Zz4=\\\");\\n  background-size: auto calc(min(50%, 400px));\\n}\",{\"type\":\"object\",\"name\":\"ImportedStyleSheet\",\"id\":\"p1728\",\"attributes\":{\"url\":\"https://cdn.holoviz.org/panel/1.3.8/dist/css/loading.css\"}},{\"type\":\"object\",\"name\":\"ImportedStyleSheet\",\"id\":\"p1956\",\"attributes\":{\"url\":\"https://cdn.holoviz.org/panel/1.3.8/dist/css/listpanel.css\"}},{\"type\":\"object\",\"name\":\"ImportedStyleSheet\",\"id\":\"p1726\",\"attributes\":{\"url\":\"https://cdn.holoviz.org/panel/1.3.8/dist/bundled/theme/default.css\"}},{\"type\":\"object\",\"name\":\"ImportedStyleSheet\",\"id\":\"p1727\",\"attributes\":{\"url\":\"https://cdn.holoviz.org/panel/1.3.8/dist/bundled/theme/native.css\"}}],\"margin\":0,\"sizing_mode\":\"stretch_width\",\"align\":\"start\",\"children\":[{\"type\":\"object\",\"name\":\"Spacer\",\"id\":\"p1729\",\"attributes\":{\"name\":\"HSpacer02329\",\"stylesheets\":[\"\\n:host(.pn-loading.pn-arc):before, .pn-loading.pn-arc:before {\\n  background-image: url(\\\"data:image/svg+xml;base64,PHN2ZyB4bWxucz0iaHR0cDovL3d3dy53My5vcmcvMjAwMC9zdmciIHN0eWxlPSJtYXJnaW46IGF1dG87IGJhY2tncm91bmQ6IG5vbmU7IGRpc3BsYXk6IGJsb2NrOyBzaGFwZS1yZW5kZXJpbmc6IGF1dG87IiB2aWV3Qm94PSIwIDAgMTAwIDEwMCIgcHJlc2VydmVBc3BlY3RSYXRpbz0ieE1pZFlNaWQiPiAgPGNpcmNsZSBjeD0iNTAiIGN5PSI1MCIgZmlsbD0ibm9uZSIgc3Ryb2tlPSIjYzNjM2MzIiBzdHJva2Utd2lkdGg9IjEwIiByPSIzNSIgc3Ryb2tlLWRhc2hhcnJheT0iMTY0LjkzMzYxNDMxMzQ2NDE1IDU2Ljk3Nzg3MTQzNzgyMTM4Ij4gICAgPGFuaW1hdGVUcmFuc2Zvcm0gYXR0cmlidXRlTmFtZT0idHJhbnNmb3JtIiB0eXBlPSJyb3RhdGUiIHJlcGVhdENvdW50PSJpbmRlZmluaXRlIiBkdXI9IjFzIiB2YWx1ZXM9IjAgNTAgNTA7MzYwIDUwIDUwIiBrZXlUaW1lcz0iMDsxIj48L2FuaW1hdGVUcmFuc2Zvcm0+ICA8L2NpcmNsZT48L3N2Zz4=\\\");\\n  background-size: auto calc(min(50%, 400px));\\n}\",{\"id\":\"p1728\"},{\"id\":\"p1726\"},{\"id\":\"p1727\"}],\"margin\":0,\"sizing_mode\":\"stretch_width\",\"align\":\"start\"}},{\"type\":\"object\",\"name\":\"GridPlot\",\"id\":\"p1945\",\"attributes\":{\"rows\":null,\"cols\":null,\"toolbar\":{\"type\":\"object\",\"name\":\"Toolbar\",\"id\":\"p1952\",\"attributes\":{\"tools\":[{\"type\":\"object\",\"name\":\"ToolProxy\",\"id\":\"p1947\",\"attributes\":{\"tools\":[{\"type\":\"object\",\"name\":\"WheelZoomTool\",\"id\":\"p1735\",\"attributes\":{\"tags\":[\"hv_created\"],\"renderers\":\"auto\",\"zoom_together\":\"none\"}},{\"type\":\"object\",\"name\":\"WheelZoomTool\",\"id\":\"p1788\",\"attributes\":{\"tags\":[\"hv_created\"],\"renderers\":\"auto\",\"zoom_together\":\"none\"}},{\"type\":\"object\",\"name\":\"WheelZoomTool\",\"id\":\"p1841\",\"attributes\":{\"tags\":[\"hv_created\"],\"renderers\":\"auto\",\"zoom_together\":\"none\"}},{\"type\":\"object\",\"name\":\"WheelZoomTool\",\"id\":\"p1894\",\"attributes\":{\"tags\":[\"hv_created\"],\"renderers\":\"auto\",\"zoom_together\":\"none\"}}]}},{\"type\":\"object\",\"name\":\"SaveTool\",\"id\":\"p1948\"},{\"type\":\"object\",\"name\":\"ToolProxy\",\"id\":\"p1949\",\"attributes\":{\"tools\":[{\"type\":\"object\",\"name\":\"PanTool\",\"id\":\"p1759\"},{\"type\":\"object\",\"name\":\"PanTool\",\"id\":\"p1812\"},{\"type\":\"object\",\"name\":\"PanTool\",\"id\":\"p1865\"},{\"type\":\"object\",\"name\":\"PanTool\",\"id\":\"p1918\"}]}},{\"type\":\"object\",\"name\":\"ToolProxy\",\"id\":\"p1950\",\"attributes\":{\"tools\":[{\"type\":\"object\",\"name\":\"BoxZoomTool\",\"id\":\"p1760\",\"attributes\":{\"overlay\":{\"type\":\"object\",\"name\":\"BoxAnnotation\",\"id\":\"p1761\",\"attributes\":{\"syncable\":false,\"level\":\"overlay\",\"visible\":false,\"left\":{\"type\":\"number\",\"value\":\"nan\"},\"right\":{\"type\":\"number\",\"value\":\"nan\"},\"top\":{\"type\":\"number\",\"value\":\"nan\"},\"bottom\":{\"type\":\"number\",\"value\":\"nan\"},\"left_units\":\"canvas\",\"right_units\":\"canvas\",\"top_units\":\"canvas\",\"bottom_units\":\"canvas\",\"line_color\":\"black\",\"line_alpha\":1.0,\"line_width\":2,\"line_dash\":[4,4],\"fill_color\":\"lightgrey\",\"fill_alpha\":0.5}}}},{\"type\":\"object\",\"name\":\"BoxZoomTool\",\"id\":\"p1813\",\"attributes\":{\"overlay\":{\"type\":\"object\",\"name\":\"BoxAnnotation\",\"id\":\"p1814\",\"attributes\":{\"syncable\":false,\"level\":\"overlay\",\"visible\":false,\"left\":{\"type\":\"number\",\"value\":\"nan\"},\"right\":{\"type\":\"number\",\"value\":\"nan\"},\"top\":{\"type\":\"number\",\"value\":\"nan\"},\"bottom\":{\"type\":\"number\",\"value\":\"nan\"},\"left_units\":\"canvas\",\"right_units\":\"canvas\",\"top_units\":\"canvas\",\"bottom_units\":\"canvas\",\"line_color\":\"black\",\"line_alpha\":1.0,\"line_width\":2,\"line_dash\":[4,4],\"fill_color\":\"lightgrey\",\"fill_alpha\":0.5}}}},{\"type\":\"object\",\"name\":\"BoxZoomTool\",\"id\":\"p1866\",\"attributes\":{\"overlay\":{\"type\":\"object\",\"name\":\"BoxAnnotation\",\"id\":\"p1867\",\"attributes\":{\"syncable\":false,\"level\":\"overlay\",\"visible\":false,\"left\":{\"type\":\"number\",\"value\":\"nan\"},\"right\":{\"type\":\"number\",\"value\":\"nan\"},\"top\":{\"type\":\"number\",\"value\":\"nan\"},\"bottom\":{\"type\":\"number\",\"value\":\"nan\"},\"left_units\":\"canvas\",\"right_units\":\"canvas\",\"top_units\":\"canvas\",\"bottom_units\":\"canvas\",\"line_color\":\"black\",\"line_alpha\":1.0,\"line_width\":2,\"line_dash\":[4,4],\"fill_color\":\"lightgrey\",\"fill_alpha\":0.5}}}},{\"type\":\"object\",\"name\":\"BoxZoomTool\",\"id\":\"p1919\",\"attributes\":{\"overlay\":{\"type\":\"object\",\"name\":\"BoxAnnotation\",\"id\":\"p1920\",\"attributes\":{\"syncable\":false,\"level\":\"overlay\",\"visible\":false,\"left\":{\"type\":\"number\",\"value\":\"nan\"},\"right\":{\"type\":\"number\",\"value\":\"nan\"},\"top\":{\"type\":\"number\",\"value\":\"nan\"},\"bottom\":{\"type\":\"number\",\"value\":\"nan\"},\"left_units\":\"canvas\",\"right_units\":\"canvas\",\"top_units\":\"canvas\",\"bottom_units\":\"canvas\",\"line_color\":\"black\",\"line_alpha\":1.0,\"line_width\":2,\"line_dash\":[4,4],\"fill_color\":\"lightgrey\",\"fill_alpha\":0.5}}}}]}},{\"type\":\"object\",\"name\":\"ToolProxy\",\"id\":\"p1951\",\"attributes\":{\"tools\":[{\"type\":\"object\",\"name\":\"ResetTool\",\"id\":\"p1766\"},{\"type\":\"object\",\"name\":\"ResetTool\",\"id\":\"p1819\"},{\"type\":\"object\",\"name\":\"ResetTool\",\"id\":\"p1872\"},{\"type\":\"object\",\"name\":\"ResetTool\",\"id\":\"p1925\"}]}}]}},\"children\":[[{\"type\":\"object\",\"name\":\"Figure\",\"id\":\"p1736\",\"attributes\":{\"width\":300,\"height\":300,\"sizing_mode\":\"fixed\",\"align\":\"start\",\"x_range\":{\"type\":\"object\",\"name\":\"Range1d\",\"id\":\"p1730\",\"attributes\":{\"tags\":[[[\"x\",\"x\",null]],[]],\"start\":-0.5,\"end\":0.5,\"reset_start\":-0.5,\"reset_end\":0.5}},\"y_range\":{\"type\":\"object\",\"name\":\"Range1d\",\"id\":\"p1731\",\"attributes\":{\"tags\":[[[\"y\",\"y\",null]],{\"type\":\"map\",\"entries\":[[\"invert_yaxis\",false],[\"autorange\",false]]}],\"start\":-0.5,\"end\":0.5,\"reset_start\":-0.5,\"reset_end\":0.5}},\"x_scale\":{\"type\":\"object\",\"name\":\"LinearScale\",\"id\":\"p1746\"},\"y_scale\":{\"type\":\"object\",\"name\":\"LinearScale\",\"id\":\"p1747\"},\"title\":{\"type\":\"object\",\"name\":\"Title\",\"id\":\"p1739\",\"attributes\":{\"text\":\"U-Matrix\",\"text_color\":\"black\",\"text_font_size\":\"12pt\"}},\"renderers\":[{\"type\":\"object\",\"name\":\"GlyphRenderer\",\"id\":\"p1780\",\"attributes\":{\"data_source\":{\"type\":\"object\",\"name\":\"ColumnDataSource\",\"id\":\"p1768\",\"attributes\":{\"selected\":{\"type\":\"object\",\"name\":\"Selection\",\"id\":\"p1769\",\"attributes\":{\"indices\":[],\"line_indices\":[]}},\"selection_policy\":{\"type\":\"object\",\"name\":\"UnionRenderers\",\"id\":\"p1770\"},\"data\":{\"type\":\"map\",\"entries\":[[\"x\",[-0.5]],[\"y\",[-0.5]],[\"dw\",[1.0]],[\"dh\",[1.0]],[\"image\",[{\"type\":\"ndarray\",\"array\":{\"type\":\"bytes\",\"data\":\"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\"},\"shape\":[19,19],\"dtype\":\"float64\",\"order\":\"little\"}]]]}}},\"view\":{\"type\":\"object\",\"name\":\"CDSView\",\"id\":\"p1781\",\"attributes\":{\"filter\":{\"type\":\"object\",\"name\":\"AllIndices\",\"id\":\"p1782\"}}},\"glyph\":{\"type\":\"object\",\"name\":\"Image\",\"id\":\"p1774\",\"attributes\":{\"tags\":[\"apply_ranges\"],\"x\":{\"type\":\"field\",\"field\":\"x\"},\"y\":{\"type\":\"field\",\"field\":\"y\"},\"dw\":{\"type\":\"field\",\"field\":\"dw\"},\"dh\":{\"type\":\"field\",\"field\":\"dh\"},\"image\":{\"type\":\"field\",\"field\":\"image\"},\"color_mapper\":{\"type\":\"object\",\"name\":\"LinearColorMapper\",\"id\":\"p1767\",\"attributes\":{\"palette\":[\"#00007f\",\"#000084\",\"#000088\",\"#00008d\",\"#000091\",\"#000096\",\"#00009a\",\"#00009f\",\"#0000a3\",\"#0000a8\",\"#0000ac\",\"#0000b1\",\"#0000b6\",\"#0000ba\",\"#0000bf\",\"#0000c3\",\"#0000c8\",\"#0000cc\",\"#0000d1\",\"#0000d5\",\"#0000da\",\"#0000de\",\"#0000e3\",\"#0000e8\",\"#0000ec\",\"#0000f1\",\"#0000f5\",\"#0000fa\",\"#0000fe\",\"#0000ff\",\"#0000ff\",\"#0000ff\",\"#0000ff\",\"#0004ff\",\"#0008ff\",\"#000cff\",\"#0010ff\",\"#0014ff\",\"#0018ff\",\"#001cff\",\"#0020ff\",\"#0024ff\",\"#0028ff\",\"#002cff\",\"#0030ff\",\"#0034ff\",\"#0038ff\",\"#003cff\",\"#0040ff\",\"#0044ff\",\"#0048ff\",\"#004cff\",\"#0050ff\",\"#0054ff\",\"#0058ff\",\"#005cff\",\"#0060ff\",\"#0064ff\",\"#0068ff\",\"#006cff\",\"#0070ff\",\"#0074ff\",\"#0078ff\",\"#007cff\",\"#0080ff\",\"#0084ff\",\"#0088ff\",\"#008cff\",\"#0090ff\",\"#0094ff\",\"#0098ff\",\"#009cff\",\"#00a0ff\",\"#00a4ff\",\"#00a8ff\",\"#00acff\",\"#00b0ff\",\"#00b4ff\",\"#00b8ff\",\"#00bcff\",\"#00c0ff\",\"#00c4ff\",\"#00c8ff\",\"#00ccff\",\"#00d0ff\",\"#00d4ff\",\"#00d8ff\",\"#00dcfe\",\"#00e0fa\",\"#00e4f7\",\"#02e8f4\",\"#05ecf1\",\"#08f0ed\",\"#0cf4ea\",\"#0ff8e7\",\"#12fce4\",\"#15ffe1\",\"#18ffdd\",\"#1cffda\",\"#1fffd7\",\"#22ffd4\",\"#25ffd0\",\"#29ffcd\",\"#2cffca\",\"#2fffc7\",\"#32ffc3\",\"#36ffc0\",\"#39ffbd\",\"#3cffba\",\"#3fffb7\",\"#42ffb3\",\"#46ffb0\",\"#49ffad\",\"#4cffaa\",\"#4fffa6\",\"#53ffa3\",\"#56ffa0\",\"#59ff9d\",\"#5cff9a\",\"#5fff96\",\"#63ff93\",\"#66ff90\",\"#69ff8d\",\"#6cff89\",\"#70ff86\",\"#73ff83\",\"#76ff80\",\"#79ff7d\",\"#7cff79\",\"#80ff76\",\"#83ff73\",\"#86ff70\",\"#89ff6c\",\"#8dff69\",\"#90ff66\",\"#93ff63\",\"#96ff5f\",\"#9aff5c\",\"#9dff59\",\"#a0ff56\",\"#a3ff53\",\"#a6ff4f\",\"#aaff4c\",\"#adff49\",\"#b0ff46\",\"#b3ff42\",\"#b7ff3f\",\"#baff3c\",\"#bdff39\",\"#c0ff36\",\"#c3ff32\",\"#c7ff2f\",\"#caff2c\",\"#cdff29\",\"#d0ff25\",\"#d4ff22\",\"#d7ff1f\",\"#daff1c\",\"#ddff18\",\"#e0ff15\",\"#e4ff12\",\"#e7ff0f\",\"#eaff0c\",\"#edff08\",\"#f1fc05\",\"#f4f802\",\"#f7f400\",\"#faf000\",\"#feed00\",\"#ffe900\",\"#ffe500\",\"#ffe200\",\"#ffde00\",\"#ffda00\",\"#ffd700\",\"#ffd300\",\"#ffcf00\",\"#ffcb00\",\"#ffc800\",\"#ffc400\",\"#ffc000\",\"#ffbd00\",\"#ffb900\",\"#ffb500\",\"#ffb100\",\"#ffae00\",\"#ffaa00\",\"#ffa600\",\"#ffa300\",\"#ff9f00\",\"#ff9b00\",\"#ff9800\",\"#ff9400\",\"#ff9000\",\"#ff8c00\",\"#ff8900\",\"#ff8500\",\"#ff8100\",\"#ff7e00\",\"#ff7a00\",\"#ff7600\",\"#ff7300\",\"#ff6f00\",\"#ff6b00\",\"#ff6700\",\"#ff6400\",\"#ff6000\",\"#ff5c00\",\"#ff5900\",\"#ff5500\",\"#ff5100\",\"#ff4d00\",\"#ff4a00\",\"#ff4600\",\"#ff4200\",\"#ff3f00\",\"#ff3b00\",\"#ff3700\",\"#ff3400\",\"#ff3000\",\"#ff2c00\",\"#ff2800\",\"#ff2500\",\"#ff2100\",\"#ff1d00\",\"#ff1a00\",\"#ff1600\",\"#fe1200\",\"#fa0f00\",\"#f50b00\",\"#f10700\",\"#ec0300\",\"#e80000\",\"#e30000\",\"#de0000\",\"#da0000\",\"#d50000\",\"#d10000\",\"#cc0000\",\"#c80000\",\"#c30000\",\"#bf0000\",\"#ba0000\",\"#b60000\",\"#b10000\",\"#ac0000\",\"#a80000\",\"#a30000\",\"#9f0000\",\"#9a0000\",\"#960000\",\"#910000\",\"#8d0000\",\"#880000\",\"#840000\",\"#7f0000\"],\"nan_color\":\"rgba(0, 0, 0, 0)\",\"low\":0.13858240318121876,\"high\":2.6339684890933848}}}},\"selection_glyph\":{\"type\":\"object\",\"name\":\"Image\",\"id\":\"p1783\",\"attributes\":{\"tags\":[\"apply_ranges\"],\"x\":{\"type\":\"field\",\"field\":\"x\"},\"y\":{\"type\":\"field\",\"field\":\"y\"},\"dw\":{\"type\":\"field\",\"field\":\"dw\"},\"dh\":{\"type\":\"field\",\"field\":\"dh\"},\"global_alpha\":{\"type\":\"value\",\"value\":1.0},\"image\":{\"type\":\"field\",\"field\":\"image\"},\"color_mapper\":{\"id\":\"p1767\"}}},\"nonselection_glyph\":{\"type\":\"object\",\"name\":\"Image\",\"id\":\"p1776\",\"attributes\":{\"tags\":[\"apply_ranges\"],\"x\":{\"type\":\"field\",\"field\":\"x\"},\"y\":{\"type\":\"field\",\"field\":\"y\"},\"dw\":{\"type\":\"field\",\"field\":\"dw\"},\"dh\":{\"type\":\"field\",\"field\":\"dh\"},\"global_alpha\":{\"type\":\"value\",\"value\":0.1},\"image\":{\"type\":\"field\",\"field\":\"image\"},\"color_mapper\":{\"id\":\"p1767\"}}},\"muted_glyph\":{\"type\":\"object\",\"name\":\"Image\",\"id\":\"p1778\",\"attributes\":{\"tags\":[\"apply_ranges\"],\"x\":{\"type\":\"field\",\"field\":\"x\"},\"y\":{\"type\":\"field\",\"field\":\"y\"},\"dw\":{\"type\":\"field\",\"field\":\"dw\"},\"dh\":{\"type\":\"field\",\"field\":\"dh\"},\"global_alpha\":{\"type\":\"value\",\"value\":0.2},\"image\":{\"type\":\"field\",\"field\":\"image\"},\"color_mapper\":{\"id\":\"p1767\"}}}}}],\"toolbar\":{\"type\":\"object\",\"name\":\"Toolbar\",\"id\":\"p1745\",\"attributes\":{\"tools\":[{\"id\":\"p1735\"},{\"type\":\"object\",\"name\":\"SaveTool\",\"id\":\"p1758\"},{\"id\":\"p1759\"},{\"id\":\"p1760\"},{\"id\":\"p1766\"}],\"active_drag\":{\"id\":\"p1759\"},\"active_scroll\":{\"id\":\"p1735\"}}},\"toolbar_location\":null,\"left\":[{\"type\":\"object\",\"name\":\"LinearAxis\",\"id\":\"p1753\",\"attributes\":{\"visible\":false,\"ticker\":{\"type\":\"object\",\"name\":\"BasicTicker\",\"id\":\"p1754\",\"attributes\":{\"mantissas\":[1,2,5]}},\"formatter\":{\"type\":\"object\",\"name\":\"BasicTickFormatter\",\"id\":\"p1755\"},\"axis_label\":\"y\",\"major_label_policy\":{\"type\":\"object\",\"name\":\"AllLabels\",\"id\":\"p1756\"}}}],\"below\":[{\"type\":\"object\",\"name\":\"LinearAxis\",\"id\":\"p1748\",\"attributes\":{\"visible\":false,\"ticker\":{\"type\":\"object\",\"name\":\"BasicTicker\",\"id\":\"p1749\",\"attributes\":{\"mantissas\":[1,2,5]}},\"formatter\":{\"type\":\"object\",\"name\":\"BasicTickFormatter\",\"id\":\"p1750\"},\"axis_label\":\"x\",\"major_label_policy\":{\"type\":\"object\",\"name\":\"AllLabels\",\"id\":\"p1751\"}}}],\"center\":[{\"type\":\"object\",\"name\":\"Grid\",\"id\":\"p1752\",\"attributes\":{\"axis\":{\"id\":\"p1748\"},\"grid_line_color\":null}},{\"type\":\"object\",\"name\":\"Grid\",\"id\":\"p1757\",\"attributes\":{\"dimension\":1,\"axis\":{\"id\":\"p1753\"},\"grid_line_color\":null}}],\"min_border_top\":10,\"min_border_bottom\":10,\"min_border_left\":10,\"min_border_right\":10,\"output_backend\":\"webgl\"}},0,0],[{\"type\":\"object\",\"name\":\"Figure\",\"id\":\"p1789\",\"attributes\":{\"width\":300,\"height\":300,\"sizing_mode\":\"fixed\",\"align\":\"start\",\"x_range\":{\"id\":\"p1730\"},\"y_range\":{\"id\":\"p1731\"},\"x_scale\":{\"type\":\"object\",\"name\":\"LinearScale\",\"id\":\"p1799\"},\"y_scale\":{\"type\":\"object\",\"name\":\"LinearScale\",\"id\":\"p1800\"},\"title\":{\"type\":\"object\",\"name\":\"Title\",\"id\":\"p1792\",\"attributes\":{\"text\":\"SDH\",\"text_color\":\"black\",\"text_font_size\":\"12pt\"}},\"renderers\":[{\"type\":\"object\",\"name\":\"GlyphRenderer\",\"id\":\"p1833\",\"attributes\":{\"data_source\":{\"type\":\"object\",\"name\":\"ColumnDataSource\",\"id\":\"p1821\",\"attributes\":{\"selected\":{\"type\":\"object\",\"name\":\"Selection\",\"id\":\"p1822\",\"attributes\":{\"indices\":[],\"line_indices\":[]}},\"selection_policy\":{\"type\":\"object\",\"name\":\"UnionRenderers\",\"id\":\"p1823\"},\"data\":{\"type\":\"map\",\"entries\":[[\"x\",[-0.5]],[\"y\",[-0.5]],[\"dw\",[1.0]],[\"dh\",[1.0]],[\"image\",[{\"type\":\"ndarray\",\"array\":{\"type\":\"bytes\",\"data\":\"z5gmA8xZ5j+OqCLE21X3P0aIt6vuHQJAxk7sxE7sBECaJgPMWTb/PzrluQSyhgFAD4kqQrxd9T931b1DoorwPwaYs2z+GdM/ywBzls0/8z9DL/RCL/TyP9RkgDnL5v8/jTWM9pvyBEAUVYR4u+oGQOYSyBpG+wVAAHOWzT9jAkCt7h0SVYQAQI9PX1scLPg/LUK8XXXv8D8tm3/GNBnwP5mzbP4Z0/Q/LZt/xjQZAEBEoooQb1cFQIKSjk9fWwRA43oUrkfhAkCxLQ4WlHT8P6VwPQrXo+A/kagixNtV5z+lPJdA1jD6PzhyIzdyI/c/TgaYs2z++T+N9pvyXAIBQFaeSyBrGP0/4+2qe4dExT8g+IEf+IHPP0BjmgwwZ+k/YpoMMGfZ7D8yMzMzMzPzP/Ppa4uDBfU/L4GsYbTf9D9nTJMB5izLP8FDoooQb9c/n762OFhQ0j+6HoXrUbjuP7P5Z0yTAfY/wZxl88+Y9j+A4Ad+4AfuP2q/Kc8lkOU/drvq3iFR9T+e2Imd2IntP6g8l0DWMNo/fBSuR+F65D++Q6KKEG/3P6+gpOPT1/Y/4HoUrkfh+j+c8lwCWcP4P/JcAlnDaO8/rEfhehSu9z90CWQNo/32P4oQb1fdO/Q/gFOeSyBr6D/errp3SFTxP1VqpVZqpfY/yY3cyI3c+D9AvF1175AAQP2mPJdA1gBApOPT1xYHA0DZFgcLSjr+P6Xj09cWBwNAKUK8XXXvAECgvrY4WFDyPzlyIzdyI/c/ls0/Y5oM8D9e6IVe6IX+P5TnEsgaRgNALw4WlHR8AkCSNYz2m/IEQJ1l88+YJgNAlyYDzFk2/z9lZmZmZmb2P/ib8lwCWfM/jsL1KFyP8j+qCPF21b3zPyASVYR4u/o/Kun49LXFAUD0Qi/0Qi8EQAtKOj59bQFA+fS1xcGCAkB375CoIsT7P1UrtVIrtfI/2RYHC0o67j+voKTj09fWP5uZmZmZmek/v7Y4WFDS8T9EvF1175D4PzOmyQBzlv0/oYoQb1fd+z+0bP4Z02QAQA+JKkK8XfU/qDyXQNYw6j8=\"},\"shape\":[10,10],\"dtype\":\"float64\",\"order\":\"little\"}]]]}}},\"view\":{\"type\":\"object\",\"name\":\"CDSView\",\"id\":\"p1834\",\"attributes\":{\"filter\":{\"type\":\"object\",\"name\":\"AllIndices\",\"id\":\"p1835\"}}},\"glyph\":{\"type\":\"object\",\"name\":\"Image\",\"id\":\"p1827\",\"attributes\":{\"tags\":[\"apply_ranges\"],\"x\":{\"type\":\"field\",\"field\":\"x\"},\"y\":{\"type\":\"field\",\"field\":\"y\"},\"dw\":{\"type\":\"field\",\"field\":\"dw\"},\"dh\":{\"type\":\"field\",\"field\":\"dh\"},\"image\":{\"type\":\"field\",\"field\":\"image\"},\"color_mapper\":{\"type\":\"object\",\"name\":\"LinearColorMapper\",\"id\":\"p1820\",\"attributes\":{\"palette\":[\"#440154\",\"#440255\",\"#440357\",\"#450558\",\"#45065a\",\"#45085b\",\"#46095c\",\"#460b5e\",\"#460c5f\",\"#460e61\",\"#470f62\",\"#471163\",\"#471265\",\"#471466\",\"#471567\",\"#471669\",\"#47186a\",\"#48196b\",\"#481a6c\",\"#481c6e\",\"#481d6f\",\"#481e70\",\"#482071\",\"#482172\",\"#482273\",\"#482374\",\"#472575\",\"#472676\",\"#472777\",\"#472878\",\"#472a79\",\"#472b7a\",\"#472c7b\",\"#462d7c\",\"#462f7c\",\"#46307d\",\"#46317e\",\"#45327f\",\"#45347f\",\"#453580\",\"#453681\",\"#443781\",\"#443982\",\"#433a83\",\"#433b83\",\"#433c84\",\"#423d84\",\"#423e85\",\"#424085\",\"#414186\",\"#414286\",\"#404387\",\"#404487\",\"#3f4587\",\"#3f4788\",\"#3e4888\",\"#3e4989\",\"#3d4a89\",\"#3d4b89\",\"#3d4c89\",\"#3c4d8a\",\"#3c4e8a\",\"#3b508a\",\"#3b518a\",\"#3a528b\",\"#3a538b\",\"#39548b\",\"#39558b\",\"#38568b\",\"#38578c\",\"#37588c\",\"#37598c\",\"#365a8c\",\"#365b8c\",\"#355c8c\",\"#355d8c\",\"#345e8d\",\"#345f8d\",\"#33608d\",\"#33618d\",\"#32628d\",\"#32638d\",\"#31648d\",\"#31658d\",\"#31668d\",\"#30678d\",\"#30688d\",\"#2f698d\",\"#2f6a8d\",\"#2e6b8e\",\"#2e6c8e\",\"#2e6d8e\",\"#2d6e8e\",\"#2d6f8e\",\"#2c708e\",\"#2c718e\",\"#2c728e\",\"#2b738e\",\"#2b748e\",\"#2a758e\",\"#2a768e\",\"#2a778e\",\"#29788e\",\"#29798e\",\"#287a8e\",\"#287a8e\",\"#287b8e\",\"#277c8e\",\"#277d8e\",\"#277e8e\",\"#267f8e\",\"#26808e\",\"#26818e\",\"#25828e\",\"#25838d\",\"#24848d\",\"#24858d\",\"#24868d\",\"#23878d\",\"#23888d\",\"#23898d\",\"#22898d\",\"#228a8d\",\"#228b8d\",\"#218c8d\",\"#218d8c\",\"#218e8c\",\"#208f8c\",\"#20908c\",\"#20918c\",\"#1f928c\",\"#1f938b\",\"#1f948b\",\"#1f958b\",\"#1f968b\",\"#1e978a\",\"#1e988a\",\"#1e998a\",\"#1e998a\",\"#1e9a89\",\"#1e9b89\",\"#1e9c89\",\"#1e9d88\",\"#1e9e88\",\"#1e9f88\",\"#1ea087\",\"#1fa187\",\"#1fa286\",\"#1fa386\",\"#20a485\",\"#20a585\",\"#21a685\",\"#21a784\",\"#22a784\",\"#23a883\",\"#23a982\",\"#24aa82\",\"#25ab81\",\"#26ac81\",\"#27ad80\",\"#28ae7f\",\"#29af7f\",\"#2ab07e\",\"#2bb17d\",\"#2cb17d\",\"#2eb27c\",\"#2fb37b\",\"#30b47a\",\"#32b57a\",\"#33b679\",\"#35b778\",\"#36b877\",\"#38b976\",\"#39b976\",\"#3bba75\",\"#3dbb74\",\"#3ebc73\",\"#40bd72\",\"#42be71\",\"#44be70\",\"#45bf6f\",\"#47c06e\",\"#49c16d\",\"#4bc26c\",\"#4dc26b\",\"#4fc369\",\"#51c468\",\"#53c567\",\"#55c666\",\"#57c665\",\"#59c764\",\"#5bc862\",\"#5ec961\",\"#60c960\",\"#62ca5f\",\"#64cb5d\",\"#67cc5c\",\"#69cc5b\",\"#6bcd59\",\"#6dce58\",\"#70ce56\",\"#72cf55\",\"#74d054\",\"#77d052\",\"#79d151\",\"#7cd24f\",\"#7ed24e\",\"#81d34c\",\"#83d34b\",\"#86d449\",\"#88d547\",\"#8bd546\",\"#8dd644\",\"#90d643\",\"#92d741\",\"#95d73f\",\"#97d83e\",\"#9ad83c\",\"#9dd93a\",\"#9fd938\",\"#a2da37\",\"#a5da35\",\"#a7db33\",\"#aadb32\",\"#addc30\",\"#afdc2e\",\"#b2dd2c\",\"#b5dd2b\",\"#b7dd29\",\"#bade27\",\"#bdde26\",\"#bfdf24\",\"#c2df22\",\"#c5df21\",\"#c7e01f\",\"#cae01e\",\"#cde01d\",\"#cfe11c\",\"#d2e11b\",\"#d4e11a\",\"#d7e219\",\"#dae218\",\"#dce218\",\"#dfe318\",\"#e1e318\",\"#e4e318\",\"#e7e419\",\"#e9e419\",\"#ece41a\",\"#eee51b\",\"#f1e51c\",\"#f3e51e\",\"#f6e61f\",\"#f8e621\",\"#fae622\",\"#fde724\"],\"nan_color\":\"rgba(0, 0, 0, 0)\",\"low\":0.16615384615384618,\"high\":2.8646153846153855}}}},\"selection_glyph\":{\"type\":\"object\",\"name\":\"Image\",\"id\":\"p1836\",\"attributes\":{\"tags\":[\"apply_ranges\"],\"x\":{\"type\":\"field\",\"field\":\"x\"},\"y\":{\"type\":\"field\",\"field\":\"y\"},\"dw\":{\"type\":\"field\",\"field\":\"dw\"},\"dh\":{\"type\":\"field\",\"field\":\"dh\"},\"global_alpha\":{\"type\":\"value\",\"value\":1.0},\"image\":{\"type\":\"field\",\"field\":\"image\"},\"color_mapper\":{\"id\":\"p1820\"}}},\"nonselection_glyph\":{\"type\":\"object\",\"name\":\"Image\",\"id\":\"p1829\",\"attributes\":{\"tags\":[\"apply_ranges\"],\"x\":{\"type\":\"field\",\"field\":\"x\"},\"y\":{\"type\":\"field\",\"field\":\"y\"},\"dw\":{\"type\":\"field\",\"field\":\"dw\"},\"dh\":{\"type\":\"field\",\"field\":\"dh\"},\"global_alpha\":{\"type\":\"value\",\"value\":0.1},\"image\":{\"type\":\"field\",\"field\":\"image\"},\"color_mapper\":{\"id\":\"p1820\"}}},\"muted_glyph\":{\"type\":\"object\",\"name\":\"Image\",\"id\":\"p1831\",\"attributes\":{\"tags\":[\"apply_ranges\"],\"x\":{\"type\":\"field\",\"field\":\"x\"},\"y\":{\"type\":\"field\",\"field\":\"y\"},\"dw\":{\"type\":\"field\",\"field\":\"dw\"},\"dh\":{\"type\":\"field\",\"field\":\"dh\"},\"global_alpha\":{\"type\":\"value\",\"value\":0.2},\"image\":{\"type\":\"field\",\"field\":\"image\"},\"color_mapper\":{\"id\":\"p1820\"}}}}}],\"toolbar\":{\"type\":\"object\",\"name\":\"Toolbar\",\"id\":\"p1798\",\"attributes\":{\"tools\":[{\"id\":\"p1788\"},{\"type\":\"object\",\"name\":\"SaveTool\",\"id\":\"p1811\"},{\"id\":\"p1812\"},{\"id\":\"p1813\"},{\"id\":\"p1819\"}],\"active_drag\":{\"id\":\"p1812\"},\"active_scroll\":{\"id\":\"p1788\"}}},\"toolbar_location\":null,\"left\":[{\"type\":\"object\",\"name\":\"LinearAxis\",\"id\":\"p1806\",\"attributes\":{\"visible\":false,\"ticker\":{\"type\":\"object\",\"name\":\"BasicTicker\",\"id\":\"p1807\",\"attributes\":{\"mantissas\":[1,2,5]}},\"formatter\":{\"type\":\"object\",\"name\":\"BasicTickFormatter\",\"id\":\"p1808\"},\"axis_label\":\"y\",\"major_label_policy\":{\"type\":\"object\",\"name\":\"AllLabels\",\"id\":\"p1809\"}}}],\"below\":[{\"type\":\"object\",\"name\":\"LinearAxis\",\"id\":\"p1801\",\"attributes\":{\"visible\":false,\"ticker\":{\"type\":\"object\",\"name\":\"BasicTicker\",\"id\":\"p1802\",\"attributes\":{\"mantissas\":[1,2,5]}},\"formatter\":{\"type\":\"object\",\"name\":\"BasicTickFormatter\",\"id\":\"p1803\"},\"axis_label\":\"x\",\"major_label_policy\":{\"type\":\"object\",\"name\":\"AllLabels\",\"id\":\"p1804\"}}}],\"center\":[{\"type\":\"object\",\"name\":\"Grid\",\"id\":\"p1805\",\"attributes\":{\"axis\":{\"id\":\"p1801\"},\"grid_line_color\":null}},{\"type\":\"object\",\"name\":\"Grid\",\"id\":\"p1810\",\"attributes\":{\"dimension\":1,\"axis\":{\"id\":\"p1806\"},\"grid_line_color\":null}}],\"min_border_top\":10,\"min_border_bottom\":10,\"min_border_left\":10,\"min_border_right\":10,\"output_backend\":\"webgl\"}},0,1],[{\"type\":\"object\",\"name\":\"Figure\",\"id\":\"p1842\",\"attributes\":{\"width\":300,\"height\":300,\"sizing_mode\":\"fixed\",\"align\":\"start\",\"x_range\":{\"id\":\"p1730\"},\"y_range\":{\"id\":\"p1731\"},\"x_scale\":{\"type\":\"object\",\"name\":\"LinearScale\",\"id\":\"p1852\"},\"y_scale\":{\"type\":\"object\",\"name\":\"LinearScale\",\"id\":\"p1853\"},\"title\":{\"type\":\"object\",\"name\":\"Title\",\"id\":\"p1845\",\"attributes\":{\"text\":\"P-Matrix\",\"text_color\":\"black\",\"text_font_size\":\"12pt\"}},\"renderers\":[{\"type\":\"object\",\"name\":\"GlyphRenderer\",\"id\":\"p1886\",\"attributes\":{\"data_source\":{\"type\":\"object\",\"name\":\"ColumnDataSource\",\"id\":\"p1874\",\"attributes\":{\"selected\":{\"type\":\"object\",\"name\":\"Selection\",\"id\":\"p1875\",\"attributes\":{\"indices\":[],\"line_indices\":[]}},\"selection_policy\":{\"type\":\"object\",\"name\":\"UnionRenderers\",\"id\":\"p1876\"},\"data\":{\"type\":\"map\",\"entries\":[[\"x\",[-0.5]],[\"y\",[-0.5]],[\"dw\",[1.0]],[\"dh\",[1.0]],[\"image\",[{\"type\":\"ndarray\",\"array\":{\"type\":\"bytes\",\"data\":\"HgAAAC0AAAAxAAAAMQAAADAAAAAuAAAAKQAAACQAAAAMAAAAOwAAACwAAAAuAAAAMQAAADEAAAAxAAAALwAAAC4AAAAsAAAAMQAAADsAAAAtAAAALwAAADEAAAAxAAAALwAAAC8AAAArAAAAIwAAAD8AAABAAAAALgAAADAAAAAwAAAAHwAAAAsAAAAfAAAAJgAAADkAAAA8AAAAOQAAAAcAAAAoAAAAEwAAACQAAAAvAAAAMQAAADgAAAA6AAAAPAAAADEAAAAPAAAAGAAAAC8AAAA2AAAAOQAAAEAAAAA/AAAAQgAAADcAAAAuAAAAGwAAACMAAAA1AAAAOQAAAEEAAABCAAAAQgAAADsAAAA/AAAAPAAAACQAAAAuAAAAOAAAAEIAAABGAAAAQAAAAD8AAAA4AAAALAAAACAAAAAlAAAAMwAAAD8AAABEAAAAQwAAAD0AAAAzAAAAMQAAACIAAAAWAAAALgAAACQAAAA1AAAAOAAAADYAAAAwAAAAIQAAACQAAAAdAAAADAAAAA==\"},\"shape\":[10,10],\"dtype\":\"int32\",\"order\":\"little\"}]]]}}},\"view\":{\"type\":\"object\",\"name\":\"CDSView\",\"id\":\"p1887\",\"attributes\":{\"filter\":{\"type\":\"object\",\"name\":\"AllIndices\",\"id\":\"p1888\"}}},\"glyph\":{\"type\":\"object\",\"name\":\"Image\",\"id\":\"p1880\",\"attributes\":{\"tags\":[\"apply_ranges\"],\"x\":{\"type\":\"field\",\"field\":\"x\"},\"y\":{\"type\":\"field\",\"field\":\"y\"},\"dw\":{\"type\":\"field\",\"field\":\"dw\"},\"dh\":{\"type\":\"field\",\"field\":\"dh\"},\"image\":{\"type\":\"field\",\"field\":\"image\"},\"color_mapper\":{\"type\":\"object\",\"name\":\"LinearColorMapper\",\"id\":\"p1873\",\"attributes\":{\"palette\":[\"#00007f\",\"#000084\",\"#000088\",\"#00008d\",\"#000091\",\"#000096\",\"#00009a\",\"#00009f\",\"#0000a3\",\"#0000a8\",\"#0000ac\",\"#0000b1\",\"#0000b6\",\"#0000ba\",\"#0000bf\",\"#0000c3\",\"#0000c8\",\"#0000cc\",\"#0000d1\",\"#0000d5\",\"#0000da\",\"#0000de\",\"#0000e3\",\"#0000e8\",\"#0000ec\",\"#0000f1\",\"#0000f5\",\"#0000fa\",\"#0000fe\",\"#0000ff\",\"#0000ff\",\"#0000ff\",\"#0000ff\",\"#0004ff\",\"#0008ff\",\"#000cff\",\"#0010ff\",\"#0014ff\",\"#0018ff\",\"#001cff\",\"#0020ff\",\"#0024ff\",\"#0028ff\",\"#002cff\",\"#0030ff\",\"#0034ff\",\"#0038ff\",\"#003cff\",\"#0040ff\",\"#0044ff\",\"#0048ff\",\"#004cff\",\"#0050ff\",\"#0054ff\",\"#0058ff\",\"#005cff\",\"#0060ff\",\"#0064ff\",\"#0068ff\",\"#006cff\",\"#0070ff\",\"#0074ff\",\"#0078ff\",\"#007cff\",\"#0080ff\",\"#0084ff\",\"#0088ff\",\"#008cff\",\"#0090ff\",\"#0094ff\",\"#0098ff\",\"#009cff\",\"#00a0ff\",\"#00a4ff\",\"#00a8ff\",\"#00acff\",\"#00b0ff\",\"#00b4ff\",\"#00b8ff\",\"#00bcff\",\"#00c0ff\",\"#00c4ff\",\"#00c8ff\",\"#00ccff\",\"#00d0ff\",\"#00d4ff\",\"#00d8ff\",\"#00dcfe\",\"#00e0fa\",\"#00e4f7\",\"#02e8f4\",\"#05ecf1\",\"#08f0ed\",\"#0cf4ea\",\"#0ff8e7\",\"#12fce4\",\"#15ffe1\",\"#18ffdd\",\"#1cffda\",\"#1fffd7\",\"#22ffd4\",\"#25ffd0\",\"#29ffcd\",\"#2cffca\",\"#2fffc7\",\"#32ffc3\",\"#36ffc0\",\"#39ffbd\",\"#3cffba\",\"#3fffb7\",\"#42ffb3\",\"#46ffb0\",\"#49ffad\",\"#4cffaa\",\"#4fffa6\",\"#53ffa3\",\"#56ffa0\",\"#59ff9d\",\"#5cff9a\",\"#5fff96\",\"#63ff93\",\"#66ff90\",\"#69ff8d\",\"#6cff89\",\"#70ff86\",\"#73ff83\",\"#76ff80\",\"#79ff7d\",\"#7cff79\",\"#80ff76\",\"#83ff73\",\"#86ff70\",\"#89ff6c\",\"#8dff69\",\"#90ff66\",\"#93ff63\",\"#96ff5f\",\"#9aff5c\",\"#9dff59\",\"#a0ff56\",\"#a3ff53\",\"#a6ff4f\",\"#aaff4c\",\"#adff49\",\"#b0ff46\",\"#b3ff42\",\"#b7ff3f\",\"#baff3c\",\"#bdff39\",\"#c0ff36\",\"#c3ff32\",\"#c7ff2f\",\"#caff2c\",\"#cdff29\",\"#d0ff25\",\"#d4ff22\",\"#d7ff1f\",\"#daff1c\",\"#ddff18\",\"#e0ff15\",\"#e4ff12\",\"#e7ff0f\",\"#eaff0c\",\"#edff08\",\"#f1fc05\",\"#f4f802\",\"#f7f400\",\"#faf000\",\"#feed00\",\"#ffe900\",\"#ffe500\",\"#ffe200\",\"#ffde00\",\"#ffda00\",\"#ffd700\",\"#ffd300\",\"#ffcf00\",\"#ffcb00\",\"#ffc800\",\"#ffc400\",\"#ffc000\",\"#ffbd00\",\"#ffb900\",\"#ffb500\",\"#ffb100\",\"#ffae00\",\"#ffaa00\",\"#ffa600\",\"#ffa300\",\"#ff9f00\",\"#ff9b00\",\"#ff9800\",\"#ff9400\",\"#ff9000\",\"#ff8c00\",\"#ff8900\",\"#ff8500\",\"#ff8100\",\"#ff7e00\",\"#ff7a00\",\"#ff7600\",\"#ff7300\",\"#ff6f00\",\"#ff6b00\",\"#ff6700\",\"#ff6400\",\"#ff6000\",\"#ff5c00\",\"#ff5900\",\"#ff5500\",\"#ff5100\",\"#ff4d00\",\"#ff4a00\",\"#ff4600\",\"#ff4200\",\"#ff3f00\",\"#ff3b00\",\"#ff3700\",\"#ff3400\",\"#ff3000\",\"#ff2c00\",\"#ff2800\",\"#ff2500\",\"#ff2100\",\"#ff1d00\",\"#ff1a00\",\"#ff1600\",\"#fe1200\",\"#fa0f00\",\"#f50b00\",\"#f10700\",\"#ec0300\",\"#e80000\",\"#e30000\",\"#de0000\",\"#da0000\",\"#d50000\",\"#d10000\",\"#cc0000\",\"#c80000\",\"#c30000\",\"#bf0000\",\"#ba0000\",\"#b60000\",\"#b10000\",\"#ac0000\",\"#a80000\",\"#a30000\",\"#9f0000\",\"#9a0000\",\"#960000\",\"#910000\",\"#8d0000\",\"#880000\",\"#840000\",\"#7f0000\"],\"nan_color\":\"rgba(0, 0, 0, 0)\",\"low\":7,\"high\":70}}}},\"selection_glyph\":{\"type\":\"object\",\"name\":\"Image\",\"id\":\"p1889\",\"attributes\":{\"tags\":[\"apply_ranges\"],\"x\":{\"type\":\"field\",\"field\":\"x\"},\"y\":{\"type\":\"field\",\"field\":\"y\"},\"dw\":{\"type\":\"field\",\"field\":\"dw\"},\"dh\":{\"type\":\"field\",\"field\":\"dh\"},\"global_alpha\":{\"type\":\"value\",\"value\":1.0},\"image\":{\"type\":\"field\",\"field\":\"image\"},\"color_mapper\":{\"id\":\"p1873\"}}},\"nonselection_glyph\":{\"type\":\"object\",\"name\":\"Image\",\"id\":\"p1882\",\"attributes\":{\"tags\":[\"apply_ranges\"],\"x\":{\"type\":\"field\",\"field\":\"x\"},\"y\":{\"type\":\"field\",\"field\":\"y\"},\"dw\":{\"type\":\"field\",\"field\":\"dw\"},\"dh\":{\"type\":\"field\",\"field\":\"dh\"},\"global_alpha\":{\"type\":\"value\",\"value\":0.1},\"image\":{\"type\":\"field\",\"field\":\"image\"},\"color_mapper\":{\"id\":\"p1873\"}}},\"muted_glyph\":{\"type\":\"object\",\"name\":\"Image\",\"id\":\"p1884\",\"attributes\":{\"tags\":[\"apply_ranges\"],\"x\":{\"type\":\"field\",\"field\":\"x\"},\"y\":{\"type\":\"field\",\"field\":\"y\"},\"dw\":{\"type\":\"field\",\"field\":\"dw\"},\"dh\":{\"type\":\"field\",\"field\":\"dh\"},\"global_alpha\":{\"type\":\"value\",\"value\":0.2},\"image\":{\"type\":\"field\",\"field\":\"image\"},\"color_mapper\":{\"id\":\"p1873\"}}}}}],\"toolbar\":{\"type\":\"object\",\"name\":\"Toolbar\",\"id\":\"p1851\",\"attributes\":{\"tools\":[{\"id\":\"p1841\"},{\"type\":\"object\",\"name\":\"SaveTool\",\"id\":\"p1864\"},{\"id\":\"p1865\"},{\"id\":\"p1866\"},{\"id\":\"p1872\"}],\"active_drag\":{\"id\":\"p1865\"},\"active_scroll\":{\"id\":\"p1841\"}}},\"toolbar_location\":null,\"left\":[{\"type\":\"object\",\"name\":\"LinearAxis\",\"id\":\"p1859\",\"attributes\":{\"visible\":false,\"ticker\":{\"type\":\"object\",\"name\":\"BasicTicker\",\"id\":\"p1860\",\"attributes\":{\"mantissas\":[1,2,5]}},\"formatter\":{\"type\":\"object\",\"name\":\"BasicTickFormatter\",\"id\":\"p1861\"},\"axis_label\":\"y\",\"major_label_policy\":{\"type\":\"object\",\"name\":\"AllLabels\",\"id\":\"p1862\"}}}],\"below\":[{\"type\":\"object\",\"name\":\"LinearAxis\",\"id\":\"p1854\",\"attributes\":{\"visible\":false,\"ticker\":{\"type\":\"object\",\"name\":\"BasicTicker\",\"id\":\"p1855\",\"attributes\":{\"mantissas\":[1,2,5]}},\"formatter\":{\"type\":\"object\",\"name\":\"BasicTickFormatter\",\"id\":\"p1856\"},\"axis_label\":\"x\",\"major_label_policy\":{\"type\":\"object\",\"name\":\"AllLabels\",\"id\":\"p1857\"}}}],\"center\":[{\"type\":\"object\",\"name\":\"Grid\",\"id\":\"p1858\",\"attributes\":{\"axis\":{\"id\":\"p1854\"},\"grid_line_color\":null}},{\"type\":\"object\",\"name\":\"Grid\",\"id\":\"p1863\",\"attributes\":{\"dimension\":1,\"axis\":{\"id\":\"p1859\"},\"grid_line_color\":null}}],\"min_border_top\":10,\"min_border_bottom\":10,\"min_border_left\":10,\"min_border_right\":10,\"output_backend\":\"webgl\"}},0,2],[{\"type\":\"object\",\"name\":\"Figure\",\"id\":\"p1895\",\"attributes\":{\"width\":300,\"height\":300,\"sizing_mode\":\"fixed\",\"align\":\"start\",\"x_range\":{\"id\":\"p1730\"},\"y_range\":{\"id\":\"p1731\"},\"x_scale\":{\"type\":\"object\",\"name\":\"LinearScale\",\"id\":\"p1905\"},\"y_scale\":{\"type\":\"object\",\"name\":\"LinearScale\",\"id\":\"p1906\"},\"title\":{\"type\":\"object\",\"name\":\"Title\",\"id\":\"p1898\",\"attributes\":{\"text\":\"UStar-Matrix\",\"text_color\":\"black\",\"text_font_size\":\"12pt\"}},\"renderers\":[{\"type\":\"object\",\"name\":\"GlyphRenderer\",\"id\":\"p1939\",\"attributes\":{\"data_source\":{\"type\":\"object\",\"name\":\"ColumnDataSource\",\"id\":\"p1927\",\"attributes\":{\"selected\":{\"type\":\"object\",\"name\":\"Selection\",\"id\":\"p1928\",\"attributes\":{\"indices\":[],\"line_indices\":[]}},\"selection_policy\":{\"type\":\"object\",\"name\":\"UnionRenderers\",\"id\":\"p1929\"},\"data\":{\"type\":\"map\",\"entries\":[[\"x\",[-0.5]],[\"y\",[-0.5]],[\"dw\",[1.0]],[\"dh\",[1.0]],[\"image\",[{\"type\":\"ndarray\",\"array\":{\"type\":\"bytes\",\"data\":\"B7Ltx48+5D9XI3w69I3WP9MlGtbOV9E/0yUa1s5X0T8+KJXYvGLUPwlE643vRNY/JZWOc4vP3T99Wd9qJYDuP2ssrdaWSw5A/CEiUawG3T+YTJ9o5H/SP6YgaZRSOtA/9oAwuU/MxD8K51ldpybHP/94xAoUWtI/l8bJEDFr0z+KtUchzmLbPweGV7cVTPk//filvCd36z9uWZ6efSzIP+wSAAW4hdg/7kFmaBpDzz8NPQnI+5jPPwjy3UC6f88/6KFcrQNI1T8RHe7+k+/YP0i8gMD/L/g/48fVi67HAECzc9/+UdvAPwipaO/YVbI/HPI6fgOz2z/1fcuxYsLTP9kr/ApSeeA/QL40IMad9T9Ahv16DNUCQHfxoPTVsPE/16ZHvKrI5z/jTcS6ojDSP8KhMInv6cE/x2GxWADdwz9SE3kKsTcDQJ6QZfkwYfI/wZhSvTtIAUA283FXiNbqP0KexXW539c/7O/ll9QU3j9jSwuDkTnTP5PdmO3xTM8/QP1+HNWYwT8kmzXvB9fPPxrTdaSHFPA/dJaJsLMQ9T8iOSoaoa7gP0bCxGRXtMg/QXr19hUczz/CmEbaM9W/Px8IBoQo8cE/0s3O6uK9tT9pj+x8JNHRP7K3XVTKeNo/NpksesEk6T8xq2JSX2DmPxmrvVaKoM0/yUqTg6esxj+H60VEU4m2P6h/QrlrJbA/8P26PReMrz8H06pBt+fLP3fJWYDqLcM/21AZZwBqxj8y5hVY1SLhPxA4BtzS89U//iDOYeVIzj80cH3Zo3uxPwAAAAAAAAAAfC0PyUdZuD84OkKpTVK+P6aiMFT+hs8/JrMCDIv14z//uqPmMBvvP1gxdrnRlNs/7NZi1qV61j/nDQNvNmq+P1KDCG9OIKI/iLng8gUtpz8+w2XUetjGPxTemH+gENk/Q/ks2lX/1T95KePcB13pPz2u8HWI2/A/+X3Yr8T31z+oUNW+q87nP1e77GgnmM8/bMPivLUCzj/5N7kFEafSP6AdwC6jdtk/Q0OGhdnd5D8G1v4LuizjPxWXQ36CSfE/o/iqrN5p/T8=\"},\"shape\":[10,10],\"dtype\":\"float64\",\"order\":\"little\"}]]]}}},\"view\":{\"type\":\"object\",\"name\":\"CDSView\",\"id\":\"p1940\",\"attributes\":{\"filter\":{\"type\":\"object\",\"name\":\"AllIndices\",\"id\":\"p1941\"}}},\"glyph\":{\"type\":\"object\",\"name\":\"Image\",\"id\":\"p1933\",\"attributes\":{\"tags\":[\"apply_ranges\"],\"x\":{\"type\":\"field\",\"field\":\"x\"},\"y\":{\"type\":\"field\",\"field\":\"y\"},\"dw\":{\"type\":\"field\",\"field\":\"dw\"},\"dh\":{\"type\":\"field\",\"field\":\"dh\"},\"image\":{\"type\":\"field\",\"field\":\"image\"},\"color_mapper\":{\"type\":\"object\",\"name\":\"LinearColorMapper\",\"id\":\"p1926\",\"attributes\":{\"palette\":[\"#00007f\",\"#000084\",\"#000088\",\"#00008d\",\"#000091\",\"#000096\",\"#00009a\",\"#00009f\",\"#0000a3\",\"#0000a8\",\"#0000ac\",\"#0000b1\",\"#0000b6\",\"#0000ba\",\"#0000bf\",\"#0000c3\",\"#0000c8\",\"#0000cc\",\"#0000d1\",\"#0000d5\",\"#0000da\",\"#0000de\",\"#0000e3\",\"#0000e8\",\"#0000ec\",\"#0000f1\",\"#0000f5\",\"#0000fa\",\"#0000fe\",\"#0000ff\",\"#0000ff\",\"#0000ff\",\"#0000ff\",\"#0004ff\",\"#0008ff\",\"#000cff\",\"#0010ff\",\"#0014ff\",\"#0018ff\",\"#001cff\",\"#0020ff\",\"#0024ff\",\"#0028ff\",\"#002cff\",\"#0030ff\",\"#0034ff\",\"#0038ff\",\"#003cff\",\"#0040ff\",\"#0044ff\",\"#0048ff\",\"#004cff\",\"#0050ff\",\"#0054ff\",\"#0058ff\",\"#005cff\",\"#0060ff\",\"#0064ff\",\"#0068ff\",\"#006cff\",\"#0070ff\",\"#0074ff\",\"#0078ff\",\"#007cff\",\"#0080ff\",\"#0084ff\",\"#0088ff\",\"#008cff\",\"#0090ff\",\"#0094ff\",\"#0098ff\",\"#009cff\",\"#00a0ff\",\"#00a4ff\",\"#00a8ff\",\"#00acff\",\"#00b0ff\",\"#00b4ff\",\"#00b8ff\",\"#00bcff\",\"#00c0ff\",\"#00c4ff\",\"#00c8ff\",\"#00ccff\",\"#00d0ff\",\"#00d4ff\",\"#00d8ff\",\"#00dcfe\",\"#00e0fa\",\"#00e4f7\",\"#02e8f4\",\"#05ecf1\",\"#08f0ed\",\"#0cf4ea\",\"#0ff8e7\",\"#12fce4\",\"#15ffe1\",\"#18ffdd\",\"#1cffda\",\"#1fffd7\",\"#22ffd4\",\"#25ffd0\",\"#29ffcd\",\"#2cffca\",\"#2fffc7\",\"#32ffc3\",\"#36ffc0\",\"#39ffbd\",\"#3cffba\",\"#3fffb7\",\"#42ffb3\",\"#46ffb0\",\"#49ffad\",\"#4cffaa\",\"#4fffa6\",\"#53ffa3\",\"#56ffa0\",\"#59ff9d\",\"#5cff9a\",\"#5fff96\",\"#63ff93\",\"#66ff90\",\"#69ff8d\",\"#6cff89\",\"#70ff86\",\"#73ff83\",\"#76ff80\",\"#79ff7d\",\"#7cff79\",\"#80ff76\",\"#83ff73\",\"#86ff70\",\"#89ff6c\",\"#8dff69\",\"#90ff66\",\"#93ff63\",\"#96ff5f\",\"#9aff5c\",\"#9dff59\",\"#a0ff56\",\"#a3ff53\",\"#a6ff4f\",\"#aaff4c\",\"#adff49\",\"#b0ff46\",\"#b3ff42\",\"#b7ff3f\",\"#baff3c\",\"#bdff39\",\"#c0ff36\",\"#c3ff32\",\"#c7ff2f\",\"#caff2c\",\"#cdff29\",\"#d0ff25\",\"#d4ff22\",\"#d7ff1f\",\"#daff1c\",\"#ddff18\",\"#e0ff15\",\"#e4ff12\",\"#e7ff0f\",\"#eaff0c\",\"#edff08\",\"#f1fc05\",\"#f4f802\",\"#f7f400\",\"#faf000\",\"#feed00\",\"#ffe900\",\"#ffe500\",\"#ffe200\",\"#ffde00\",\"#ffda00\",\"#ffd700\",\"#ffd300\",\"#ffcf00\",\"#ffcb00\",\"#ffc800\",\"#ffc400\",\"#ffc000\",\"#ffbd00\",\"#ffb900\",\"#ffb500\",\"#ffb100\",\"#ffae00\",\"#ffaa00\",\"#ffa600\",\"#ffa300\",\"#ff9f00\",\"#ff9b00\",\"#ff9800\",\"#ff9400\",\"#ff9000\",\"#ff8c00\",\"#ff8900\",\"#ff8500\",\"#ff8100\",\"#ff7e00\",\"#ff7a00\",\"#ff7600\",\"#ff7300\",\"#ff6f00\",\"#ff6b00\",\"#ff6700\",\"#ff6400\",\"#ff6000\",\"#ff5c00\",\"#ff5900\",\"#ff5500\",\"#ff5100\",\"#ff4d00\",\"#ff4a00\",\"#ff4600\",\"#ff4200\",\"#ff3f00\",\"#ff3b00\",\"#ff3700\",\"#ff3400\",\"#ff3000\",\"#ff2c00\",\"#ff2800\",\"#ff2500\",\"#ff2100\",\"#ff1d00\",\"#ff1a00\",\"#ff1600\",\"#fe1200\",\"#fa0f00\",\"#f50b00\",\"#f10700\",\"#ec0300\",\"#e80000\",\"#e30000\",\"#de0000\",\"#da0000\",\"#d50000\",\"#d10000\",\"#cc0000\",\"#c80000\",\"#c30000\",\"#bf0000\",\"#ba0000\",\"#b60000\",\"#b10000\",\"#ac0000\",\"#a80000\",\"#a30000\",\"#9f0000\",\"#9a0000\",\"#960000\",\"#910000\",\"#8d0000\",\"#880000\",\"#840000\",\"#7f0000\"],\"nan_color\":\"rgba(0, 0, 0, 0)\",\"low\":0.0,\"high\":3.786908795509182}}}},\"selection_glyph\":{\"type\":\"object\",\"name\":\"Image\",\"id\":\"p1942\",\"attributes\":{\"tags\":[\"apply_ranges\"],\"x\":{\"type\":\"field\",\"field\":\"x\"},\"y\":{\"type\":\"field\",\"field\":\"y\"},\"dw\":{\"type\":\"field\",\"field\":\"dw\"},\"dh\":{\"type\":\"field\",\"field\":\"dh\"},\"global_alpha\":{\"type\":\"value\",\"value\":1.0},\"image\":{\"type\":\"field\",\"field\":\"image\"},\"color_mapper\":{\"id\":\"p1926\"}}},\"nonselection_glyph\":{\"type\":\"object\",\"name\":\"Image\",\"id\":\"p1935\",\"attributes\":{\"tags\":[\"apply_ranges\"],\"x\":{\"type\":\"field\",\"field\":\"x\"},\"y\":{\"type\":\"field\",\"field\":\"y\"},\"dw\":{\"type\":\"field\",\"field\":\"dw\"},\"dh\":{\"type\":\"field\",\"field\":\"dh\"},\"global_alpha\":{\"type\":\"value\",\"value\":0.1},\"image\":{\"type\":\"field\",\"field\":\"image\"},\"color_mapper\":{\"id\":\"p1926\"}}},\"muted_glyph\":{\"type\":\"object\",\"name\":\"Image\",\"id\":\"p1937\",\"attributes\":{\"tags\":[\"apply_ranges\"],\"x\":{\"type\":\"field\",\"field\":\"x\"},\"y\":{\"type\":\"field\",\"field\":\"y\"},\"dw\":{\"type\":\"field\",\"field\":\"dw\"},\"dh\":{\"type\":\"field\",\"field\":\"dh\"},\"global_alpha\":{\"type\":\"value\",\"value\":0.2},\"image\":{\"type\":\"field\",\"field\":\"image\"},\"color_mapper\":{\"id\":\"p1926\"}}}}}],\"toolbar\":{\"type\":\"object\",\"name\":\"Toolbar\",\"id\":\"p1904\",\"attributes\":{\"tools\":[{\"id\":\"p1894\"},{\"type\":\"object\",\"name\":\"SaveTool\",\"id\":\"p1917\"},{\"id\":\"p1918\"},{\"id\":\"p1919\"},{\"id\":\"p1925\"}],\"active_drag\":{\"id\":\"p1918\"},\"active_scroll\":{\"id\":\"p1894\"}}},\"toolbar_location\":null,\"left\":[{\"type\":\"object\",\"name\":\"LinearAxis\",\"id\":\"p1912\",\"attributes\":{\"visible\":false,\"ticker\":{\"type\":\"object\",\"name\":\"BasicTicker\",\"id\":\"p1913\",\"attributes\":{\"mantissas\":[1,2,5]}},\"formatter\":{\"type\":\"object\",\"name\":\"BasicTickFormatter\",\"id\":\"p1914\"},\"axis_label\":\"y\",\"major_label_policy\":{\"type\":\"object\",\"name\":\"AllLabels\",\"id\":\"p1915\"}}}],\"below\":[{\"type\":\"object\",\"name\":\"LinearAxis\",\"id\":\"p1907\",\"attributes\":{\"visible\":false,\"ticker\":{\"type\":\"object\",\"name\":\"BasicTicker\",\"id\":\"p1908\",\"attributes\":{\"mantissas\":[1,2,5]}},\"formatter\":{\"type\":\"object\",\"name\":\"BasicTickFormatter\",\"id\":\"p1909\"},\"axis_label\":\"x\",\"major_label_policy\":{\"type\":\"object\",\"name\":\"AllLabels\",\"id\":\"p1910\"}}}],\"center\":[{\"type\":\"object\",\"name\":\"Grid\",\"id\":\"p1911\",\"attributes\":{\"axis\":{\"id\":\"p1907\"},\"grid_line_color\":null}},{\"type\":\"object\",\"name\":\"Grid\",\"id\":\"p1916\",\"attributes\":{\"dimension\":1,\"axis\":{\"id\":\"p1912\"},\"grid_line_color\":null}}],\"min_border_top\":10,\"min_border_bottom\":10,\"min_border_left\":10,\"min_border_right\":10,\"output_backend\":\"webgl\"}},0,3]]}},{\"type\":\"object\",\"name\":\"Spacer\",\"id\":\"p1954\",\"attributes\":{\"name\":\"HSpacer02330\",\"stylesheets\":[\"\\n:host(.pn-loading.pn-arc):before, .pn-loading.pn-arc:before {\\n  background-image: url(\\\"data:image/svg+xml;base64,PHN2ZyB4bWxucz0iaHR0cDovL3d3dy53My5vcmcvMjAwMC9zdmciIHN0eWxlPSJtYXJnaW46IGF1dG87IGJhY2tncm91bmQ6IG5vbmU7IGRpc3BsYXk6IGJsb2NrOyBzaGFwZS1yZW5kZXJpbmc6IGF1dG87IiB2aWV3Qm94PSIwIDAgMTAwIDEwMCIgcHJlc2VydmVBc3BlY3RSYXRpbz0ieE1pZFlNaWQiPiAgPGNpcmNsZSBjeD0iNTAiIGN5PSI1MCIgZmlsbD0ibm9uZSIgc3Ryb2tlPSIjYzNjM2MzIiBzdHJva2Utd2lkdGg9IjEwIiByPSIzNSIgc3Ryb2tlLWRhc2hhcnJheT0iMTY0LjkzMzYxNDMxMzQ2NDE1IDU2Ljk3Nzg3MTQzNzgyMTM4Ij4gICAgPGFuaW1hdGVUcmFuc2Zvcm0gYXR0cmlidXRlTmFtZT0idHJhbnNmb3JtIiB0eXBlPSJyb3RhdGUiIHJlcGVhdENvdW50PSJpbmRlZmluaXRlIiBkdXI9IjFzIiB2YWx1ZXM9IjAgNTAgNTA7MzYwIDUwIDUwIiBrZXlUaW1lcz0iMDsxIj48L2FuaW1hdGVUcmFuc2Zvcm0+ICA8L2NpcmNsZT48L3N2Zz4=\\\");\\n  background-size: auto calc(min(50%, 400px));\\n}\",{\"id\":\"p1728\"},{\"id\":\"p1726\"},{\"id\":\"p1727\"}],\"margin\":0,\"sizing_mode\":\"stretch_width\",\"align\":\"start\"}}]}}],\"defs\":[{\"type\":\"model\",\"name\":\"ReactiveHTML1\"},{\"type\":\"model\",\"name\":\"FlexBox1\",\"properties\":[{\"name\":\"align_content\",\"kind\":\"Any\",\"default\":\"flex-start\"},{\"name\":\"align_items\",\"kind\":\"Any\",\"default\":\"flex-start\"},{\"name\":\"flex_direction\",\"kind\":\"Any\",\"default\":\"row\"},{\"name\":\"flex_wrap\",\"kind\":\"Any\",\"default\":\"wrap\"},{\"name\":\"justify_content\",\"kind\":\"Any\",\"default\":\"flex-start\"}]},{\"type\":\"model\",\"name\":\"FloatPanel1\",\"properties\":[{\"name\":\"config\",\"kind\":\"Any\",\"default\":{\"type\":\"map\"}},{\"name\":\"contained\",\"kind\":\"Any\",\"default\":true},{\"name\":\"position\",\"kind\":\"Any\",\"default\":\"right-top\"},{\"name\":\"offsetx\",\"kind\":\"Any\",\"default\":null},{\"name\":\"offsety\",\"kind\":\"Any\",\"default\":null},{\"name\":\"theme\",\"kind\":\"Any\",\"default\":\"primary\"},{\"name\":\"status\",\"kind\":\"Any\",\"default\":\"normalized\"}]},{\"type\":\"model\",\"name\":\"GridStack1\",\"properties\":[{\"name\":\"mode\",\"kind\":\"Any\",\"default\":\"warn\"},{\"name\":\"ncols\",\"kind\":\"Any\",\"default\":null},{\"name\":\"nrows\",\"kind\":\"Any\",\"default\":null},{\"name\":\"allow_resize\",\"kind\":\"Any\",\"default\":true},{\"name\":\"allow_drag\",\"kind\":\"Any\",\"default\":true},{\"name\":\"state\",\"kind\":\"Any\",\"default\":[]}]},{\"type\":\"model\",\"name\":\"drag1\",\"properties\":[{\"name\":\"slider_width\",\"kind\":\"Any\",\"default\":5},{\"name\":\"slider_color\",\"kind\":\"Any\",\"default\":\"black\"},{\"name\":\"value\",\"kind\":\"Any\",\"default\":50}]},{\"type\":\"model\",\"name\":\"click1\",\"properties\":[{\"name\":\"terminal_output\",\"kind\":\"Any\",\"default\":\"\"},{\"name\":\"debug_name\",\"kind\":\"Any\",\"default\":\"\"},{\"name\":\"clears\",\"kind\":\"Any\",\"default\":0}]},{\"type\":\"model\",\"name\":\"copy_to_clipboard1\",\"properties\":[{\"name\":\"fill\",\"kind\":\"Any\",\"default\":\"none\"},{\"name\":\"value\",\"kind\":\"Any\",\"default\":null}]},{\"type\":\"model\",\"name\":\"FastWrapper1\",\"properties\":[{\"name\":\"object\",\"kind\":\"Any\",\"default\":null},{\"name\":\"style\",\"kind\":\"Any\",\"default\":null}]},{\"type\":\"model\",\"name\":\"NotificationAreaBase1\",\"properties\":[{\"name\":\"js_events\",\"kind\":\"Any\",\"default\":{\"type\":\"map\"}},{\"name\":\"position\",\"kind\":\"Any\",\"default\":\"bottom-right\"},{\"name\":\"_clear\",\"kind\":\"Any\",\"default\":0}]},{\"type\":\"model\",\"name\":\"NotificationArea1\",\"properties\":[{\"name\":\"js_events\",\"kind\":\"Any\",\"default\":{\"type\":\"map\"}},{\"name\":\"notifications\",\"kind\":\"Any\",\"default\":[]},{\"name\":\"position\",\"kind\":\"Any\",\"default\":\"bottom-right\"},{\"name\":\"_clear\",\"kind\":\"Any\",\"default\":0},{\"name\":\"types\",\"kind\":\"Any\",\"default\":[{\"type\":\"map\",\"entries\":[[\"type\",\"warning\"],[\"background\",\"#ffc107\"],[\"icon\",{\"type\":\"map\",\"entries\":[[\"className\",\"fas fa-exclamation-triangle\"],[\"tagName\",\"i\"],[\"color\",\"white\"]]}]]},{\"type\":\"map\",\"entries\":[[\"type\",\"info\"],[\"background\",\"#007bff\"],[\"icon\",{\"type\":\"map\",\"entries\":[[\"className\",\"fas fa-info-circle\"],[\"tagName\",\"i\"],[\"color\",\"white\"]]}]]}]}]},{\"type\":\"model\",\"name\":\"Notification\",\"properties\":[{\"name\":\"background\",\"kind\":\"Any\",\"default\":null},{\"name\":\"duration\",\"kind\":\"Any\",\"default\":3000},{\"name\":\"icon\",\"kind\":\"Any\",\"default\":null},{\"name\":\"message\",\"kind\":\"Any\",\"default\":\"\"},{\"name\":\"notification_type\",\"kind\":\"Any\",\"default\":null},{\"name\":\"_destroyed\",\"kind\":\"Any\",\"default\":false}]},{\"type\":\"model\",\"name\":\"TemplateActions1\",\"properties\":[{\"name\":\"open_modal\",\"kind\":\"Any\",\"default\":0},{\"name\":\"close_modal\",\"kind\":\"Any\",\"default\":0}]},{\"type\":\"model\",\"name\":\"BootstrapTemplateActions1\",\"properties\":[{\"name\":\"open_modal\",\"kind\":\"Any\",\"default\":0},{\"name\":\"close_modal\",\"kind\":\"Any\",\"default\":0}]},{\"type\":\"model\",\"name\":\"MaterialTemplateActions1\",\"properties\":[{\"name\":\"open_modal\",\"kind\":\"Any\",\"default\":0},{\"name\":\"close_modal\",\"kind\":\"Any\",\"default\":0}]}]}};\n",
       "  var render_items = [{\"docid\":\"24d985d0-8b8d-4cf9-b1ce-2eb9acbd062b\",\"roots\":{\"p1725\":\"ad9ca3a4-c57f-46ac-b810-e445c383e16b\"},\"root_ids\":[\"p1725\"]}];\n",
       "  var docs = Object.values(docs_json)\n",
       "  if (!docs) {\n",
       "    return\n",
       "  }\n",
       "  const py_version = docs[0].version.replace('rc', '-rc.').replace('.dev', '-dev.')\n",
       "  function embed_document(root) {\n",
       "    var Bokeh = get_bokeh(root)\n",
       "    Bokeh.embed.embed_items_notebook(docs_json, render_items);\n",
       "    for (const render_item of render_items) {\n",
       "      for (const root_id of render_item.root_ids) {\n",
       "\tconst id_el = document.getElementById(root_id)\n",
       "\tif (id_el.children.length && (id_el.children[0].className === 'bk-root')) {\n",
       "\t  const root_el = id_el.children[0]\n",
       "\t  root_el.id = root_el.id + '-rendered'\n",
       "\t}\n",
       "      }\n",
       "    }\n",
       "  }\n",
       "  function get_bokeh(root) {\n",
       "    if (root.Bokeh === undefined) {\n",
       "      return null\n",
       "    } else if (root.Bokeh.version !== py_version) {\n",
       "      if (root.Bokeh.versions === undefined || !root.Bokeh.versions.has(py_version)) {\n",
       "\treturn null\n",
       "      }\n",
       "      return root.Bokeh.versions.get(py_version);\n",
       "    } else if (root.Bokeh.version === py_version) {\n",
       "      return root.Bokeh\n",
       "    }\n",
       "    return null\n",
       "  }\n",
       "  function is_loaded(root) {\n",
       "    var Bokeh = get_bokeh(root)\n",
       "    return (Bokeh != null && Bokeh.Panel !== undefined)\n",
       "  }\n",
       "  if (is_loaded(root)) {\n",
       "    embed_document(root);\n",
       "  } else {\n",
       "    var attempts = 0;\n",
       "    var timer = setInterval(function(root) {\n",
       "      if (is_loaded(root)) {\n",
       "        clearInterval(timer);\n",
       "        embed_document(root);\n",
       "      } else if (document.readyState == \"complete\") {\n",
       "        attempts++;\n",
       "        if (attempts > 200) {\n",
       "          clearInterval(timer);\n",
       "\t  var Bokeh = get_bokeh(root)\n",
       "\t  if (Bokeh == null || Bokeh.Panel == null) {\n",
       "            console.warn(\"Panel: ERROR: Unable to run Panel code because Bokeh or Panel library is missing\");\n",
       "\t  } else {\n",
       "\t    console.warn(\"Panel: WARNING: Attempting to render but not all required libraries could be resolved.\")\n",
       "\t    embed_document(root)\n",
       "\t  }\n",
       "        }\n",
       "      }\n",
       "    }, 25, root)\n",
       "  }\n",
       "})(window);</script>"
      ],
      "text/plain": [
       ":Layout\n",
       "   .Image.U_hyphen_minus_Matrix     :Image   [x,y]   (z)\n",
       "   .Image.SDH                       :Image   [x,y]   (z)\n",
       "   .Image.P_hyphen_minus_Matrix     :Image   [x,y]   (z)\n",
       "   .Image.UStar_hyphen_minus_Matrix :Image   [x,y]   (z)"
      ]
     },
     "execution_count": 34,
     "metadata": {
      "application/vnd.holoviews_exec.v0+json": {
       "id": "p1725"
      }
     },
     "output_type": "execute_result"
    }
   ],
   "source": [
    "import holoviews as hv\n",
    "hv.extension('bokeh')\n",
    "um = hv.Image(UMatrix(weights['ydim'], weights['ydim'], weights['arr'], 4)).opts(xaxis=None, yaxis=None) \n",
    "sdh = hv.Image(SDH(weights['ydim'], weights['ydim'], weights['arr'], idata['arr'], 25, 0)).opts(xaxis=None, yaxis=None)\n",
    "pm = hv.Image(PMatrix(weights['ydim'], weights['ydim'], weights['arr'], idata['arr'], 1.2)).opts(xaxis=None, yaxis=None)\n",
    "usm = hv.Image(UStarMatrix(weights['ydim'], weights['ydim'], weights['arr'], idata['arr'], 4, 1.2)).opts(xaxis=None, yaxis=None)\n",
    "\n",
    "hv.Layout([um.relabel('U-Matrix').opts(cmap='jet'), sdh.relabel('SDH').opts(cmap='viridis'),pm.relabel('P-Matrix').opts(cmap='jet'),usm.relabel('UStar-Matrix').opts(cmap='jet')])"
   ]
  },
  {
   "cell_type": "markdown",
   "id": "e402fffb",
   "metadata": {},
   "source": [
    "In comparison to the SOMToolBox-plots we pretty much got the same results. Therefore we can say that the implemented function are working. "
   ]
  },
  {
   "cell_type": "markdown",
   "id": "cdedaa55",
   "metadata": {},
   "source": [
    "## Own Implementations (Chessboard with saturation)"
   ]
  },
  {
   "cell_type": "markdown",
   "id": "45901149",
   "metadata": {},
   "source": [
    "This chapter represents the actual task. First, we took the existing Chessboard-Implementation of the PySOMVis Repository and changed it from a Class-Implementation to a function based one. After adapting every variable and changing the formating of the code we were able to run the function as a standalone. \n",
    "\n",
    "Next, we implented the actual weighting. This contained extracting the red, green and blue channel of the image and save it to a new variable (\"rgb_image\"). After that we transformed the RGB-Image into the HSV color space (Hue-Saturation-Value). This was achieved by using the \"RGB2HSV\" function from the Scikit-Image Library. \n",
    "\n",
    "This had to be done because we needed the saturation channel where we furthermore applied the selected weighting-factors. The weighting was calculated by the user-selected function. After this we had to normalize the weights in order to only get values between 0 and 1. Since the dimension of the visualizations (chessboard) were higher than the ones of our saturation-weights, we had to adapt those. This was achieved by upscaling the lower dimension. The following example shows our approach.\n",
    "\n",
    "Example:\n",
    "higher_dim = 100x100\n",
    "lower_dim = 10x10\n",
    "\n",
    "factor = math.ceil(dimensions_big_x / dimensions_small_x)\n",
    "\n",
    "This means, every datapoint of the lower_dim is used \"factor\" times in order to fit to the actual resolution. \n",
    "\n",
    "The next thing was a user-adjustable saturation intensity. This was simply done by defining a variable which was then multiplied to every weight-value. A value of the user-adjustable saturation variable of \"0\" means that only the original should be shown. A value of \"1\" shows the actual weights calculated from the user-chose funtion. \n",
    "\n",
    "After the weights were multiplied to the saturation-channel of the HSV-image, we retransformed it back to the RGB-space. \n",
    "\n",
    "Finally the image was plotted using the \"matplotlib\" library. \n",
    "\n",
    "The function-parameters:\n",
    "    - interpolation: defines if interpolation should be used\n",
    "    - high_dpi: defines if a higher resolution should be used\n",
    "    - voronoi: defines if voronoi lines should be used\n"
   ]
  },
  {
   "cell_type": "code",
   "execution_count": 45,
   "id": "130c4a3b",
   "metadata": {},
   "outputs": [],
   "source": [
    "from scipy.spatial import Voronoi\n",
    "from skimage.draw import polygon\n",
    "from skimage.color import rgb2hsv, hsv2rgb\n",
    "from holoviews.streams import Pipe\n",
    "import matplotlib.pyplot as plt\n",
    "import math\n",
    "\n",
    "import warnings\n",
    "warnings.filterwarnings(\"ignore\")\n",
    "\n",
    "_pipe = Pipe(data=[])\n",
    "_pipe_points = Pipe(data=[])\n",
    "_pipe_paths = Pipe(data=[])\n",
    "\n",
    "def dist_point_to_segment(pixels, s0, s1=None):\n",
    "\t\"\"\"\n",
    "\tGet the distance of a point to a segment or point.\n",
    "\t\t*p*, *s0*, *s1* are *xy* sequences\n",
    "\tThis algorithm is from http://geomalgorithms.com/a02-_lines.html\n",
    "\t\"\"\"\n",
    "\tdistances = []\n",
    "\tif s1 is None: #distance between points and point\n",
    "\t\tdistances = np.linalg.norm(pixels[:, None, :] - s0, axis=-1)\n",
    "\telse:          #distance between point and line segment\n",
    "\t\tdist = lambda x,y: round(np.linalg.norm(x-y),1)\n",
    "\t\tfor p in pixels:        \n",
    "\t\t\tv,   w = s1 - s0, p - s0\n",
    "\t\t\tc1, c2 = np.dot(w, v), np.dot(v, v)\n",
    "\t\t\tb = c1 / c2\n",
    "\t\t\tpb = s0 + b * v\n",
    "\t\t\tif c1 <= 0:    distances.append(dist(p,s0))\n",
    "\t\t\telif c2 <= c1: distances.append(dist(p,s1))\n",
    "\t\t\telse:          distances.append(dist(p,pb))\n",
    "\tdistances = np.column_stack((pixels,distances))\n",
    "\tdistances = distances[distances[:, -1].argsort()] #sort distances\n",
    "\treturn distances[:,0:2].astype(int)\n",
    "\n",
    "def check_polygon_intersection(polygons, get_vertices):\n",
    "\t\"\"\"\n",
    "\tReturn shared vertex between polygons\n",
    "\t\"\"\"\n",
    "\tfor i in range(len(polygons)):\n",
    "\t\tfor j in range(i+1,len(polygons)): \n",
    "\t\t\tpoly1 = get_vertices(polygons[i])\n",
    "\t\t\tpoly2 = get_vertices(polygons[j])\n",
    "\t\t\tshared_vertex = np.intersect1d(poly1, poly2)\n",
    "\t\t\tif shared_vertex.size==1: return (shared_vertex, poly1, poly2)\n",
    "\treturn None\n",
    "\n",
    "def _interpolation(interpolation):\n",
    "        if interpolation:\n",
    "            _pipe.send(resize(_pipe.data, (1000, 1000)))\n",
    "\n",
    "def convert_to_xy(_m, _n, neuron=None, point2D=None):\n",
    "        scale = lambda a,b,x,minx,maxx: (b-a)*((x-minx)/(maxx-minx))+a  # adjust to -0.5 to 0.5 because of holoviews Image\n",
    "        y, x = 0, 0\n",
    "        if neuron is not None:   y, x = np.unravel_index(neuron, (_m, _n))\n",
    "        if point2D is not None:  y, x = point2D[1], point2D[0]\n",
    "        y = scale(-0.5, 0.5, y, -0.5, _m-0.5)\n",
    "        x = scale(-0.5, 0.5, x, -0.5, _n-0.5)\n",
    "        return x, -1*y\n",
    "\n",
    "def display(_m, _n, plot=None, paths=None, points=None, interpolation=False):\n",
    "        if plot is not None: \n",
    "            if _m==1:  plot = np.vstack([plot, plot])  # hv.Image doesn't work with one line input\n",
    "            if _n==1:  plot = np.c_[plot, plot]        # hv.Image doesn't work with one line input\n",
    "            if interpolation: plot = resize(plot, (1000, 1000))\n",
    "            _pipe.send(plot)\n",
    "        if paths is not None:\n",
    "            _pipe_paths.send(paths)\n",
    "        if points is not None:\n",
    "            _pipe_points.send(points)\n",
    "\n",
    "def Chessboard(_m, _n, _weights, _idata, _classes, _dim, _dpi, _voronoi_lines, _chessboard, interpolation, saturationIntensity, matrix):\n",
    "\tclasses = [0] * (_m * _n)\n",
    "\tgrid = _m * _n\n",
    "\tn_classes = np.unique(_classes).tolist()\n",
    "\tmapped_data = np.zeros(grid * len(n_classes), dtype=int).reshape(grid,-1)\n",
    "\n",
    "\tbmu = np.apply_along_axis(lambda x: np.argmin( np.linalg.norm(\n",
    "\t\t_weights - x.reshape((1, _dim)), axis=1)), 1,_idata)\n",
    "\n",
    "\tfor i in range(len(_classes)):\n",
    "\t\tc = n_classes.index(_classes[i])\n",
    "\t\tu = bmu[i]\n",
    "\t\tmapped_data[u][c] += 1\n",
    "\n",
    "\tvpoints = []\n",
    "\tdummy=[]\n",
    "\t# position becomes a vpoint if it has a non-empty class array\n",
    "\tfor position, v in enumerate(mapped_data):\n",
    "\t\tif sum(v) > 0:\n",
    "\t\t\tx,y = position % _n, position // _n\n",
    "\t\t\tvpoints.append([x, y])\n",
    "\n",
    "\t\t    #dummy vetices for finit polygons\n",
    "\t\t\tif x == 0:                        \t  dummy.append([-1, y])\n",
    "\t\t\tif x == _n-1:              dummy.append([_n, y])\n",
    "\t\t\tif y == 0:                            dummy.append([x, -1])\n",
    "\t\t\tif y == _m-1:              dummy.append([x, _m])\n",
    "\t\t\tif x == 0 and y == 0:                 dummy.append([-1, -1])\n",
    "\t\t\tif x == _n-1 and y == _m-1: \n",
    "\t\t\t\tdummy.append([_n, _m])    \n",
    "\t\t\tif x == _n-1 and y == 0:   dummy.append([_n, -1])\n",
    "\t\t\tif x == 0 and y == _m-1:   dummy.append([-1, _m])\n",
    "\t\t            \n",
    "\tmapped_data = mapped_data[~np.all(mapped_data == 0, axis=1)]\n",
    "\tvpoints = dummy + vpoints\n",
    "\n",
    "\t# compute Voronoi tesselation\n",
    "\tvdiagram = Voronoi(vpoints)\n",
    "\tvdiagram.close() #release memory\n",
    "\n",
    "\tdpi = 100 if _dpi else 10\n",
    "\n",
    "\tget_vertices = lambda x: vdiagram.regions[vdiagram.point_region[x]]\n",
    "\tget_coordinates = lambda x: (vdiagram.vertices[x]+0.5)*dpi\n",
    "\tplot = np.zeros((_n*dpi, _m*dpi), dtype=int)\n",
    "\n",
    "\tfor position in range(len(dummy), len(vpoints)):\n",
    "\t\tpolygon_cur = get_vertices(position)\n",
    "\t\tpoly = get_coordinates(polygon_cur)\n",
    "\t\trr, cc = polygon(poly[:,0], poly[:,1])\n",
    "\t\t    \n",
    "\t\t#sometimes it is needed :) \n",
    "\t\trr = rr[cc<plot.shape[1]]\n",
    "\t\tcc = cc[cc<plot.shape[1]]\n",
    "\t\tcc = cc[rr<plot.shape[0]]\n",
    "\t\trr = rr[rr<plot.shape[0]]\n",
    "\t\t#end\n",
    "\n",
    "\t\tcolors = mapped_data[position-len(dummy)]\n",
    "\t\tperc = np.round(colors/np.linalg.norm(colors,1.0), 3) # percentages (ratios) array\n",
    "\t\tdominant_color = np.argmax(colors)\n",
    "\t\tcolors_ind = np.nonzero(mapped_data[position-len(dummy)])[0]\n",
    "\t\tplot[rr,cc] = dominant_color\n",
    "\t\tcolors_ind = colors_ind[colors_ind!=dominant_color] #we don't need dominant color any more\n",
    "\t\tif len(colors_ind) > 0:\n",
    "\t\t\tpixels = np.column_stack((rr,cc))\n",
    "\t\t\ttotal_pixels = len(pixels)\n",
    "\t\t\tcentroid = pixels.mean(0) #get center of the current region\n",
    "\n",
    "\t\t\tif _chessboard:\n",
    "\t\t\t\tnp.random.shuffle(pixels)\n",
    "\t\t\t\tchunks = np.split(pixels, (len(pixels)*perc[:-1].cumsum()).astype(int)) #split pixels accordingly percentages\n",
    "\t\t\t\tfor c, pixels  in enumerate(chunks):\n",
    "\t\t\t\t\tplot[pixels[:,0],pixels[:,1]] = c \n",
    "\t\t\telse:\n",
    "\t\t        #find neighbours of current polygon\n",
    "\t\t\t\tneighbours = vdiagram.ridge_points[(vdiagram.ridge_points==position).any(axis=1) \n",
    "\t\t\t\t\t                                & (vdiagram.ridge_points>=len(dummy)).all(axis=1)]\n",
    "\t\t\t\tneighbours = neighbours[neighbours!=position].flatten() #remove the current region form neighb\t\t\t\t\t\n",
    "\t\t\t\t#get colors of all neighbors\n",
    "\t\t\t\tneighbours_colors = np.insert(mapped_data[neighbours-len(dummy)], mapped_data.shape[1], neighbours, axis=1)\n",
    "\t\t            \n",
    "\t\t\t\tfor c in colors_ind: #go over all colors of polygon\n",
    "\t\t\t\t\tpixels = pixels[plot[pixels[:,0],pixels[:,1]] == dominant_color] #we can change only pixels colored in dominant color\n",
    "\t\t\t\t\tpoint1, point2 = None, None\n",
    "\n",
    "\t\t\t\t\tnc = neighbours_colors[neighbours_colors[:,c]>0] #check how many neighbours have the same colour\n",
    "\t\t\t\t\tif   len(nc)==0: point1, point2 = centroid, None # color is isolated, no neighbours with the same color\n",
    "\t\t\t\t\telif len(nc)==1: # there is only one neighbour with the same color\n",
    "\t\t\t\t\t\tneighbour = get_vertices(nc[:,-1][0])\n",
    "\t\t\t\t\t\tadjacent_border = get_coordinates(np.intersect1d(polygon_cur, neighbour))\n",
    "\n",
    "\t\t\t\t\t\t#check if neighbor has only dominant color\n",
    "\t\t\t\t\t\tif (nc[nc>0].size-1==1): point1, point2 = adjacent_border[1], adjacent_border[0] #if this color is dominant color for neighbor - consider adjacent border\n",
    "\t\t\t\t\t\telse:                    point1, point2 = centroid, adjacent_border.mean(0)      #else consider line segment from center to border\n",
    "\t\t                        \n",
    "\t\t\t\t\telif len(nc)>1: #if we have a set of neighbours with the same color\n",
    "\t\t                   \n",
    "\t\t\t\t\t\tdominant = []\n",
    "\t\t\t\t\t\tnot_dominant = []\n",
    "\t\t\t\t\t\tfor n in nc: #divide set on dominant and not\n",
    "\t\t\t\t\t\t\tif n[n>0].size-1==1: dominant.append(n[-1])\n",
    "\t\t\t\t\t\t\telse:                not_dominant.append(n[-1])\n",
    "\t\t                    \n",
    "\t\t\t\t\t\tif len(dominant)>0: #consider dominant color of neighbors - first\n",
    "\t\t\t\t\t\t\tintersection = check_polygon_intersection(dominant, get_vertices)\n",
    "\t\t\t\t\t\t\tif intersection is not None: #check iintersection of neighbors with the same color\n",
    "\t\t\t\t\t\t\t\tpoint1, point2 = get_coordinates(intersection[0]), None\n",
    "\t\t\t\t\t\t\telse:\n",
    "\t\t\t\t\t\t\t\tneighbour = get_vertices(dominant[0]) # no intersection - take first neighbour\n",
    "\t\t\t\t\t\t\t\tadjacent_border = get_coordinates(np.intersect1d(polygon_cur, neighbour))\n",
    "\t\t\t\t\t\t\t\tpoint1, point2 = adjacent_border[0], adjacent_border[1]                      \n",
    "\t\t\t\t\t\telse: #same for neighbours which have the same color but not dominant\n",
    "\t\t\t\t\t\t\tintersection = check_polygon_intersection(not_dominant, get_vertices)\n",
    "\t\t\t\t\t\t\tif intersection is not None:\n",
    "\t\t\t\t\t\t\t\tpoint1 = get_coordinates(np.intersect1d(intersection[1],polygon_cur)).mean(0)\n",
    "\t\t\t\t\t\t\t\tpoint2 = get_coordinates(np.intersect1d(intersection[2],polygon_cur)).mean(0)\n",
    "\t\t\t\t\t\t\telse:\n",
    "\t\t\t\t\t\t\t\tneighbour1 = get_vertices(not_dominant[0])\n",
    "\t\t\t\t\t\t\t\tneighbour2 = get_vertices(not_dominant[-1])\n",
    "\t\t\t\t\t\t\t\tpoint1 = get_coordinates(np.intersect1d(neighbour1,polygon_cur)).mean(0)\n",
    "\t\t\t\t\t\t\t\tpoint2 = get_coordinates(np.intersect1d(neighbour2,polygon_cur)).mean(0)\n",
    "\t\t                    \n",
    "\t\t\t\t\tsorted_pixels = dist_point_to_segment(pixels, point1, point2)\n",
    "\t\t                                \n",
    "\t\t\t\t\tN = round(total_pixels*perc[c]) #get number of pixels accordying to the percentge\n",
    "\t\t\t\t\tplot[sorted_pixels[0:N,0],sorted_pixels[0:N,1]] = c #cahnge pixel color\n",
    "\t\t\n",
    "\tpaths = []\n",
    "\tif _voronoi_lines:\n",
    "\t\tfor v in vdiagram.ridge_vertices:\n",
    "\t\t\tif -1 not in v:\n",
    "\t\t\t\tp1 = list(convert_to_xy(point2D=vdiagram.vertices[v[0]]))\n",
    "\t\t\t\tp2 = list(convert_to_xy(point2D=vdiagram.vertices[v[1]]))\n",
    "\t\t\t\tpaths.append(tuple(p1)+tuple(p2))\n",
    "\n",
    "\tplot = np.flipud(np.rot90(plot, k=-1, axes=(1,0)))\n",
    "\tdisplay(_m, _n, plot=plot, paths=paths, interpolation=interpolation)\n",
    "\n",
    "\n",
    "\t# Selecting a color sheme for the chessboard implementation (used-one: jet)\n",
    "\tcmap = plt.cm.get_cmap('jet', np.max(plot) + 1) \n",
    "\t# Map the integer values to RGB colors\n",
    "\trgb_image = cmap(plot)\n",
    "\t# Extracting only red, green and blue channels\n",
    "\trgb_image = rgb_image[:, :, :3]\n",
    "\t# Transforming the RGB image to HSV\n",
    "\thsv_im = rgb2hsv(rgb_image)\n",
    "\n",
    "\t# User selectable weighting factors (UMatrix, SDH, PMatrix, UStarMatrix)\n",
    "\tif matrix == \"UMatrix\":\n",
    "\t\tweights_u = UMatrix(_m, _n, _weights, _dim)\n",
    "\telif matrix == \"SDH\":\n",
    "\t\tweights_u = SDH(_m, _n, _weights, _idata, 25, 0)\n",
    "\telif matrix == \"PMatrix\":\n",
    "\t\tweights_u = PMatrix(_m, _n, _weights, _idata, 1.014889156509222)\n",
    "\telif matrix == \"UStarMatrix\":\n",
    "\t\tweights_u = UStarMatrix(_m, _n, _weights, _idata, _dim, 1.014889156509222)\n",
    "\telse:\n",
    "\t\t# As a default we chose to use the UMatrix with a saturation intensity of 0\n",
    "\t\t# simply means no weights are applied to the saturation (original image)\n",
    "\t\tweights_u = UMatrix(weights['xdim'], weights['ydim'], weights['arr'], 4)\n",
    "\t\tsaturationIntensity = 0\n",
    "\t\n",
    "\t# Normalizing the weights\n",
    "\tweights_u = (weights_u - weights_u.min()) / (weights_u.max() - weights_u.min())\n",
    "\t\t\n",
    "\t# Dimension Convertion\n",
    "\t# Dimensions_big represent the dimensions of the 100 x 60 SOMs (or bigger ones where x_dim & y_dim are not equal)\n",
    "\t# Dimensions_small represent the dimensions of the 10 x 10 SOMs (or smaller ones where x_dim & y_dim are equal)\n",
    "\n",
    "\tdimensions_big_x = hsv_im.shape[0]\n",
    "\tdimensions_small_x = weights_u.shape[0]\n",
    "\n",
    "\tdimensions_big_y = hsv_im.shape[1]\n",
    "\tdimensions_small_y = weights_u.shape[1]\n",
    "\n",
    "\t# Calculating the factor by which the big SOM is bigger than the small SOM\n",
    "\tdimensions_small_x = math.ceil(dimensions_big_x / dimensions_small_x)\n",
    "\tdimensions_small_y = math.ceil(dimensions_big_y / dimensions_small_y)\n",
    "\n",
    "\t# Applying the weights to the saturation\n",
    "\tfor i in range(0, dimensions_big_x):\n",
    "\t\tfor j in range(0, dimensions_big_y):\n",
    "\t\t\tif i == 0 and j == 0:\n",
    "\t\t\t\thsv_im[0, 0, 1] = hsv_im[0, 0, 1] + (hsv_im[0, 0, 1] * (weights_u[0, 0] - 1) * saturationIntensity)\n",
    "\t\t\telif i == 0:\n",
    "\t\t\t\thsv_im[0, j, 1] = hsv_im[0, j, 1] + (hsv_im[0, j, 1] * (weights_u[0, j // dimensions_small_y] - 1) * saturationIntensity)\n",
    "\t\t\telif j == 0:\n",
    "\t\t\t\thsv_im[i, 0, 1] = hsv_im[i, 0, 1] + (hsv_im[i, 0, 1] * (weights_u[i // dimensions_small_x, 0] - 1) * saturationIntensity)\n",
    "\t\t\telse:\n",
    "\t\t\t\thsv_im[i, j, 1] = hsv_im[i, j, 1] + (hsv_im[i, j, 1] * (weights_u[i // dimensions_small_x, j // dimensions_small_y] - 1) * saturationIntensity)\n",
    "\t\n",
    "\t# Transforming the HSV image back to RGB (in order to get an actual image)\n",
    "\trgb_image_new = hsv2rgb(hsv_im)\t\n",
    "\t\n",
    "\treturn rgb_image_new"
   ]
  },
  {
   "cell_type": "markdown",
   "id": "c28c50bc",
   "metadata": {},
   "source": [
    "### Testing function with IRIS"
   ]
  },
  {
   "cell_type": "markdown",
   "id": "1ed97549",
   "metadata": {},
   "source": [
    "The aim of this section is to test the implemented chessboard-function. We chose the inital Iris datset and compared it to the PySOMVis-visualization. "
   ]
  },
  {
   "cell_type": "code",
   "execution_count": 7,
   "id": "7ef0fa70",
   "metadata": {},
   "outputs": [
    {
     "data": {
      "image/png": "[encoded data removed]",
      "text/plain": [
       "<Figure size 640x480 with 1 Axes>"
      ]
     },
     "metadata": {},
     "output_type": "display_data"
    }
   ],
   "source": [
    "interpolation = False\n",
    "chessboard = True\n",
    "high_dpi = False\n",
    "voronoi = False\n",
    "saturationIntensity = 0.8\n",
    "matrix = [\"default\",\"UMatrix\",\"PMatrix\",\"SDH\",\"UStarMatrix\"]\n",
    "\n",
    "c = Chessboard(weights['ydim'], weights['ydim'], weights['arr'], idata['arr'], classes['arr'][:,1], 4, \n",
    "               high_dpi, voronoi, chessboard, interpolation, saturationIntensity, matrix[0])\n",
    "plt.imshow(c)\n",
    "plt.axis('off')\n",
    "plt.show()"
   ]
  },
  {
   "cell_type": "markdown",
   "id": "404c14b9",
   "metadata": {},
   "source": [
    "The image looks like the one from PySOMVis and therefore we know that our implementation as a standalone function is working. The next sections are showing the visualization using the two different datasets and our own trained SOMs. Now lets add the saturation effect by choosing one of the matrix array items."
   ]
  },
  {
   "cell_type": "markdown",
   "id": "2af1f3e9",
   "metadata": {},
   "source": []
  },
  {
   "cell_type": "code",
   "execution_count": 37,
   "id": "df0e45c0",
   "metadata": {},
   "outputs": [
    {
     "name": "stdout",
     "output_type": "stream",
     "text": [
      "[[5.3410615  2.49928854 4.20200498 1.40913253]\n",
      " [5.08971693 2.55015807 4.46014385 1.60807605]\n",
      " [5.53853625 2.68629902 4.80619443 1.80991903]\n",
      " [5.73177201 2.67858746 5.0168371  1.95372459]\n",
      " [5.91573778 2.89064894 5.10027157 2.20001784]\n",
      " [6.31026941 3.26484043 5.34274753 2.28351449]\n",
      " [6.36966232 3.31653036 5.71675321 2.4094243 ]\n",
      " [6.75097948 3.21307518 5.71330659 2.33162275]\n",
      " [7.17943861 3.39373312 6.09536849 2.3516351 ]\n",
      " [7.71452104 3.1657159  6.66306422 2.12873892]\n",
      " [5.49596154 2.41201349 3.99975203 1.28056786]\n",
      " [5.44409168 2.57326331 4.29976079 1.29477238]\n",
      " [5.64835334 2.83427964 4.6265718  1.60051797]\n",
      " [5.93946038 3.02143698 4.81604841 1.8038774 ]\n",
      " [6.04768721 2.98954308 4.98272297 1.83637939]\n",
      " [6.46664953 3.06806926 5.15479038 2.01469439]\n",
      " [6.77006057 3.06644446 5.27120728 2.2188983 ]\n",
      " [6.6614762  3.02676296 5.63695963 2.14335856]\n",
      " [7.0798721  3.03888484 5.92529384 2.07198155]\n",
      " [7.45675226 2.93302515 6.18476611 1.99631807]\n",
      " [5.52894167 2.43477901 3.81191887 1.07897655]\n",
      " [5.48756012 2.62252146 4.07868414 1.25218711]\n",
      " [5.53776045 2.96083188 4.4802439  1.48074223]\n",
      " [5.94337579 2.90659639 4.57272975 1.55715558]\n",
      " [6.17547602 2.81686072 4.8266871  1.77151494]\n",
      " [6.30457152 2.6175493  4.98642539 1.86563311]\n",
      " [6.41811693 2.78152053 5.30202551 1.906407  ]\n",
      " [6.40660905 2.91992727 5.55829427 1.93145028]\n",
      " [6.74563607 2.72881502 5.756695   1.83669399]\n",
      " [7.18913287 3.06644476 5.89010927 1.72188251]\n",
      " [5.24146004 2.3855631  3.60144746 1.09138347]\n",
      " [5.28276236 2.63467382 3.89535124 1.31165055]\n",
      " [5.57769656 2.77245918 4.22939217 1.34064334]\n",
      " [5.76465479 2.85169768 4.41637533 1.35370792]\n",
      " [6.07351611 2.85889363 4.69725944 1.46803816]\n",
      " [6.10362419 2.70340264 5.00881515 1.59458939]\n",
      " [6.26438884 2.72104017 5.14361672 1.58115836]\n",
      " [6.25108115 2.70420049 5.44908604 1.57683266]\n",
      " [6.6341622  2.83008265 5.26018892 1.63609148]\n",
      " [6.81185014 3.0023073  5.11560694 1.64107627]\n",
      " [4.98826204 2.31036906 3.286036   1.02004431]\n",
      " [5.14366275 2.46830099 3.49261081 1.10669497]\n",
      " [5.58745156 2.84743612 4.02532875 1.26910588]\n",
      " [5.67721736 2.92114497 4.14333377 1.27523505]\n",
      " [5.84746065 2.83570148 4.29883333 1.28300341]\n",
      " [6.04797007 2.71550978 4.65580516 1.26070489]\n",
      " [6.07697807 2.39453045 4.91750953 1.45384165]\n",
      " [6.30833651 2.50259577 4.8744431  1.47440765]\n",
      " [6.70774597 2.82949113 4.77855475 1.42999172]\n",
      " [6.85656278 3.11148121 4.7739088  1.46953865]\n",
      " [5.09402024 2.85979381 2.67671012 0.74657786]\n",
      " [5.26375479 3.10677213 2.27980482 0.58043953]\n",
      " [5.50432833 3.0466947  3.11949978 0.96385224]\n",
      " [5.62111123 2.9031886  3.69945387 1.26556626]\n",
      " [5.77184269 2.73027562 3.90174552 1.1940761 ]\n",
      " [5.81963222 2.63900896 4.06869331 1.1272225 ]\n",
      " [6.02723903 2.42361483 4.37942285 1.28141723]\n",
      " [6.2715715  2.34870569 4.46945896 1.38709381]\n",
      " [6.54290463 2.8417958  4.5772355  1.38733551]\n",
      " [6.65970862 3.04662648 4.44545012 1.40443844]\n",
      " [5.19411798 3.73285452 1.84175596 0.38041958]\n",
      " [5.3783561  3.44371767 1.62849139 0.29813882]\n",
      " [5.3108108  3.38254402 1.80387581 0.41433639]\n",
      " [5.2619606  3.21335959 2.38035797 0.72680307]\n",
      " [5.44009543 2.94386935 2.94932125 0.83233141]\n",
      " [5.69470626 2.62615242 3.53616213 0.98712593]\n",
      " [5.9467972  2.35685267 3.92459821 1.04646794]\n",
      " [6.15434629 2.68431993 4.14893704 1.29310067]\n",
      " [6.30116691 2.89980469 4.32978283 1.31772197]\n",
      " [6.41676997 3.11248317 4.4928591  1.45204913]\n",
      " [5.49357705 3.82301959 1.68817607 0.34499998]\n",
      " [5.42702051 3.57014707 1.45368696 0.23952772]\n",
      " [5.19245157 3.47106174 1.4836057  0.24690931]\n",
      " [5.0173896  3.43492087 1.59078242 0.43494798]\n",
      " [4.98594694 3.31844053 1.75063455 0.37170559]\n",
      " [4.99526957 3.04449872 1.83238538 0.32971253]\n",
      " [5.1122973  2.88442674 2.16064854 0.46468859]\n",
      " [5.80890453 2.85593614 3.59466723 1.04907697]\n",
      " [6.16862388 3.02494582 4.48929891 1.40166991]\n",
      " [6.26044771 3.24463031 4.64030586 1.55577515]\n",
      " [5.50910947 3.91049451 1.46471056 0.26312093]\n",
      " [5.3493646  3.72484571 1.48436561 0.21236532]\n",
      " [5.15553893 3.60426672 1.47529548 0.25237845]\n",
      " [5.06552785 3.45239893 1.45067272 0.22835906]\n",
      " [4.92506172 3.29492033 1.42354417 0.20786908]\n",
      " [4.89200772 3.06238091 1.51236991 0.18227758]\n",
      " [4.72493729 3.06334376 1.46002461 0.20485721]\n",
      " [4.82361275 2.93972244 1.81685916 0.38979096]\n",
      " [5.89038665 3.07459437 4.0423939  1.30005912]\n",
      " [6.04780019 3.31022944 4.49624487 1.56440811]\n",
      " [5.66453423 4.16652615 1.35789675 0.27140971]\n",
      " [5.31680022 3.96621198 1.40757587 0.25527794]\n",
      " [5.10288376 3.75911236 1.52855786 0.27685323]\n",
      " [4.97880878 3.55674998 1.36670394 0.21053043]\n",
      " [4.73890016 3.47562606 1.15396433 0.20310008]\n",
      " [4.63842078 3.25472505 1.37347138 0.22950198]\n",
      " [4.40479082 3.06174068 1.25260449 0.17192837]\n",
      " [4.46094805 2.72206506 1.35941069 0.24090203]\n",
      " [5.30906463 2.94316841 2.98175847 0.93218067]\n",
      " [5.9126688  3.07826765 4.22079868 1.48714865]]\n"
     ]
    },
    {
     "data": {
      "image/png": "[encoded data removed]",
      "text/plain": [
       "<Figure size 640x480 with 1 Axes>"
      ]
     },
     "metadata": {},
     "output_type": "display_data"
    }
   ],
   "source": [
    "c = Chessboard(weights['ydim'], weights['ydim'], weights['arr'], idata['arr'], classes['arr'][:,1], 4, \n",
    "               high_dpi, voronoi, chessboard, interpolation, saturationIntensity, matrix[2])\n",
    "\n",
    "plt.imshow(c)\n",
    "plt.axis('off')\n",
    "plt.show()"
   ]
  },
  {
   "cell_type": "markdown",
   "id": "ff03a80c",
   "metadata": {},
   "source": [
    "That works as well, for this example we choosed the PMatrix for defining the staturation of the image."
   ]
  },
  {
   "cell_type": "markdown",
   "id": "2d6f5acf",
   "metadata": {},
   "source": [
    "## Dataset 1: Chainlink"
   ]
  },
  {
   "cell_type": "markdown",
   "id": "d33bff76",
   "metadata": {},
   "source": [
    "### Trained SOM's"
   ]
  },
  {
   "cell_type": "markdown",
   "id": "df264f4a",
   "metadata": {},
   "source": [
    "For the Chainlink-dataset we trained two different SOMs. For both we used the MiniSOM implementation. The first, smaller one, has a resolution of 10 x 10. The second one 100 x 60. After trying several parameters the beneath implementation shows our best attempts. \n",
    "\n",
    "SOM (10 x 10):\n",
    "\n",
    "- Sigma = 7\n",
    "- Learning-Rate = 0.3\n",
    "- Epochs = 100_000\n",
    "\n",
    "SOM (100 x 60):\n",
    "\n",
    "- Sigma = 7\n",
    "- Learning-Rate = 0.3\n",
    "- Epochs = 100_000\n",
    "\n",
    "The best parameters were once determined using a grid-search alike function and once through simply trying out. Nevertheless, none of the parameters setings observed led to a clear representation of the expected structure. "
   ]
  },
  {
   "cell_type": "code",
   "execution_count": 71,
   "id": "eb095bad",
   "metadata": {},
   "outputs": [],
   "source": [
    "def gridsearch(x,y,dimension,sigmaFrom,sigmaTo,learning_rate_from,learning_rate_to, idata,epochs, classes):\n",
    "    for i in np.arange(learning_rate_from,learning_rate_to,0.1):\n",
    "        for j in np.arange(sigmaFrom,sigmaTo,0.5):\n",
    "            print(\"\\n learning rate \",i,\"sigma \",j)\n",
    "            try:\n",
    "                som = MiniSom(x, y, dimension, learning_rate=i, sigma=j)\n",
    "                som.train(idata, epochs)\n",
    "\n",
    "                som_reshaped = som._weights.reshape(x*y,3)\n",
    "                c = Chessboard(x, y, som_reshaped, idata, classes, dimension, high_dpi, voronoi, chessboard, interpolation, saturationIntensity, matrix[0])\n",
    "                plt.imshow(c)\n",
    "                plt.axis('off')\n",
    "                plt.show()\n",
    "            except Exception as e:\n",
    "                print(e)\n",
    "                continue"
   ]
  },
  {
   "cell_type": "markdown",
   "id": "4c41c71d",
   "metadata": {},
   "source": [
    "The above code cell shows the \"grid-search\" alike function where we tried different parameters. Since the outputs would go beyond the scope of this report we outcommented the calls of function. "
   ]
  },
  {
   "cell_type": "code",
   "execution_count": 72,
   "id": "9822e142",
   "metadata": {},
   "outputs": [
    {
     "name": "stdout",
     "output_type": "stream",
     "text": [
      "\n",
      " learning rate  0.1 sigma  0.5\n"
     ]
    },
    {
     "data": {
      "image/png": "[encoded data removed]",
      "text/plain": [
       "<Figure size 640x480 with 1 Axes>"
      ]
     },
     "metadata": {},
     "output_type": "display_data"
    },
    {
     "name": "stdout",
     "output_type": "stream",
     "text": [
      "\n",
      " learning rate  0.1 sigma  1.0\n"
     ]
    },
    {
     "data": {
      "image/png": "[encoded data removed]",
      "text/plain": [
       "<Figure size 640x480 with 1 Axes>"
      ]
     },
     "metadata": {},
     "output_type": "display_data"
    },
    {
     "name": "stdout",
     "output_type": "stream",
     "text": [
      "\n",
      " learning rate  0.1 sigma  1.5\n"
     ]
    },
    {
     "data": {
      "image/png": "[encoded data removed]",
      "text/plain": [
       "<Figure size 640x480 with 1 Axes>"
      ]
     },
     "metadata": {},
     "output_type": "display_data"
    },
    {
     "name": "stdout",
     "output_type": "stream",
     "text": [
      "\n",
      " learning rate  0.1 sigma  2.0\n"
     ]
    },
    {
     "data": {
      "image/png": "[encoded data removed]",
      "text/plain": [
       "<Figure size 640x480 with 1 Axes>"
      ]
     },
     "metadata": {},
     "output_type": "display_data"
    },
    {
     "name": "stdout",
     "output_type": "stream",
     "text": [
      "\n",
      " learning rate  0.1 sigma  2.5\n"
     ]
    },
    {
     "data": {
      "image/png": "[encoded data removed]",
      "text/plain": [
       "<Figure size 640x480 with 1 Axes>"
      ]
     },
     "metadata": {},
     "output_type": "display_data"
    },
    {
     "name": "stdout",
     "output_type": "stream",
     "text": [
      "\n",
      " learning rate  0.1 sigma  3.0\n"
     ]
    },
    {
     "data": {
      "image/png": "[encoded data removed]",
      "text/plain": [
       "<Figure size 640x480 with 1 Axes>"
      ]
     },
     "metadata": {},
     "output_type": "display_data"
    },
    {
     "name": "stdout",
     "output_type": "stream",
     "text": [
      "\n",
      " learning rate  0.1 sigma  3.5\n"
     ]
    },
    {
     "ename": "KeyboardInterrupt",
     "evalue": "",
     "output_type": "error",
     "traceback": [
      "\u001b[1;31m---------------------------------------------------------------------------\u001b[0m",
      "\u001b[1;31mKeyboardInterrupt\u001b[0m                         Traceback (most recent call last)",
      "Cell \u001b[1;32mIn[72], line 1\u001b[0m\n\u001b[1;32m----> 1\u001b[0m \u001b[43mgridsearch\u001b[49m\u001b[43m(\u001b[49m\u001b[38;5;241;43m10\u001b[39;49m\u001b[43m,\u001b[49m\u001b[38;5;241;43m10\u001b[39;49m\u001b[43m,\u001b[49m\u001b[43mdim_chainlink\u001b[49m\u001b[43m,\u001b[49m\u001b[38;5;241;43m0.5\u001b[39;49m\u001b[43m,\u001b[49m\u001b[38;5;241;43m7\u001b[39;49m\u001b[43m,\u001b[49m\u001b[38;5;241;43m0.1\u001b[39;49m\u001b[43m,\u001b[49m\u001b[38;5;241;43m1\u001b[39;49m\u001b[43m,\u001b[49m\u001b[43midata_chainlink\u001b[49m\u001b[43m[\u001b[49m\u001b[38;5;124;43m'\u001b[39;49m\u001b[38;5;124;43marr\u001b[39;49m\u001b[38;5;124;43m'\u001b[39;49m\u001b[43m]\u001b[49m\u001b[43m,\u001b[49m\u001b[38;5;241;43m100_000\u001b[39;49m\u001b[43m,\u001b[49m\u001b[43m \u001b[49m\u001b[43mclasses_chainlink\u001b[49m\u001b[43m[\u001b[49m\u001b[38;5;124;43m'\u001b[39;49m\u001b[38;5;124;43marr\u001b[39;49m\u001b[38;5;124;43m'\u001b[39;49m\u001b[43m]\u001b[49m\u001b[43m[\u001b[49m\u001b[43m:\u001b[49m\u001b[43m,\u001b[49m\u001b[38;5;241;43m1\u001b[39;49m\u001b[43m]\u001b[49m\u001b[43m)\u001b[49m\n\u001b[0;32m      2\u001b[0m \u001b[38;5;66;03m#gridsearch(100,60,dim_chainlink,0.5,7,0.1,1,idata_chainlink['arr'],10_000, classes_chainlink['arr'][:,1])\u001b[39;00m\n",
      "Cell \u001b[1;32mIn[71], line 7\u001b[0m, in \u001b[0;36mgridsearch\u001b[1;34m(x, y, dimension, sigmaFrom, sigmaTo, learning_rate_from, learning_rate_to, idata, epochs, classes)\u001b[0m\n\u001b[0;32m      5\u001b[0m \u001b[38;5;28;01mtry\u001b[39;00m:\n\u001b[0;32m      6\u001b[0m     som \u001b[38;5;241m=\u001b[39m MiniSom(x, y, dimension, learning_rate\u001b[38;5;241m=\u001b[39mi, sigma\u001b[38;5;241m=\u001b[39mj)\n\u001b[1;32m----> 7\u001b[0m     \u001b[43msom\u001b[49m\u001b[38;5;241;43m.\u001b[39;49m\u001b[43mtrain\u001b[49m\u001b[43m(\u001b[49m\u001b[43midata\u001b[49m\u001b[43m,\u001b[49m\u001b[43m \u001b[49m\u001b[43mepochs\u001b[49m\u001b[43m)\u001b[49m\n\u001b[0;32m      9\u001b[0m     som_reshaped \u001b[38;5;241m=\u001b[39m som\u001b[38;5;241m.\u001b[39m_weights\u001b[38;5;241m.\u001b[39mreshape(x\u001b[38;5;241m*\u001b[39my,\u001b[38;5;241m3\u001b[39m)\n\u001b[0;32m     10\u001b[0m     c \u001b[38;5;241m=\u001b[39m Chessboard(x, y, som_reshaped, idata, classes, dimension, high_dpi, voronoi, chessboard, interpolation, saturationIntensity, matrix[\u001b[38;5;241m0\u001b[39m])\n",
      "File \u001b[1;32md:\\TU\\1_Semster\\SOS\\Exercise_3\\PySOMVis_Coding_I_2023\\PySOMVis\\minisom.py:429\u001b[0m, in \u001b[0;36mMiniSom.train\u001b[1;34m(self, data, num_iteration, random_order, verbose, use_epochs)\u001b[0m\n\u001b[0;32m    427\u001b[0m \u001b[38;5;28;01mfor\u001b[39;00m t, iteration \u001b[38;5;129;01min\u001b[39;00m \u001b[38;5;28menumerate\u001b[39m(iterations):\n\u001b[0;32m    428\u001b[0m     decay_rate \u001b[38;5;241m=\u001b[39m get_decay_rate(t, \u001b[38;5;28mlen\u001b[39m(data))\n\u001b[1;32m--> 429\u001b[0m     \u001b[38;5;28mself\u001b[39m\u001b[38;5;241m.\u001b[39mupdate(data[iteration], \u001b[38;5;28;43mself\u001b[39;49m\u001b[38;5;241;43m.\u001b[39;49m\u001b[43mwinner\u001b[49m\u001b[43m(\u001b[49m\u001b[43mdata\u001b[49m\u001b[43m[\u001b[49m\u001b[43miteration\u001b[49m\u001b[43m]\u001b[49m\u001b[43m)\u001b[49m,\n\u001b[0;32m    430\u001b[0m                 decay_rate, num_iteration)\n\u001b[0;32m    431\u001b[0m \u001b[38;5;28;01mif\u001b[39;00m verbose:\n\u001b[0;32m    432\u001b[0m     \u001b[38;5;28mprint\u001b[39m(\u001b[38;5;124m'\u001b[39m\u001b[38;5;130;01m\\n\u001b[39;00m\u001b[38;5;124m quantization error:\u001b[39m\u001b[38;5;124m'\u001b[39m, \u001b[38;5;28mself\u001b[39m\u001b[38;5;241m.\u001b[39mquantization_error(data))\n",
      "File \u001b[1;32md:\\TU\\1_Semster\\SOS\\Exercise_3\\PySOMVis_Coding_I_2023\\PySOMVis\\minisom.py:317\u001b[0m, in \u001b[0;36mMiniSom.winner\u001b[1;34m(self, x)\u001b[0m\n\u001b[0;32m    315\u001b[0m \u001b[38;5;250m\u001b[39m\u001b[38;5;124;03m\"\"\"Computes the coordinates of the winning neuron for the sample x.\"\"\"\u001b[39;00m\n\u001b[0;32m    316\u001b[0m \u001b[38;5;28mself\u001b[39m\u001b[38;5;241m.\u001b[39m_activate(x)\n\u001b[1;32m--> 317\u001b[0m \u001b[38;5;28;01mreturn\u001b[39;00m \u001b[43munravel_index\u001b[49m\u001b[43m(\u001b[49m\u001b[38;5;28;43mself\u001b[39;49m\u001b[38;5;241;43m.\u001b[39;49m\u001b[43m_activation_map\u001b[49m\u001b[38;5;241;43m.\u001b[39;49m\u001b[43margmin\u001b[49m\u001b[43m(\u001b[49m\u001b[43m)\u001b[49m\u001b[43m,\u001b[49m\n\u001b[0;32m    318\u001b[0m \u001b[43m                     \u001b[49m\u001b[38;5;28;43mself\u001b[39;49m\u001b[38;5;241;43m.\u001b[39;49m\u001b[43m_activation_map\u001b[49m\u001b[38;5;241;43m.\u001b[39;49m\u001b[43mshape\u001b[49m\u001b[43m)\u001b[49m\n",
      "\u001b[1;31mKeyboardInterrupt\u001b[0m: "
     ]
    }
   ],
   "source": [
    "gridsearch(10,10,dim_chainlink,0.5,7,0.1,1,idata_chainlink['arr'],100_000, classes_chainlink['arr'][:,1])\n",
    "#gridsearch(100,60,dim_chainlink,0.5,7,0.1,1,idata_chainlink['arr'],10_000, classes_chainlink['arr'][:,1])"
   ]
  },
  {
   "cell_type": "code",
   "execution_count": 69,
   "id": "aef054af",
   "metadata": {},
   "outputs": [],
   "source": [
    "som_small = MiniSom(10, 10, dim_chainlink, sigma=5.5, learning_rate=0.6, random_seed=10)\n",
    "som_small.train(idata_chainlink['arr'], 100_000)\n",
    "som_small_reshaped = som_small._weights.reshape((100, 3))\n",
    "\n",
    "som_large = MiniSom(100, 60, dim_chainlink, sigma=1.5, learning_rate=0.6, random_seed=10)\n",
    "som_large.train(idata_chainlink['arr'], 10_000)\n",
    "som_large_reshaped = som_large._weights.reshape((6000, 3))"
   ]
  },
  {
   "cell_type": "markdown",
   "id": "ce8d6a02",
   "metadata": {},
   "source": [
    "### Small (10x10)"
   ]
  },
  {
   "cell_type": "code",
   "execution_count": 65,
   "id": "1712f1af",
   "metadata": {},
   "outputs": [
    {
     "data": {
      "image/png": "[encoded data removed]",
      "text/plain": [
       "<Figure size 640x480 with 1 Axes>"
      ]
     },
     "metadata": {},
     "output_type": "display_data"
    }
   ],
   "source": [
    "small_som_chainlink = Chessboard(10, 10, som_small_reshaped, idata_chainlink['arr'], classes_chainlink['arr'][:,1], \n",
    "                                 dim_chainlink, high_dpi, voronoi, chessboard, interpolation, saturationIntensity, matrix[2])\n",
    "\n",
    "plt.imshow(small_som_chainlink)\n",
    "plt.axis('off')\n",
    "plt.show()"
   ]
  },
  {
   "cell_type": "markdown",
   "id": "935ad59e",
   "metadata": {},
   "source": [
    "Using our own-trained SOM (10 x 10) with the \"Chainlink-Dataset\" we can see clusters but they don't look like they should in comparison to the PySOMVis-visualizations. This may be because of the low resolution of 10x10. And also the quadractic format instead of a rectangular one. "
   ]
  },
  {
   "cell_type": "code",
   "execution_count": 58,
   "id": "ed10c836",
   "metadata": {},
   "outputs": [
    {
     "name": "stdout",
     "output_type": "stream",
     "text": [
      "(10, 10, 3)\n",
      "(100, 3)\n",
      "(216, 3)\n"
     ]
    },
    {
     "data": {
      "image/png": "[encoded data removed]",
      "text/plain": [
       "<Figure size 640x480 with 1 Axes>"
      ]
     },
     "metadata": {},
     "output_type": "display_data"
    }
   ],
   "source": [
    "pretrained_chainlink_small = Chessboard(weights_chainlink[\"ydim\"], weights_chainlink[\"xdim\"], weights_chainlink[\"arr\"], idata_chainlink['arr'], \n",
    "               classes_chainlink['arr'][:,1], dim_chainlink, high_dpi, voronoi, chessboard, interpolation, saturationIntensity, matrix[2])\n",
    "\n",
    "\n",
    "\n",
    "plt.imshow(pretrained_chainlink_small)\n",
    "plt.axis('off')\n",
    "plt.show()"
   ]
  },
  {
   "cell_type": "markdown",
   "id": "0081b01e",
   "metadata": {},
   "source": [
    "The image using the pretrained dataset looks like the one from PySOMVis. This indicates that our own-trained SOMs aren't performing good."
   ]
  },
  {
   "cell_type": "markdown",
   "id": "80651e5e",
   "metadata": {},
   "source": [
    "### Large (100x60)"
   ]
  },
  {
   "cell_type": "code",
   "execution_count": 70,
   "id": "733290af",
   "metadata": {},
   "outputs": [
    {
     "data": {
      "image/png": "[encoded data removed]",
      "text/plain": [
       "<Figure size 640x480 with 1 Axes>"
      ]
     },
     "metadata": {},
     "output_type": "display_data"
    }
   ],
   "source": [
    "large_som_chainlink = Chessboard(100, 60, som_large_reshaped, idata_chainlink['arr'], classes_chainlink['arr'][:,1], \n",
    "               dim_chainlink, high_dpi, voronoi, chessboard, interpolation, saturationIntensity, matrix[2])\n",
    "\n",
    "plt.imshow(large_som_chainlink)\n",
    "plt.axis('off')\n",
    "plt.show()"
   ]
  },
  {
   "cell_type": "markdown",
   "id": "a4092ca9",
   "metadata": {},
   "source": [
    "Using the SOM (100 x 60) we got even worse results which don't look like the inital visualiztaion anymore. "
   ]
  },
  {
   "cell_type": "code",
   "execution_count": null,
   "id": "ca6f2f42",
   "metadata": {},
   "outputs": [],
   "source": [
    "'''\n",
    "for i in np.arange(0.1,1,0.1):\n",
    "    for j in np.arange(0.5,7,0.5):\n",
    "        if i == 0.3:\n",
    "            continue\n",
    "        print(\"\\n learning rate \",i,\"sigma \",j)\n",
    "        try:\n",
    "            som_small = MiniSom(10, 10, dim_chainlink, learning_rate=i, sigma=j)\n",
    "            som_small.train(idata_chainlink['arr'], 100000)\n",
    "            c = Chessboard(10, 10, som_small._weights, idata_chainlink['arr'], classes_chainlink['arr'][:,1], dim_chainlink, high_dpi, voronoi, chessboard, interpolation, saturationIntensity, matrix[2])\n",
    "        except Exception as e:\n",
    "            print(e)\n",
    "            continue\n",
    "'''"
   ]
  },
  {
   "cell_type": "markdown",
   "id": "455d751a",
   "metadata": {},
   "source": [
    "We also tried to visualize the Chessboard with the Mini-SOM in the training_assignment section. There we also got an error while using the given code. The error was \"TypeError: object of type 'NoneType' has no len()\". Training different SOMs like the \"somoclu\" or the \"sklearn-som\" haven't shown any improvements. "
   ]
  },
  {
   "cell_type": "markdown",
   "id": "f4edbca9",
   "metadata": {},
   "source": []
  },
  {
   "cell_type": "code",
   "execution_count": 51,
   "id": "9491075f",
   "metadata": {},
   "outputs": [
    {
     "name": "stdout",
     "output_type": "stream",
     "text": [
      "[[[ 6.54590607e-03 -6.63176947e-01  6.78931178e-01]\n",
      "  [ 1.10020315e-02 -5.90791458e-01  7.58760382e-01]\n",
      "  [ 1.47913961e-02 -5.15199335e-01  8.26679507e-01]\n",
      "  [ 1.51204743e-02 -4.23485797e-01  8.75504784e-01]\n",
      "  [ 1.08833318e-02 -2.81996640e-01  9.06385876e-01]\n",
      "  [ 4.35283302e-03 -7.25115626e-02  9.08088852e-01]\n",
      "  [ 1.73085540e-03  1.79586930e-01  8.57423277e-01]\n",
      "  [ 6.99956409e-03  4.25701570e-01  7.55504338e-01]\n",
      "  [ 1.66034491e-02  6.07664190e-01  6.49435559e-01]\n",
      "  [ 2.42867005e-02  7.10157621e-01  5.74353520e-01]]\n",
      "\n",
      " [[ 2.03658771e-03 -7.31128577e-01  5.70527150e-01]\n",
      "  [ 6.69032262e-03 -6.53390195e-01  6.63025485e-01]\n",
      "  [ 1.12562834e-02 -5.60319228e-01  7.57207782e-01]\n",
      "  [ 1.24800658e-02 -4.44628588e-01  8.34327859e-01]\n",
      "  [ 9.21999578e-03 -2.78838226e-01  8.85372568e-01]\n",
      "  [ 3.73645319e-03 -5.12188229e-02  8.92162039e-01]\n",
      "  [ 1.67637075e-03  2.13847369e-01  8.29861381e-01]\n",
      "  [ 6.34164203e-03  4.67876989e-01  7.10013949e-01]\n",
      "  [ 1.43387926e-02  6.46322528e-01  5.96659695e-01]\n",
      "  [ 2.05289928e-02  7.40329495e-01  5.24027478e-01]]\n",
      "\n",
      " [[-4.61888366e-04 -8.14787650e-01  4.09194645e-01]\n",
      "  [ 2.70737552e-03 -7.46093211e-01  4.96943832e-01]\n",
      "  [ 6.27879987e-03 -6.42669338e-01  6.11819237e-01]\n",
      "  [ 7.56404013e-03 -4.94452585e-01  7.31793232e-01]\n",
      "  [ 5.78171861e-03 -2.83119975e-01  8.24863464e-01]\n",
      "  [ 2.59320702e-03 -1.09245636e-02  8.41622474e-01]\n",
      "  [ 1.81198321e-03  2.88661247e-01  7.52237528e-01]\n",
      "  [ 5.32668055e-03  5.51903483e-01  6.04666631e-01]\n",
      "  [ 1.07820342e-02  7.17943009e-01  4.86484830e-01]\n",
      "  [ 1.50110641e-02  7.99043908e-01  4.19544015e-01]]\n",
      "\n",
      " [[ 8.84248720e-04 -8.86970787e-01  2.16846522e-01]\n",
      "  [ 2.21679123e-03 -8.41593683e-01  2.75671671e-01]\n",
      "  [ 3.40451695e-03 -7.55793821e-01  3.74273120e-01]\n",
      "  [ 3.22442391e-03 -5.98898787e-01  5.11479805e-01]\n",
      "  [ 2.17424881e-03 -3.11463986e-01  6.42630684e-01]\n",
      "  [ 1.20747308e-03  8.76492393e-02  6.60585028e-01]\n",
      "  [ 1.63291531e-03  4.53283571e-01  5.45019113e-01]\n",
      "  [ 3.76287960e-03  6.94832005e-01  4.02747626e-01]\n",
      "  [ 6.64204022e-03  8.18839633e-01  3.10643772e-01]\n",
      "  [ 9.02207632e-03  8.73939918e-01  2.65035068e-01]]\n",
      "\n",
      " [[ 4.34329081e-03 -9.23980759e-01  2.67023859e-02]\n",
      "  [ 4.65556920e-03 -8.97317675e-01  4.52429510e-02]\n",
      "  [ 3.83071852e-03 -8.39065005e-01  8.47050017e-02]\n",
      "  [ 2.03652041e-03 -6.97546326e-01  1.49885819e-01]\n",
      "  [ 9.79794149e-04 -3.15878245e-01  1.94787558e-01]\n",
      "  [ 3.14194027e-04  2.37792479e-01  1.93059602e-01]\n",
      "  [ 6.07874447e-04  6.31527957e-01  1.70616691e-01]\n",
      "  [ 1.64884295e-03  8.17188363e-01  1.33990734e-01]\n",
      "  [ 2.78790762e-03  8.93428245e-01  1.06143909e-01]\n",
      "  [ 3.96398265e-03  9.24604951e-01  9.34745108e-02]]\n",
      "\n",
      " [[ 7.52187896e-03 -9.18582304e-01 -1.42451566e-01]\n",
      "  [ 7.43294367e-03 -8.93071969e-01 -1.58873025e-01]\n",
      "  [ 5.18104033e-03 -8.33467792e-01 -1.88361623e-01]\n",
      "  [ 2.02799432e-03 -6.72786164e-01 -2.42804346e-01]\n",
      "  [ 2.51754534e-04 -2.53077232e-01 -3.44580539e-01]\n",
      "  [-1.26368404e-03  2.89508833e-01 -3.64111009e-01]\n",
      "  [-1.27266056e-03  6.52992699e-01 -2.53768868e-01]\n",
      "  [-3.10562190e-04  8.24913442e-01 -1.53803897e-01]\n",
      "  [ 1.98591077e-04  8.96022577e-01 -1.05817110e-01]\n",
      "  [ 6.97679421e-04  9.25445392e-01 -8.30012684e-02]]\n",
      "\n",
      " [[ 8.14234854e-03 -8.68261274e-01 -3.06655779e-01]\n",
      "  [ 7.75260707e-03 -8.28407824e-01 -3.45727464e-01]\n",
      "  [ 4.26197370e-03 -7.36742788e-01 -4.21099944e-01]\n",
      "  [-1.43877077e-04 -5.31851724e-01 -5.39222225e-01]\n",
      "  [-2.62019606e-03 -1.59831640e-01 -6.70711311e-01]\n",
      "  [-3.35302322e-03  2.43098501e-01 -6.92440554e-01]\n",
      "  [-2.54253123e-03  5.40355571e-01 -5.73774834e-01]\n",
      "  [-1.35015508e-03  7.28759959e-01 -4.23278788e-01]\n",
      "  [-1.00604145e-03  8.31962114e-01 -3.19138532e-01]\n",
      "  [-9.83282279e-04  8.82048990e-01 -2.61796347e-01]]\n",
      "\n",
      " [[ 4.81501667e-03 -7.70694793e-01 -4.83853697e-01]\n",
      "  [ 4.30558100e-03 -7.11101592e-01 -5.31204835e-01]\n",
      "  [ 6.24970126e-04 -5.87631005e-01 -6.15316848e-01]\n",
      "  [-3.38082898e-03 -3.67581740e-01 -7.26851473e-01]\n",
      "  [-4.67032941e-03 -7.36740569e-02 -8.19176770e-01]\n",
      "  [-3.36972400e-03  2.03562660e-01 -8.28661463e-01]\n",
      "  [-1.28237639e-03  4.29815315e-01 -7.46204479e-01]\n",
      "  [-1.18530871e-04  6.12119061e-01 -6.16854842e-01]\n",
      "  [-3.80800137e-04  7.40401439e-01 -4.98995759e-01]\n",
      "  [-1.35771470e-03  8.16299147e-01 -4.19775823e-01]]\n",
      "\n",
      " [[-6.04978188e-05 -6.46062046e-01 -6.54033857e-01]\n",
      "  [-3.11789268e-04 -5.75310320e-01 -6.95222872e-01]\n",
      "  [-3.14426267e-03 -4.43202261e-01 -7.58970360e-01]\n",
      "  [-5.61763695e-03 -2.40505071e-01 -8.32941054e-01]\n",
      "  [-4.94991104e-03 -1.15353553e-02 -8.82532058e-01]\n",
      "  [-1.83382977e-03  1.89642092e-01 -8.79831080e-01]\n",
      "  [ 1.21246425e-03  3.64740562e-01 -8.22878106e-01]\n",
      "  [ 2.27864780e-03  5.24991348e-01 -7.27160292e-01]\n",
      "  [ 9.99886872e-04  6.57218857e-01 -6.23361480e-01]\n",
      "  [-2.57314914e-03  7.53735942e-01 -5.37039217e-01]]\n",
      "\n",
      " [[-3.23232647e-03 -5.32736729e-01 -7.80330994e-01]\n",
      "  [-3.13765415e-03 -4.64666290e-01 -8.08696890e-01]\n",
      "  [-5.11382430e-03 -3.40983141e-01 -8.47618223e-01]\n",
      "  [-6.47560797e-03 -1.64100160e-01 -8.88816883e-01]\n",
      "  [-4.85615589e-03  2.14267304e-02 -9.11559835e-01]\n",
      "  [-1.31140815e-03  1.81232468e-01 -9.02317851e-01]\n",
      "  [ 1.54560427e-03  3.26605775e-01 -8.59024307e-01]\n",
      "  [ 1.76653601e-03  4.68835838e-01 -7.86022709e-01]\n",
      "  [-2.08985060e-03  6.01098085e-01 -6.96092239e-01]\n",
      "  [-1.45165199e-02  7.27004004e-01 -5.99554987e-01]]]\n"
     ]
    },
    {
     "ename": "ValueError",
     "evalue": "cannot reshape array of size 10 into shape (10,10)",
     "output_type": "error",
     "traceback": [
      "\u001b[1;31m---------------------------------------------------------------------------\u001b[0m",
      "\u001b[1;31mValueError\u001b[0m                                Traceback (most recent call last)",
      "Cell \u001b[1;32mIn[51], line 36\u001b[0m\n\u001b[0;32m     33\u001b[0m     plt\u001b[38;5;241m.\u001b[39mtight_layout()\n\u001b[0;32m     34\u001b[0m     plt\u001b[38;5;241m.\u001b[39mshow()\n\u001b[1;32m---> 36\u001b[0m \u001b[43mprintChessboards\u001b[49m\u001b[43m(\u001b[49m\u001b[38;5;241;43m10\u001b[39;49m\u001b[43m,\u001b[49m\u001b[38;5;241;43m10\u001b[39;49m\u001b[43m,\u001b[49m\u001b[43msom_small\u001b[49m\u001b[38;5;241;43m.\u001b[39;49m\u001b[43m_weights\u001b[49m\u001b[43m,\u001b[49m\u001b[43midata_chainlink\u001b[49m\u001b[43m[\u001b[49m\u001b[38;5;124;43m'\u001b[39;49m\u001b[38;5;124;43marr\u001b[39;49m\u001b[38;5;124;43m'\u001b[39;49m\u001b[43m]\u001b[49m\u001b[43m,\u001b[49m\u001b[43m \u001b[49m\u001b[43mclasses_chainlink\u001b[49m\u001b[43m[\u001b[49m\u001b[38;5;124;43m'\u001b[39;49m\u001b[38;5;124;43marr\u001b[39;49m\u001b[38;5;124;43m'\u001b[39;49m\u001b[43m]\u001b[49m\u001b[43m[\u001b[49m\u001b[43m:\u001b[49m\u001b[43m,\u001b[49m\u001b[38;5;241;43m1\u001b[39;49m\u001b[43m]\u001b[49m\u001b[43m,\u001b[49m\u001b[43mdim_chainlink\u001b[49m\u001b[43m,\u001b[49m\u001b[43mhigh_dpi\u001b[49m\u001b[43m,\u001b[49m\u001b[43m \u001b[49m\u001b[43mvoronoi\u001b[49m\u001b[43m,\u001b[49m\u001b[43m \u001b[49m\u001b[43mchessboard\u001b[49m\u001b[43m,\u001b[49m\u001b[43m \u001b[49m\u001b[43minterpolation\u001b[49m\u001b[43m,\u001b[49m\u001b[43m \u001b[49m\u001b[43msaturationIntensity\u001b[49m\u001b[43m)\u001b[49m\n\u001b[0;32m     37\u001b[0m printChessboards(\u001b[38;5;241m100\u001b[39m,\u001b[38;5;241m60\u001b[39m,som_large\u001b[38;5;241m.\u001b[39m_weights,idata_chainlink[\u001b[38;5;124m'\u001b[39m\u001b[38;5;124marr\u001b[39m\u001b[38;5;124m'\u001b[39m], classes_chainlink[\u001b[38;5;124m'\u001b[39m\u001b[38;5;124marr\u001b[39m\u001b[38;5;124m'\u001b[39m][:,\u001b[38;5;241m1\u001b[39m],dim_chainlink,high_dpi, voronoi, chessboard, interpolation, saturationIntensity)\n",
      "Cell \u001b[1;32mIn[51], line 10\u001b[0m, in \u001b[0;36mprintChessboards\u001b[1;34m(x, y, SOM, idata, classes, dimension, high_dpi, voronoi, chessboard, interpolation, saturationIntensity)\u001b[0m\n\u001b[0;32m      8\u001b[0m chessboard_list \u001b[38;5;241m=\u001b[39m []\n\u001b[0;32m      9\u001b[0m \u001b[38;5;28;01mfor\u001b[39;00m m \u001b[38;5;129;01min\u001b[39;00m matrix:\n\u001b[1;32m---> 10\u001b[0m     chessboard_list\u001b[38;5;241m.\u001b[39mappend(\u001b[43mChessboard\u001b[49m\u001b[43m(\u001b[49m\u001b[43mx\u001b[49m\u001b[43m,\u001b[49m\u001b[43m \u001b[49m\u001b[43my\u001b[49m\u001b[43m,\u001b[49m\u001b[43m \u001b[49m\u001b[43mSOM\u001b[49m\u001b[43m,\u001b[49m\u001b[43m \u001b[49m\u001b[43midata\u001b[49m\u001b[43m,\u001b[49m\u001b[43m \u001b[49m\u001b[43mclasses\u001b[49m\u001b[43m,\u001b[49m\u001b[43m \u001b[49m\n\u001b[0;32m     11\u001b[0m \u001b[43m               \u001b[49m\u001b[43mdimension\u001b[49m\u001b[43m,\u001b[49m\u001b[43m \u001b[49m\u001b[43mhigh_dpi\u001b[49m\u001b[43m,\u001b[49m\u001b[43m \u001b[49m\u001b[43mvoronoi\u001b[49m\u001b[43m,\u001b[49m\u001b[43m \u001b[49m\u001b[43mchessboard\u001b[49m\u001b[43m,\u001b[49m\u001b[43m \u001b[49m\u001b[43minterpolation\u001b[49m\u001b[43m,\u001b[49m\u001b[43m \u001b[49m\u001b[43msaturationIntensity\u001b[49m\u001b[43m,\u001b[49m\u001b[43m \u001b[49m\u001b[43mm\u001b[49m\u001b[43m)\u001b[49m)\n\u001b[0;32m     13\u001b[0m fig, axs \u001b[38;5;241m=\u001b[39m plt\u001b[38;5;241m.\u001b[39msubplots(\u001b[38;5;241m1\u001b[39m, \u001b[38;5;241m5\u001b[39m, figsize\u001b[38;5;241m=\u001b[39m(\u001b[38;5;241m12\u001b[39m, \u001b[38;5;241m4\u001b[39m))\n\u001b[0;32m     15\u001b[0m \u001b[38;5;28;01mfor\u001b[39;00m ax \u001b[38;5;129;01min\u001b[39;00m axs:\n",
      "Cell \u001b[1;32mIn[45], line 229\u001b[0m, in \u001b[0;36mChessboard\u001b[1;34m(_m, _n, _weights, _idata, _classes, _dim, _dpi, _voronoi_lines, _chessboard, interpolation, saturationIntensity, matrix)\u001b[0m\n\u001b[0;32m    227\u001b[0m \tweights_u \u001b[38;5;241m=\u001b[39m SDH(_m, _n, _weights, _idata, \u001b[38;5;241m25\u001b[39m, \u001b[38;5;241m0\u001b[39m)\n\u001b[0;32m    228\u001b[0m \u001b[38;5;28;01melif\u001b[39;00m matrix \u001b[38;5;241m==\u001b[39m \u001b[38;5;124m\"\u001b[39m\u001b[38;5;124mPMatrix\u001b[39m\u001b[38;5;124m\"\u001b[39m:\n\u001b[1;32m--> 229\u001b[0m \tweights_u \u001b[38;5;241m=\u001b[39m \u001b[43mPMatrix\u001b[49m\u001b[43m(\u001b[49m\u001b[43m_m\u001b[49m\u001b[43m,\u001b[49m\u001b[43m \u001b[49m\u001b[43m_n\u001b[49m\u001b[43m,\u001b[49m\u001b[43m \u001b[49m\u001b[43m_weights\u001b[49m\u001b[43m,\u001b[49m\u001b[43m \u001b[49m\u001b[43m_idata\u001b[49m\u001b[43m,\u001b[49m\u001b[43m \u001b[49m\u001b[38;5;241;43m1.014889156509222\u001b[39;49m\u001b[43m)\u001b[49m\n\u001b[0;32m    230\u001b[0m \u001b[38;5;28;01melif\u001b[39;00m matrix \u001b[38;5;241m==\u001b[39m \u001b[38;5;124m\"\u001b[39m\u001b[38;5;124mUStarMatrix\u001b[39m\u001b[38;5;124m\"\u001b[39m:\n\u001b[0;32m    231\u001b[0m \tweights_u \u001b[38;5;241m=\u001b[39m UStarMatrix(_m, _n, _weights, _idata, _dim, \u001b[38;5;241m1.014889156509222\u001b[39m)\n",
      "Cell \u001b[1;32mIn[35], line 67\u001b[0m, in \u001b[0;36mPMatrix\u001b[1;34m(_m, _n, _weights, _idata, _radius)\u001b[0m\n\u001b[0;32m     65\u001b[0m distance \u001b[38;5;241m=\u001b[39m \u001b[38;5;28;01mlambda\u001b[39;00m v: np\u001b[38;5;241m.\u001b[39msum(np\u001b[38;5;241m.\u001b[39mlinalg\u001b[38;5;241m.\u001b[39mnorm(_idata[:, \u001b[38;5;28;01mNone\u001b[39;00m, :] \u001b[38;5;241m-\u001b[39m v, axis\u001b[38;5;241m=\u001b[39m\u001b[38;5;241m-\u001b[39m\u001b[38;5;241m1\u001b[39m) \u001b[38;5;241m<\u001b[39m _radius)\n\u001b[0;32m     66\u001b[0m plot \u001b[38;5;241m=\u001b[39m np\u001b[38;5;241m.\u001b[39marray([distance(v) \u001b[38;5;28;01mfor\u001b[39;00m v \u001b[38;5;129;01min\u001b[39;00m _weights])\n\u001b[1;32m---> 67\u001b[0m pm \u001b[38;5;241m=\u001b[39m \u001b[43mplot\u001b[49m\u001b[38;5;241;43m.\u001b[39;49m\u001b[43mreshape\u001b[49m\u001b[43m(\u001b[49m\u001b[43m_m\u001b[49m\u001b[43m,\u001b[49m\u001b[43m \u001b[49m\u001b[43m_n\u001b[49m\u001b[43m)\u001b[49m  \u001b[38;5;66;03m# Reshape according to your matrix dimensions\u001b[39;00m\n\u001b[0;32m     69\u001b[0m \u001b[38;5;28;01mreturn\u001b[39;00m pm\n",
      "\u001b[1;31mValueError\u001b[0m: cannot reshape array of size 10 into shape (10,10)"
     ]
    }
   ],
   "source": [
    "\n",
    "import matplotlib.image as mpimg\n",
    "\n",
    "saturationIntensity=0.5\n",
    "\n",
    "def printChessboards(x,y,SOM,idata,classes,dimension,high_dpi, voronoi, chessboard, interpolation, saturationIntensity):\n",
    "\n",
    "\n",
    "    chessboard_list = []\n",
    "    for m in matrix:\n",
    "        chessboard_list.append(Chessboard(x, y, SOM, idata, classes, \n",
    "                   dimension, high_dpi, voronoi, chessboard, interpolation, saturationIntensity, m))\n",
    "\n",
    "    fig, axs = plt.subplots(1, 5, figsize=(12, 4))\n",
    "\n",
    "    for ax in axs:\n",
    "        ax.axis('off')\n",
    "\n",
    "    axs[0].imshow(chessboard_list[0])\n",
    "    axs[0].set_title('Default')\n",
    "\n",
    "    axs[1].imshow(chessboard_list[1])\n",
    "    axs[1].set_title('U-Matrix')\n",
    "\n",
    "    axs[2].imshow(chessboard_list[2])\n",
    "    axs[2].set_title('P-Matrix')\n",
    "\n",
    "    axs[3].imshow(chessboard_list[3])\n",
    "    axs[3].set_title('SHD')\n",
    "\n",
    "    axs[4].imshow(chessboard_list[4])\n",
    "    axs[4].set_title('UStar-Matrix')\n",
    "\n",
    "    plt.tight_layout()\n",
    "    plt.show()\n",
    "\n",
    "printChessboards(10,10,som_small._weights,idata_chainlink['arr'], classes_chainlink['arr'][:,1],dim_chainlink,high_dpi, voronoi, chessboard, interpolation, saturationIntensity)\n",
    "printChessboards(100,60,som_large._weights,idata_chainlink['arr'], classes_chainlink['arr'][:,1],dim_chainlink,high_dpi, voronoi, chessboard, interpolation, saturationIntensity)"
   ]
  },
  {
   "cell_type": "markdown",
   "id": "b078c2c3",
   "metadata": {},
   "source": [
    "## Dataset 2: 10clusters"
   ]
  },
  {
   "cell_type": "markdown",
   "id": "a75b1a3b",
   "metadata": {},
   "source": [
    "For the 10clusters-dataset we again trained two different SOMs. For both we used the MiniSOM implementation. The first, smaller one, has a resolution of 10 x 10. The second one 100 x 60. After trying several parameters the beneath implementation shows our best attempts. \n",
    "\n",
    "SOM (10 x 10):\n",
    "\n",
    "- Sigma = 7\n",
    "- Learning-Rate = 0.3\n",
    "- Epochs = 100_000\n",
    "\n",
    "SOM (100 x 60):\n",
    "\n",
    "- Sigma = 7\n",
    "- Learning-Rate = 0.3\n",
    "- Epochs = 100_000\n",
    "\n",
    "The best parameters were once determined using a grid-search alike function and once through simply trying out. Nevertheless, none of the parameters setings observed led to a clear representation of the expected structure. "
   ]
  },
  {
   "cell_type": "markdown",
   "id": "d812ffce",
   "metadata": {},
   "source": [
    "### Trained SOM's"
   ]
  },
  {
   "cell_type": "code",
   "execution_count": null,
   "id": "67813381",
   "metadata": {},
   "outputs": [],
   "source": [
    "som_small = MiniSom(10, 10, dim_10cluster)\n",
    "som_small.train(idata_10cluster['arr'], 100_000)\n",
    "\n",
    "som_large = MiniSom(100, 60, dim_10cluster)\n",
    "som_large.train(idata_10cluster['arr'], 10_000)\n"
   ]
  },
  {
   "cell_type": "markdown",
   "id": "f379a12b",
   "metadata": {},
   "source": [
    "### Small (10x10)"
   ]
  },
  {
   "cell_type": "code",
   "execution_count": null,
   "id": "ac795318",
   "metadata": {},
   "outputs": [],
   "source": [
    "c = Chessboard(10, 10, som_small._weights, idata_10cluster['arr'], classes_10cluster['arr'][:,1], \n",
    "               dim_10cluster, high_dpi, voronoi, chessboard, interpolation, saturationIntensity, matrix[2])"
   ]
  },
  {
   "cell_type": "markdown",
   "id": "d623bc8b",
   "metadata": {},
   "source": [
    "### Large (100x60)"
   ]
  },
  {
   "cell_type": "code",
   "execution_count": null,
   "id": "05de3628",
   "metadata": {},
   "outputs": [],
   "source": [
    "c = Chessboard(100, 60, som_large._weights, idata_10cluster['arr'], classes_10cluster['arr'][:,1], \n",
    "               dim_10cluster, high_dpi, voronoi, chessboard, interpolation, saturationIntensity, matrix[2])"
   ]
  },
  {
   "cell_type": "markdown",
   "id": "2a6d42a8",
   "metadata": {},
   "source": [
    "Using pretrained weights"
   ]
  },
  {
   "cell_type": "code",
   "execution_count": null,
   "id": "97fc5c15",
   "metadata": {},
   "outputs": [],
   "source": [
    "som_10clusters_pretrained = Chessboard(weights_10cluster['ydim'], weights_10cluster['ydim'], weights_10cluster['arr'], idata_10cluster['arr'], classes_10cluster['arr'][:,1], \n",
    "               dim_10cluster, high_dpi, voronoi, chessboard, interpolation, saturationIntensity, matrix[2])"
   ]
  },
  {
   "cell_type": "markdown",
   "id": "75f50bf9",
   "metadata": {},
   "source": [
    "The image resulting of the pretrained dataset looks alike as the one for PySOMVis. "
   ]
  }
 ],
 "metadata": {
  "kernelspec": {
   "display_name": "Python 3 (ipykernel)",
   "language": "python",
   "name": "python3"
  },
  "language_info": {
   "codemirror_mode": {
    "name": "ipython",
    "version": 3
   },
   "file_extension": ".py",
   "mimetype": "text/x-python",
   "name": "python",
   "nbconvert_exporter": "python",
   "pygments_lexer": "ipython3",
   "version": "3.11.7"
  }
 },
 "nbformat": 4,
 "nbformat_minor": 5
}
